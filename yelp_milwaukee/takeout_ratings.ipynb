{
 "cells": [
  {
   "cell_type": "markdown",
   "id": "a6401229-d7a4-4239-bb27-9902edb4260a",
   "metadata": {
    "jp-MarkdownHeadingCollapsed": true,
    "tags": []
   },
   "source": [
    "***\n",
    "<font size=6 color='blue'>API Data Collection - Yelp</font>   \n",
    "***  \n",
    "\n",
    "**Notebook Scope:**  \n",
    "This notebook includes code to retrieve ratings data from the [Yelp](https://yelp.com/) site's API. Data validation and transformation is also completed.\n",
    "\n",
    "**Output:**  \n",
    "The resulting data is saved to a Excel file for further analysis.\n",
    "***  "
   ]
  },
  {
   "cell_type": "markdown",
   "id": "6fbdbe78-45ef-45e9-aa24-7a404b633884",
   "metadata": {
    "tags": []
   },
   "source": [
    "\n",
    "# Notebook Setup\n",
    "***"
   ]
  },
  {
   "cell_type": "code",
   "execution_count": 1,
   "id": "e3e04588-e5b2-4182-a7fb-b6f2d978a0d6",
   "metadata": {},
   "outputs": [],
   "source": [
    "# Import libraries\n",
    "import requests\n",
    "import json\n",
    "import pandas as pd"
   ]
  },
  {
   "cell_type": "code",
   "execution_count": 2,
   "id": "995d4c72-db92-44da-84d8-4e1141f9bd12",
   "metadata": {},
   "outputs": [],
   "source": [
    "# Set pandas display settings\n",
    "pd.set_option('max_colwidth', 30)"
   ]
  },
  {
   "cell_type": "markdown",
   "id": "2443d95a-7e1c-4b7f-927c-6cf71cdf300d",
   "metadata": {
    "tags": []
   },
   "source": [
    "***  \n",
    "# Submit Search\n",
    "***"
   ]
  },
  {
   "cell_type": "code",
   "execution_count": 3,
   "id": "aa651ce2-042e-4c7d-a32e-67a0c62b4446",
   "metadata": {},
   "outputs": [],
   "source": [
    "url = 'https://api.yelp.com/v3/businesses/search?location=Milwaukee%2C%20WI&attributes=restaurants_takeout&sort_by=best_match&limit=50'\n",
    "headers = {'accept': 'application/json',\n",
    "          'Authorization': 'Bearer x'}\n",
    "\n",
    "response = requests.get(url, headers=headers)"
   ]
  },
  {
   "cell_type": "code",
   "execution_count": 4,
   "id": "78e51c5d-fc3d-453c-a413-0ac3d5dcbbeb",
   "metadata": {},
   "outputs": [
    {
     "data": {
      "text/plain": [
       "200"
      ]
     },
     "execution_count": 4,
     "metadata": {},
     "output_type": "execute_result"
    }
   ],
   "source": [
    "response.status_code"
   ]
  },
  {
   "cell_type": "markdown",
   "id": "7e2e3844-937d-4c94-8e1c-4929b9fd44d6",
   "metadata": {},
   "source": [
    "***\n",
    "# Process Response\n",
    "***"
   ]
  },
  {
   "cell_type": "code",
   "execution_count": 5,
   "id": "fccb64c3-e087-452f-b398-83298969dcd6",
   "metadata": {},
   "outputs": [],
   "source": [
    "# Load the results as JSON\n",
    "results_json = json.loads(response.text)"
   ]
  },
  {
   "cell_type": "code",
   "execution_count": 6,
   "id": "6c83f038-63b0-4581-a6e8-044fb8be5a49",
   "metadata": {},
   "outputs": [
    {
     "data": {
      "text/plain": [
       "'St Paul Fish Company'"
      ]
     },
     "execution_count": 6,
     "metadata": {},
     "output_type": "execute_result"
    }
   ],
   "source": [
    "# Test results by listing the name of the first business\n",
    "results_json['businesses'][0]['name']"
   ]
  },
  {
   "cell_type": "code",
   "execution_count": 7,
   "id": "c4323dd5-0725-4bea-ba4a-b3532a6ce121",
   "metadata": {},
   "outputs": [],
   "source": [
    "# Create dataframe to hold results\n",
    "rest_df = pd.DataFrame(columns=['name', 'yelp_url', 'review_count', 'rating', 'price', 'categories', 'address'])"
   ]
  },
  {
   "cell_type": "code",
   "execution_count": 8,
   "id": "f63fd981-e4b8-4b36-808a-2bcc196bb611",
   "metadata": {},
   "outputs": [
    {
     "name": "stdout",
     "output_type": "stream",
     "text": [
      "2600\n"
     ]
    }
   ],
   "source": [
    "# Find out how many total results are available for retrieval\n",
    "total_results = results_json['total']\n",
    "print(total_results)"
   ]
  },
  {
   "cell_type": "code",
   "execution_count": 9,
   "id": "e3510eac-45e8-43c6-b6be-378f48201228",
   "metadata": {},
   "outputs": [],
   "source": [
    "# Process first 50 rows\n",
    "for item in results_json['businesses']:\n",
    "    row = len(rest_df)\n",
    "    rest_df.at[row, 'name'] = item['name']\n",
    "    rest_df.at[row, 'yelp_url'] = item['url']\n",
    "    rest_df.at[row, 'review_count'] = item['review_count']\n",
    "    rest_df.at[row, 'rating'] = item['rating']\n",
    "    rest_df.at[row, 'price'] = item.get('price', '')\n",
    "    rest_df.at[row, 'categories'] = [x['title'] for x in item['categories']]\n",
    "    rest_df.at[row, 'address'] = ' '.join([x for x in item['location']['display_address']])"
   ]
  },
  {
   "cell_type": "code",
   "execution_count": 10,
   "id": "e5b24ff6-7a65-40a2-9a8f-9b3ca8120365",
   "metadata": {},
   "outputs": [
    {
     "data": {
      "text/html": [
       "<div>\n",
       "<style scoped>\n",
       "    .dataframe tbody tr th:only-of-type {\n",
       "        vertical-align: middle;\n",
       "    }\n",
       "\n",
       "    .dataframe tbody tr th {\n",
       "        vertical-align: top;\n",
       "    }\n",
       "\n",
       "    .dataframe thead th {\n",
       "        text-align: right;\n",
       "    }\n",
       "</style>\n",
       "<table border=\"1\" class=\"dataframe\">\n",
       "  <thead>\n",
       "    <tr style=\"text-align: right;\">\n",
       "      <th></th>\n",
       "      <th>name</th>\n",
       "      <th>yelp_url</th>\n",
       "      <th>review_count</th>\n",
       "      <th>rating</th>\n",
       "      <th>price</th>\n",
       "      <th>categories</th>\n",
       "      <th>address</th>\n",
       "    </tr>\n",
       "  </thead>\n",
       "  <tbody>\n",
       "    <tr>\n",
       "      <th>0</th>\n",
       "      <td>St Paul Fish Company</td>\n",
       "      <td>https://www.yelp.com/biz/s...</td>\n",
       "      <td>1360</td>\n",
       "      <td>4.4</td>\n",
       "      <td>$$</td>\n",
       "      <td>[Seafood, Seafood Markets]</td>\n",
       "      <td>400 N Water St Milwaukee, ...</td>\n",
       "    </tr>\n",
       "    <tr>\n",
       "      <th>1</th>\n",
       "      <td>Odd Duck</td>\n",
       "      <td>https://www.yelp.com/biz/o...</td>\n",
       "      <td>949</td>\n",
       "      <td>4.5</td>\n",
       "      <td>$$</td>\n",
       "      <td>[New American, Vegetarian,...</td>\n",
       "      <td>939 S 2nd St Milwaukee, WI...</td>\n",
       "    </tr>\n",
       "    <tr>\n",
       "      <th>2</th>\n",
       "      <td>Blue's Egg</td>\n",
       "      <td>https://www.yelp.com/biz/b...</td>\n",
       "      <td>1964</td>\n",
       "      <td>4.5</td>\n",
       "      <td>$$</td>\n",
       "      <td>[Breakfast &amp; Brunch, Ameri...</td>\n",
       "      <td>317 N 76th St Milwaukee, W...</td>\n",
       "    </tr>\n",
       "    <tr>\n",
       "      <th>3</th>\n",
       "      <td>Swingin' Door Exchange</td>\n",
       "      <td>https://www.yelp.com/biz/s...</td>\n",
       "      <td>1098</td>\n",
       "      <td>4.5</td>\n",
       "      <td>$$</td>\n",
       "      <td>[New American, Pubs]</td>\n",
       "      <td>219 E Michigan St Milwauke...</td>\n",
       "    </tr>\n",
       "    <tr>\n",
       "      <th>4</th>\n",
       "      <td>La Merenda</td>\n",
       "      <td>https://www.yelp.com/biz/l...</td>\n",
       "      <td>756</td>\n",
       "      <td>4.4</td>\n",
       "      <td>$$</td>\n",
       "      <td>[Tapas Bars, Tapas/Small P...</td>\n",
       "      <td>125 E National Ave Milwauk...</td>\n",
       "    </tr>\n",
       "  </tbody>\n",
       "</table>\n",
       "</div>"
      ],
      "text/plain": [
       "                     name                       yelp_url review_count rating  \\\n",
       "0    St Paul Fish Company  https://www.yelp.com/biz/s...         1360    4.4   \n",
       "1                Odd Duck  https://www.yelp.com/biz/o...          949    4.5   \n",
       "2              Blue's Egg  https://www.yelp.com/biz/b...         1964    4.5   \n",
       "3  Swingin' Door Exchange  https://www.yelp.com/biz/s...         1098    4.5   \n",
       "4              La Merenda  https://www.yelp.com/biz/l...          756    4.4   \n",
       "\n",
       "  price                     categories                        address  \n",
       "0    $$     [Seafood, Seafood Markets]  400 N Water St Milwaukee, ...  \n",
       "1    $$  [New American, Vegetarian,...  939 S 2nd St Milwaukee, WI...  \n",
       "2    $$  [Breakfast & Brunch, Ameri...  317 N 76th St Milwaukee, W...  \n",
       "3    $$           [New American, Pubs]  219 E Michigan St Milwauke...  \n",
       "4    $$  [Tapas Bars, Tapas/Small P...  125 E National Ave Milwauk...  "
      ]
     },
     "execution_count": 10,
     "metadata": {},
     "output_type": "execute_result"
    }
   ],
   "source": [
    "# Preview dataframe\n",
    "rest_df.head()"
   ]
  },
  {
   "cell_type": "code",
   "execution_count": 11,
   "id": "fa93f06d-92d3-41a6-bdd2-8daddcd7743f",
   "metadata": {},
   "outputs": [],
   "source": [
    "# Repeat process for the rest of the results\n",
    "base_url = 'https://api.yelp.com/v3/businesses/search?location=Milwaukee%2C%20WI&attributes=restaurants_takeout&sort_by=best_match&limit=50'\n",
    "offset = 50\n",
    "api_max = 200\n",
    "while offset < api_max:\n",
    "    url = base_url + '&offset=' + str(offset)\n",
    "    response = requests.get(url, headers=headers)\n",
    "    results_json = json.loads(response.text)\n",
    "\n",
    "    for item in results_json['businesses']:\n",
    "        row = len(rest_df)\n",
    "        rest_df.at[row, 'name'] = item['name']\n",
    "        rest_df.at[row, 'yelp_url'] = item['url']\n",
    "        rest_df.at[row, 'review_count'] = item['review_count']\n",
    "        rest_df.at[row, 'rating'] = item['rating']\n",
    "        rest_df.at[row, 'price'] = item.get('price', '')\n",
    "        rest_df.at[row, 'categories'] = [x['title'] for x in item['categories']]\n",
    "        rest_df.at[row, 'address'] = ' '.join([x for x in item['location']['display_address']])\n",
    "    \n",
    "    offset += 50"
   ]
  },
  {
   "cell_type": "markdown",
   "id": "59773bf3-5cd0-4f47-aaef-e9c038142977",
   "metadata": {},
   "source": [
    "***\n",
    "# Data Prep\n",
    "***"
   ]
  },
  {
   "cell_type": "code",
   "execution_count": 12,
   "id": "b35bfc20-8b03-45b9-a95a-7952fcb65570",
   "metadata": {},
   "outputs": [
    {
     "data": {
      "text/html": [
       "<div>\n",
       "<style scoped>\n",
       "    .dataframe tbody tr th:only-of-type {\n",
       "        vertical-align: middle;\n",
       "    }\n",
       "\n",
       "    .dataframe tbody tr th {\n",
       "        vertical-align: top;\n",
       "    }\n",
       "\n",
       "    .dataframe thead th {\n",
       "        text-align: right;\n",
       "    }\n",
       "</style>\n",
       "<table border=\"1\" class=\"dataframe\">\n",
       "  <thead>\n",
       "    <tr style=\"text-align: right;\">\n",
       "      <th></th>\n",
       "      <th>name</th>\n",
       "      <th>yelp_url</th>\n",
       "      <th>review_count</th>\n",
       "      <th>rating</th>\n",
       "      <th>price</th>\n",
       "      <th>categories</th>\n",
       "      <th>address</th>\n",
       "    </tr>\n",
       "  </thead>\n",
       "  <tbody>\n",
       "    <tr>\n",
       "      <th>0</th>\n",
       "      <td>St Paul Fish Company</td>\n",
       "      <td>https://www.yelp.com/biz/s...</td>\n",
       "      <td>1360</td>\n",
       "      <td>4.4</td>\n",
       "      <td>$$</td>\n",
       "      <td>[Seafood, Seafood Markets]</td>\n",
       "      <td>400 N Water St Milwaukee, ...</td>\n",
       "    </tr>\n",
       "    <tr>\n",
       "      <th>1</th>\n",
       "      <td>Odd Duck</td>\n",
       "      <td>https://www.yelp.com/biz/o...</td>\n",
       "      <td>949</td>\n",
       "      <td>4.5</td>\n",
       "      <td>$$</td>\n",
       "      <td>[New American, Vegetarian,...</td>\n",
       "      <td>939 S 2nd St Milwaukee, WI...</td>\n",
       "    </tr>\n",
       "    <tr>\n",
       "      <th>2</th>\n",
       "      <td>Blue's Egg</td>\n",
       "      <td>https://www.yelp.com/biz/b...</td>\n",
       "      <td>1964</td>\n",
       "      <td>4.5</td>\n",
       "      <td>$$</td>\n",
       "      <td>[Breakfast &amp; Brunch, Ameri...</td>\n",
       "      <td>317 N 76th St Milwaukee, W...</td>\n",
       "    </tr>\n",
       "    <tr>\n",
       "      <th>3</th>\n",
       "      <td>Swingin' Door Exchange</td>\n",
       "      <td>https://www.yelp.com/biz/s...</td>\n",
       "      <td>1098</td>\n",
       "      <td>4.5</td>\n",
       "      <td>$$</td>\n",
       "      <td>[New American, Pubs]</td>\n",
       "      <td>219 E Michigan St Milwauke...</td>\n",
       "    </tr>\n",
       "    <tr>\n",
       "      <th>4</th>\n",
       "      <td>La Merenda</td>\n",
       "      <td>https://www.yelp.com/biz/l...</td>\n",
       "      <td>756</td>\n",
       "      <td>4.4</td>\n",
       "      <td>$$</td>\n",
       "      <td>[Tapas Bars, Tapas/Small P...</td>\n",
       "      <td>125 E National Ave Milwauk...</td>\n",
       "    </tr>\n",
       "  </tbody>\n",
       "</table>\n",
       "</div>"
      ],
      "text/plain": [
       "                     name                       yelp_url review_count rating  \\\n",
       "0    St Paul Fish Company  https://www.yelp.com/biz/s...         1360    4.4   \n",
       "1                Odd Duck  https://www.yelp.com/biz/o...          949    4.5   \n",
       "2              Blue's Egg  https://www.yelp.com/biz/b...         1964    4.5   \n",
       "3  Swingin' Door Exchange  https://www.yelp.com/biz/s...         1098    4.5   \n",
       "4              La Merenda  https://www.yelp.com/biz/l...          756    4.4   \n",
       "\n",
       "  price                     categories                        address  \n",
       "0    $$     [Seafood, Seafood Markets]  400 N Water St Milwaukee, ...  \n",
       "1    $$  [New American, Vegetarian,...  939 S 2nd St Milwaukee, WI...  \n",
       "2    $$  [Breakfast & Brunch, Ameri...  317 N 76th St Milwaukee, W...  \n",
       "3    $$           [New American, Pubs]  219 E Michigan St Milwauke...  \n",
       "4    $$  [Tapas Bars, Tapas/Small P...  125 E National Ave Milwauk...  "
      ]
     },
     "execution_count": 12,
     "metadata": {},
     "output_type": "execute_result"
    }
   ],
   "source": [
    "# Preview data\n",
    "rest_df.head()"
   ]
  },
  {
   "cell_type": "code",
   "execution_count": 13,
   "id": "a221bbd5-384e-42ab-a659-28494c136523",
   "metadata": {},
   "outputs": [
    {
     "data": {
      "text/plain": [
       "[]"
      ]
     },
     "execution_count": 13,
     "metadata": {},
     "output_type": "execute_result"
    }
   ],
   "source": [
    "# Look for NaN values\n",
    "rest_df.columns[rest_df.isna().any()].to_list()"
   ]
  },
  {
   "cell_type": "code",
   "execution_count": 14,
   "id": "b1c5bf9f-539f-4278-8185-0af81fa4ba89",
   "metadata": {},
   "outputs": [
    {
     "data": {
      "text/html": [
       "<div>\n",
       "<style scoped>\n",
       "    .dataframe tbody tr th:only-of-type {\n",
       "        vertical-align: middle;\n",
       "    }\n",
       "\n",
       "    .dataframe tbody tr th {\n",
       "        vertical-align: top;\n",
       "    }\n",
       "\n",
       "    .dataframe thead th {\n",
       "        text-align: right;\n",
       "    }\n",
       "</style>\n",
       "<table border=\"1\" class=\"dataframe\">\n",
       "  <thead>\n",
       "    <tr style=\"text-align: right;\">\n",
       "      <th></th>\n",
       "      <th>name</th>\n",
       "      <th>yelp_url</th>\n",
       "      <th>review_count</th>\n",
       "      <th>rating</th>\n",
       "      <th>price</th>\n",
       "      <th>categories</th>\n",
       "      <th>address</th>\n",
       "    </tr>\n",
       "  </thead>\n",
       "  <tbody>\n",
       "  </tbody>\n",
       "</table>\n",
       "</div>"
      ],
      "text/plain": [
       "Empty DataFrame\n",
       "Columns: [name, yelp_url, review_count, rating, price, categories, address]\n",
       "Index: []"
      ]
     },
     "execution_count": 14,
     "metadata": {},
     "output_type": "execute_result"
    }
   ],
   "source": [
    "# Verify all url start with https://www.yelp.com/biz\n",
    "rest_df[rest_df['yelp_url'].str.startswith('https://www.yelp.com/biz/') == False]"
   ]
  },
  {
   "cell_type": "code",
   "execution_count": 15,
   "id": "b6890a33-8413-4834-bea3-157c4d42271a",
   "metadata": {},
   "outputs": [
    {
     "name": "stdout",
     "output_type": "stream",
     "text": [
      "Lowest review count: 27\n",
      "Highest review count: 1964\n"
     ]
    }
   ],
   "source": [
    "# Convert review_count to int and check range of values\n",
    "rest_df['review_count'] = rest_df['review_count'].astype(int)\n",
    "print(f'Lowest review count: {rest_df['review_count'].min()}')\n",
    "print(f'Highest review count: {rest_df['review_count'].max()}')"
   ]
  },
  {
   "cell_type": "code",
   "execution_count": 16,
   "id": "7e132d44-fc31-44f8-91d7-0172aa9d6487",
   "metadata": {},
   "outputs": [
    {
     "name": "stdout",
     "output_type": "stream",
     "text": [
      "Lowest rating: 3.5\n",
      "Highest rating: 4.8\n"
     ]
    }
   ],
   "source": [
    "# Convert rating to float and verify values are between 0 and 5\n",
    "rest_df['rating'] = rest_df['rating'].astype(float)\n",
    "print(f'Lowest rating: {rest_df['rating'].min()}')\n",
    "print(f'Highest rating: {rest_df['rating'].max()}')"
   ]
  },
  {
   "cell_type": "code",
   "execution_count": 17,
   "id": "6c1fc03b-b447-42ce-b4b2-cc1e97a1b966",
   "metadata": {},
   "outputs": [],
   "source": [
    "# Convert categories to a string\n",
    "rest_df['categories'] = rest_df['categories'].str.join(', ')"
   ]
  },
  {
   "cell_type": "markdown",
   "id": "04ce0bdb-7a8f-45b5-923e-f9cdb0b94b81",
   "metadata": {},
   "source": [
    "***\n",
    "# Address Validation\n",
    "***"
   ]
  },
  {
   "cell_type": "code",
   "execution_count": 18,
   "id": "ebd871c1-9222-46b3-af74-d7f6decd24b6",
   "metadata": {},
   "outputs": [
    {
     "name": "stdout",
     "output_type": "stream",
     "text": [
      "All addresses are valid\n"
     ]
    }
   ],
   "source": [
    "# Validate address using smarty address validation api\n",
    "base_url = 'https://us-street.api.smarty.com/street-address?'\n",
    "auth_id = 'x'\n",
    "auth_token = 'x'\n",
    "inv_count = 0\n",
    "\n",
    "for i, row in rest_df.head().iterrows():\n",
    "    str_add = row['address'].replace(' ', '+')\n",
    "    url = base_url + 'street=' + str_add + '&auth-id=' + auth_id + '&auth-token=' + auth_token\n",
    "    response = requests.get(url).json()\n",
    "    if response == []:\n",
    "        print(row['address'])\n",
    "        inv_count += 1\n",
    "\n",
    "if inv_count == 0:\n",
    "    print('All addresses are valid')"
   ]
  },
  {
   "cell_type": "markdown",
   "id": "dd5d4139-b066-40ae-88b0-87e123bb446d",
   "metadata": {},
   "source": [
    "***\n",
    "# Write to Excel\n",
    "***"
   ]
  },
  {
   "cell_type": "code",
   "execution_count": 19,
   "id": "70a17365-c2e0-4843-8c0e-24bbf785527f",
   "metadata": {},
   "outputs": [],
   "source": [
    "rest_df.to_excel('Restaurants.xlsx', index=False)"
   ]
  },
  {
   "cell_type": "markdown",
   "id": "49fb6d55-7742-4cfa-8a28-63b4768b7c91",
   "metadata": {},
   "source": [
    "***\n",
    "**End**\n",
    "***"
   ]
  }
 ],
 "metadata": {
  "kernelspec": {
   "display_name": "Python 3 (ipykernel)",
   "language": "python",
   "name": "python3"
  },
  "language_info": {
   "codemirror_mode": {
    "name": "ipython",
    "version": 3
   },
   "file_extension": ".py",
   "mimetype": "text/x-python",
   "name": "python",
   "nbconvert_exporter": "python",
   "pygments_lexer": "ipython3",
   "version": "3.12.2"
  }
 },
 "nbformat": 4,
 "nbformat_minor": 5
}

{
 "cells": [
  {
   "cell_type": "markdown",
   "id": "a6401229-d7a4-4239-bb27-9902edb4260a",
   "metadata": {
    "jp-MarkdownHeadingCollapsed": true,
    "tags": []
   },
   "source": [
    "# Upwork Samples\n",
    "<font size=4 color='blue'>Web Scrape - Book Store</font>   \n",
    "***  \n",
    "\n",
    "**Project Summary:**   \n",
    "This project contains a variety of samples used in my Upwork portfolio\n",
    "\n",
    "**Notebook Scope:**  \n",
    "This notebook includes code to scrape data from a [Web Scraping Sandbox](https://toscrape.com/) site.\n",
    "\n",
    "**Output:**  \n",
    "The resulting data will be saved to a CSV file for further analysis.\n",
    "***  "
   ]
  },
  {
   "cell_type": "markdown",
   "id": "6fbdbe78-45ef-45e9-aa24-7a404b633884",
   "metadata": {
    "tags": []
   },
   "source": [
    "***\n",
    "# Notebook Setup\n",
    "***"
   ]
  },
  {
   "cell_type": "code",
   "execution_count": 1,
   "id": "e3e04588-e5b2-4182-a7fb-b6f2d978a0d6",
   "metadata": {},
   "outputs": [],
   "source": [
    "# Import libraries\n",
    "import requests\n",
    "from bs4 import BeautifulSoup\n",
    "import pandas as pd\n",
    "import re"
   ]
  },
  {
   "cell_type": "code",
   "execution_count": 2,
   "id": "995d4c72-db92-44da-84d8-4e1141f9bd12",
   "metadata": {},
   "outputs": [],
   "source": [
    "# Set pandas display settings\n",
    "pd.set_option('max_colwidth', 30)"
   ]
  },
  {
   "cell_type": "markdown",
   "id": "2443d95a-7e1c-4b7f-927c-6cf71cdf300d",
   "metadata": {
    "tags": []
   },
   "source": [
    "***  \n",
    "# Load Book Categories\n",
    "***"
   ]
  },
  {
   "cell_type": "code",
   "execution_count": 3,
   "id": "b305efcf-8b09-48ff-a7b9-2b8e548eace4",
   "metadata": {},
   "outputs": [],
   "source": [
    "# Scrape data from the Books to Scrape web site\n",
    "url = 'https://books.toscrape.com/'\n",
    "web_data = requests.get(url).text"
   ]
  },
  {
   "cell_type": "code",
   "execution_count": 4,
   "id": "6c5d6745-cf6e-4a1c-8113-1eaf41a21d27",
   "metadata": {},
   "outputs": [],
   "source": [
    "# Create a BeautifulSoup object\n",
    "soup = BeautifulSoup(web_data, 'html5lib')"
   ]
  },
  {
   "cell_type": "code",
   "execution_count": 5,
   "id": "bcc19029-850d-4120-ae1c-48e3408914ac",
   "metadata": {},
   "outputs": [],
   "source": [
    "# Create a dictionary of book categories and the link to the index page for each\n",
    "# This information is available in the left side navigation\n",
    "side_nav = soup.find('div', {'class': 'side_categories'})\n",
    "side_nav_links_list = side_nav.find_all('a', href=True)\n",
    "book_cats = {}\n",
    "\n",
    "for link in side_nav_links_list:\n",
    "    book_cats[link.contents[0].strip()] = link['href']"
   ]
  },
  {
   "cell_type": "code",
   "execution_count": 6,
   "id": "a3869b10-2004-44d5-bd34-39d4e636a3e6",
   "metadata": {},
   "outputs": [],
   "source": [
    "# Delete the side navigation heading from the book category dictionary\n",
    "del book_cats['Books']"
   ]
  },
  {
   "cell_type": "code",
   "execution_count": 7,
   "id": "e26ec302-b8a4-4ad1-856d-57de7941ec66",
   "metadata": {},
   "outputs": [
    {
     "data": {
      "text/plain": [
       "[('Travel', 'catalogue/category/books/travel_2/index.html'),\n",
       " ('Mystery', 'catalogue/category/books/mystery_3/index.html'),\n",
       " ('Historical Fiction',\n",
       "  'catalogue/category/books/historical-fiction_4/index.html'),\n",
       " ('Sequential Art', 'catalogue/category/books/sequential-art_5/index.html'),\n",
       " ('Classics', 'catalogue/category/books/classics_6/index.html')]"
      ]
     },
     "execution_count": 7,
     "metadata": {},
     "output_type": "execute_result"
    }
   ],
   "source": [
    "# Preview book categories\n",
    "list(book_cats.items())[:5]"
   ]
  },
  {
   "cell_type": "markdown",
   "id": "55e27ab5-214a-4bb6-8f73-f93fa3c0d649",
   "metadata": {
    "tags": []
   },
   "source": [
    "***  \n",
    "# Load Book Quantity by Category\n",
    "***"
   ]
  },
  {
   "cell_type": "code",
   "execution_count": 8,
   "id": "d884fbef-399a-4d87-914f-3122fa53ef83",
   "metadata": {},
   "outputs": [],
   "source": [
    "# Load the index page for each category and read the total results\n",
    "# Save totals to a quantity dictionary\n",
    "cat_qty = {}\n",
    "for cat in book_cats:\n",
    "    url = 'https://books.toscrape.com/' + book_cats[cat]\n",
    "    web_data = requests.get(url).text\n",
    "    soup = BeautifulSoup(web_data, 'html5lib')\n",
    "    cat_qty[cat] = soup.find('form').find('strong').contents[0]"
   ]
  },
  {
   "cell_type": "code",
   "execution_count": 9,
   "id": "fdac00ab-5b48-4074-97f5-5f2b45538483",
   "metadata": {},
   "outputs": [
    {
     "data": {
      "text/plain": [
       "[('Travel', '11'),\n",
       " ('Mystery', '32'),\n",
       " ('Historical Fiction', '26'),\n",
       " ('Sequential Art', '75'),\n",
       " ('Classics', '19')]"
      ]
     },
     "execution_count": 9,
     "metadata": {},
     "output_type": "execute_result"
    }
   ],
   "source": [
    "# Preview book category quantities\n",
    "list(cat_qty.items())[:5]"
   ]
  },
  {
   "cell_type": "markdown",
   "id": "0d88fecd-5580-4283-93b8-966cff166000",
   "metadata": {},
   "source": [
    "***\n",
    "# Load All Book Data\n",
    "***"
   ]
  },
  {
   "cell_type": "code",
   "execution_count": 10,
   "id": "6475fd8b-e09d-4c7f-a486-c852dd08d0b7",
   "metadata": {},
   "outputs": [],
   "source": [
    "# loop through summary pages to pull title and URL for all books. Store this in a dataframe\n",
    "# Set the URL for the first page of results\n",
    "base_url = 'https://books.toscrape.com/catalogue/category/books_1/'\n",
    "url = 'https://books.toscrape.com/catalogue/category/books_1/index.html'\n",
    "books_df = pd.DataFrame(columns=['Title', 'url'])\n",
    "\n",
    "# Loop through each page\n",
    "while url is not None:\n",
    "    web_data = requests.get(url).text\n",
    "    soup = BeautifulSoup(web_data, 'html5lib')\n",
    "    books = soup.find_all('article', {'class': 'product_pod'})\n",
    "\n",
    "    # Loop through each book on the page\n",
    "    for book in books:\n",
    "        book_heading = book.find('h3').contents[0]\n",
    "        book_title = book_heading['title']\n",
    "        book_url = 'http://books.toscrape.com/catalogue/' + book_heading['href'][6:]\n",
    "        books_df = pd.concat([books_df, pd.DataFrame({'Title': [book_title], 'url': [book_url]})])\n",
    "\n",
    "    # Get the next page\n",
    "    next_class = soup.find('li', {'class': 'next'})\n",
    "    if next_class != None:\n",
    "        url = base_url + next_class.find('a').attrs['href']\n",
    "    else:\n",
    "        url = None"
   ]
  },
  {
   "cell_type": "code",
   "execution_count": 11,
   "id": "0cf3c5db-6dff-49e8-bf54-faaf493fbb58",
   "metadata": {},
   "outputs": [
    {
     "data": {
      "text/plain": [
       "1000"
      ]
     },
     "execution_count": 11,
     "metadata": {},
     "output_type": "execute_result"
    }
   ],
   "source": [
    "# Validate length of dataframe - we should have 1000 books\n",
    "len(books_df)"
   ]
  },
  {
   "cell_type": "code",
   "execution_count": 12,
   "id": "c906ca14-a7d1-4d8c-8a5d-2206eeb3b9a3",
   "metadata": {},
   "outputs": [
    {
     "data": {
      "text/html": [
       "<div>\n",
       "<style scoped>\n",
       "    .dataframe tbody tr th:only-of-type {\n",
       "        vertical-align: middle;\n",
       "    }\n",
       "\n",
       "    .dataframe tbody tr th {\n",
       "        vertical-align: top;\n",
       "    }\n",
       "\n",
       "    .dataframe thead th {\n",
       "        text-align: right;\n",
       "    }\n",
       "</style>\n",
       "<table border=\"1\" class=\"dataframe\">\n",
       "  <thead>\n",
       "    <tr style=\"text-align: right;\">\n",
       "      <th></th>\n",
       "      <th>url</th>\n",
       "    </tr>\n",
       "    <tr>\n",
       "      <th>Title</th>\n",
       "      <th></th>\n",
       "    </tr>\n",
       "  </thead>\n",
       "  <tbody>\n",
       "    <tr>\n",
       "      <th>A Light in the Attic</th>\n",
       "      <td>http://books.toscrape.com/...</td>\n",
       "    </tr>\n",
       "    <tr>\n",
       "      <th>Tipping the Velvet</th>\n",
       "      <td>http://books.toscrape.com/...</td>\n",
       "    </tr>\n",
       "    <tr>\n",
       "      <th>Soumission</th>\n",
       "      <td>http://books.toscrape.com/...</td>\n",
       "    </tr>\n",
       "    <tr>\n",
       "      <th>Sharp Objects</th>\n",
       "      <td>http://books.toscrape.com/...</td>\n",
       "    </tr>\n",
       "    <tr>\n",
       "      <th>Sapiens: A Brief History of Humankind</th>\n",
       "      <td>http://books.toscrape.com/...</td>\n",
       "    </tr>\n",
       "  </tbody>\n",
       "</table>\n",
       "</div>"
      ],
      "text/plain": [
       "                                                          url\n",
       "Title                                                        \n",
       "A Light in the Attic            http://books.toscrape.com/...\n",
       "Tipping the Velvet              http://books.toscrape.com/...\n",
       "Soumission                      http://books.toscrape.com/...\n",
       "Sharp Objects                   http://books.toscrape.com/...\n",
       "Sapiens: A Brief History of...  http://books.toscrape.com/..."
      ]
     },
     "execution_count": 12,
     "metadata": {},
     "output_type": "execute_result"
    }
   ],
   "source": [
    "# Set dataframe index and preview data\n",
    "books_df.set_index('Title', drop=True, inplace=True)\n",
    "books_df.head()"
   ]
  },
  {
   "cell_type": "code",
   "execution_count": 13,
   "id": "ad472112-fbf5-47f5-bd0e-69402161cc56",
   "metadata": {},
   "outputs": [],
   "source": [
    "# Look through each book detail page and scrape remaining data\n",
    "ordinal_words = {'One': 1, 'Two': 2, 'Three': 3, 'Four': 4 , 'Five': 5}\n",
    "\n",
    "for row in books_df.iterrows():\n",
    "    # Read in the web page and create a soup object\n",
    "    url = row[1]['url']\n",
    "    web_data = requests.get(url).text\n",
    "    soup = BeautifulSoup(web_data, 'html5lib')\n",
    "    \n",
    "    # Find eoements of interest and add to books dataframe\n",
    "    rating_str = soup.find('p', {'class': re.compile('star-rating*')}).attrs['class'][1]\n",
    "    books_df.at[row[0], 'Rating'] = ordinal_words[rating_str]\n",
    "    books_df.at[row[0], 'UPC'] = soup.find('th', string='UPC').next_element.next_element.contents[0]\n",
    "    books_df.at[row[0], 'Price'] = soup.find('th', string='Price (incl. tax)').next_element.next_element.contents[0]\n",
    "    books_df.at[row[0], 'Tax'] = soup.find('th', string='Tax').next_element.next_element.contents[0]\n",
    "    avail = soup.find('th', string='Availability').next_element.next_element.next_element.next_element\n",
    "    if avail.startswith('In stock'):\n",
    "        books_df.at[row[0], 'Qty on Hand'] = avail.split('(')[1].split()[0]\n",
    "        books_df.at[row[0], 'Availability'] = 'In Stock'\n",
    "    else:\n",
    "        books_df.at[row[0], 'Availability'] = 'Out of Stock'\n",
    "    books_df.at[row[0], 'Reviews'] = soup.find('th', string='Number of reviews').next_element.next_element.next_element.next_element\n",
    "    if soup.find('h2', string='Product Description') is not None:\n",
    "        books_df.at[row[0], 'Description'] = soup.find('h2', string='Product Description').next_element.next_element.next_element.next_element.contents[0]"
   ]
  },
  {
   "cell_type": "code",
   "execution_count": 14,
   "id": "413b4a0d-b386-41d6-b0a9-c1bf11dad8a8",
   "metadata": {},
   "outputs": [
    {
     "data": {
      "text/html": [
       "<div>\n",
       "<style scoped>\n",
       "    .dataframe tbody tr th:only-of-type {\n",
       "        vertical-align: middle;\n",
       "    }\n",
       "\n",
       "    .dataframe tbody tr th {\n",
       "        vertical-align: top;\n",
       "    }\n",
       "\n",
       "    .dataframe thead th {\n",
       "        text-align: right;\n",
       "    }\n",
       "</style>\n",
       "<table border=\"1\" class=\"dataframe\">\n",
       "  <thead>\n",
       "    <tr style=\"text-align: right;\">\n",
       "      <th></th>\n",
       "      <th>url</th>\n",
       "      <th>Rating</th>\n",
       "      <th>UPC</th>\n",
       "      <th>Price</th>\n",
       "      <th>Tax</th>\n",
       "      <th>Qty on Hand</th>\n",
       "      <th>Availability</th>\n",
       "      <th>Reviews</th>\n",
       "      <th>Description</th>\n",
       "    </tr>\n",
       "    <tr>\n",
       "      <th>Title</th>\n",
       "      <th></th>\n",
       "      <th></th>\n",
       "      <th></th>\n",
       "      <th></th>\n",
       "      <th></th>\n",
       "      <th></th>\n",
       "      <th></th>\n",
       "      <th></th>\n",
       "      <th></th>\n",
       "    </tr>\n",
       "  </thead>\n",
       "  <tbody>\n",
       "    <tr>\n",
       "      <th>A Light in the Attic</th>\n",
       "      <td>http://books.toscrape.com/...</td>\n",
       "      <td>3.0</td>\n",
       "      <td>a897fe39b1053632</td>\n",
       "      <td>Â£51.77</td>\n",
       "      <td>Â£0.00</td>\n",
       "      <td>22</td>\n",
       "      <td>In Stock</td>\n",
       "      <td>0</td>\n",
       "      <td>It's hard to imagine a wor...</td>\n",
       "    </tr>\n",
       "    <tr>\n",
       "      <th>Tipping the Velvet</th>\n",
       "      <td>http://books.toscrape.com/...</td>\n",
       "      <td>1.0</td>\n",
       "      <td>90fa61229261140a</td>\n",
       "      <td>Â£53.74</td>\n",
       "      <td>Â£0.00</td>\n",
       "      <td>20</td>\n",
       "      <td>In Stock</td>\n",
       "      <td>0</td>\n",
       "      <td>\"Erotic and absorbing...Wr...</td>\n",
       "    </tr>\n",
       "    <tr>\n",
       "      <th>Soumission</th>\n",
       "      <td>http://books.toscrape.com/...</td>\n",
       "      <td>1.0</td>\n",
       "      <td>6957f44c3847a760</td>\n",
       "      <td>Â£50.10</td>\n",
       "      <td>Â£0.00</td>\n",
       "      <td>20</td>\n",
       "      <td>In Stock</td>\n",
       "      <td>0</td>\n",
       "      <td>Dans une France assez proc...</td>\n",
       "    </tr>\n",
       "    <tr>\n",
       "      <th>Sharp Objects</th>\n",
       "      <td>http://books.toscrape.com/...</td>\n",
       "      <td>4.0</td>\n",
       "      <td>e00eb4fd7b871a48</td>\n",
       "      <td>Â£47.82</td>\n",
       "      <td>Â£0.00</td>\n",
       "      <td>20</td>\n",
       "      <td>In Stock</td>\n",
       "      <td>0</td>\n",
       "      <td>WICKED above her hipbone, ...</td>\n",
       "    </tr>\n",
       "    <tr>\n",
       "      <th>Sapiens: A Brief History of Humankind</th>\n",
       "      <td>http://books.toscrape.com/...</td>\n",
       "      <td>5.0</td>\n",
       "      <td>4165285e1663650f</td>\n",
       "      <td>Â£54.23</td>\n",
       "      <td>Â£0.00</td>\n",
       "      <td>20</td>\n",
       "      <td>In Stock</td>\n",
       "      <td>0</td>\n",
       "      <td>From a renowned historian ...</td>\n",
       "    </tr>\n",
       "  </tbody>\n",
       "</table>\n",
       "</div>"
      ],
      "text/plain": [
       "                                                          url  Rating  \\\n",
       "Title                                                                   \n",
       "A Light in the Attic            http://books.toscrape.com/...     3.0   \n",
       "Tipping the Velvet              http://books.toscrape.com/...     1.0   \n",
       "Soumission                      http://books.toscrape.com/...     1.0   \n",
       "Sharp Objects                   http://books.toscrape.com/...     4.0   \n",
       "Sapiens: A Brief History of...  http://books.toscrape.com/...     5.0   \n",
       "\n",
       "                                             UPC    Price     Tax Qty on Hand  \\\n",
       "Title                                                                           \n",
       "A Light in the Attic            a897fe39b1053632  Â£51.77  Â£0.00          22   \n",
       "Tipping the Velvet              90fa61229261140a  Â£53.74  Â£0.00          20   \n",
       "Soumission                      6957f44c3847a760  Â£50.10  Â£0.00          20   \n",
       "Sharp Objects                   e00eb4fd7b871a48  Â£47.82  Â£0.00          20   \n",
       "Sapiens: A Brief History of...  4165285e1663650f  Â£54.23  Â£0.00          20   \n",
       "\n",
       "                               Availability Reviews  \\\n",
       "Title                                                 \n",
       "A Light in the Attic               In Stock       0   \n",
       "Tipping the Velvet                 In Stock       0   \n",
       "Soumission                         In Stock       0   \n",
       "Sharp Objects                      In Stock       0   \n",
       "Sapiens: A Brief History of...     In Stock       0   \n",
       "\n",
       "                                                  Description  \n",
       "Title                                                          \n",
       "A Light in the Attic            It's hard to imagine a wor...  \n",
       "Tipping the Velvet              \"Erotic and absorbing...Wr...  \n",
       "Soumission                      Dans une France assez proc...  \n",
       "Sharp Objects                   WICKED above her hipbone, ...  \n",
       "Sapiens: A Brief History of...  From a renowned historian ...  "
      ]
     },
     "execution_count": 14,
     "metadata": {},
     "output_type": "execute_result"
    }
   ],
   "source": [
    "# Preview books dataframe\n",
    "books_df.head()"
   ]
  },
  {
   "cell_type": "markdown",
   "id": "50b45a9b-ea94-460a-b4f1-aec291b5179d",
   "metadata": {},
   "source": [
    "***\n",
    "# Validate Data\n",
    "***"
   ]
  },
  {
   "cell_type": "code",
   "execution_count": 15,
   "id": "c9f0f9ab-dc85-4d8d-9a84-4d83a3a247af",
   "metadata": {},
   "outputs": [
    {
     "name": "stdout",
     "output_type": "stream",
     "text": [
      "The following books have more than 1 entry in our dataframe:\n",
      "The Star-Touched Queen  2\n"
     ]
    }
   ],
   "source": [
    "# Verify no duplicate book titles\n",
    "book_cts = pd.DataFrame(books_df.index.value_counts())\n",
    "print('The following books have more than 1 entry in our dataframe:')\n",
    "print(book_cts[book_cts['count'] > 1].to_string(header=False, index_names=False))"
   ]
  },
  {
   "cell_type": "code",
   "execution_count": 16,
   "id": "afda44e0-646d-41dc-b0fe-622ef06300c8",
   "metadata": {},
   "outputs": [
    {
     "data": {
      "text/html": [
       "<div>\n",
       "<style scoped>\n",
       "    .dataframe tbody tr th:only-of-type {\n",
       "        vertical-align: middle;\n",
       "    }\n",
       "\n",
       "    .dataframe tbody tr th {\n",
       "        vertical-align: top;\n",
       "    }\n",
       "\n",
       "    .dataframe thead th {\n",
       "        text-align: right;\n",
       "    }\n",
       "</style>\n",
       "<table border=\"1\" class=\"dataframe\">\n",
       "  <thead>\n",
       "    <tr style=\"text-align: right;\">\n",
       "      <th></th>\n",
       "      <th>NaN Count</th>\n",
       "    </tr>\n",
       "  </thead>\n",
       "  <tbody>\n",
       "    <tr>\n",
       "      <th>url</th>\n",
       "      <td>0</td>\n",
       "    </tr>\n",
       "    <tr>\n",
       "      <th>Rating</th>\n",
       "      <td>0</td>\n",
       "    </tr>\n",
       "    <tr>\n",
       "      <th>UPC</th>\n",
       "      <td>0</td>\n",
       "    </tr>\n",
       "    <tr>\n",
       "      <th>Price</th>\n",
       "      <td>0</td>\n",
       "    </tr>\n",
       "    <tr>\n",
       "      <th>Tax</th>\n",
       "      <td>0</td>\n",
       "    </tr>\n",
       "    <tr>\n",
       "      <th>Qty on Hand</th>\n",
       "      <td>0</td>\n",
       "    </tr>\n",
       "    <tr>\n",
       "      <th>Availability</th>\n",
       "      <td>0</td>\n",
       "    </tr>\n",
       "    <tr>\n",
       "      <th>Reviews</th>\n",
       "      <td>0</td>\n",
       "    </tr>\n",
       "    <tr>\n",
       "      <th>Description</th>\n",
       "      <td>2</td>\n",
       "    </tr>\n",
       "  </tbody>\n",
       "</table>\n",
       "</div>"
      ],
      "text/plain": [
       "              NaN Count\n",
       "url                   0\n",
       "Rating                0\n",
       "UPC                   0\n",
       "Price                 0\n",
       "Tax                   0\n",
       "Qty on Hand           0\n",
       "Availability          0\n",
       "Reviews               0\n",
       "Description           2"
      ]
     },
     "execution_count": 16,
     "metadata": {},
     "output_type": "execute_result"
    }
   ],
   "source": [
    "# Look for missing data\n",
    "pd.DataFrame(books_df.isna().sum(), columns=['NaN Count'])"
   ]
  },
  {
   "cell_type": "code",
   "execution_count": 17,
   "id": "25aa5c85-8fde-40f2-9b71-f17ae7b08a6d",
   "metadata": {},
   "outputs": [
    {
     "name": "stdout",
     "output_type": "stream",
     "text": [
      "Books without a description:\n",
      "   The Bridge to Consciousness: I'm Writing the Bridge Between Science and Our Old and New Beliefs.\n",
      "   Alice in Wonderland (Alice's Adventures in Wonderland #1)\n"
     ]
    }
   ],
   "source": [
    "# List books that are missing a description\n",
    "print('Books without a description:')\n",
    "for title in books_df[books_df['Description'].isna()].index:\n",
    "    print(f'   {title}')"
   ]
  },
  {
   "cell_type": "code",
   "execution_count": 18,
   "id": "7313a405-ee37-43ad-a631-b15eb6e2deb6",
   "metadata": {},
   "outputs": [
    {
     "data": {
      "text/plain": [
       "Rating\n",
       "1.0    226\n",
       "3.0    203\n",
       "5.0    196\n",
       "2.0    196\n",
       "4.0    179\n",
       "Name: count, dtype: int64"
      ]
     },
     "execution_count": 18,
     "metadata": {},
     "output_type": "execute_result"
    }
   ],
   "source": [
    "# Review ratings data\n",
    "books_df['Rating'].value_counts()"
   ]
  },
  {
   "cell_type": "code",
   "execution_count": 19,
   "id": "d0340999-08f9-43e6-8f4e-e145bef86af1",
   "metadata": {},
   "outputs": [
    {
     "name": "stdout",
     "output_type": "stream",
     "text": [
      "Lowest price: 10.00\n",
      "Highest price: 59.99\n"
     ]
    }
   ],
   "source": [
    "# Review price range\n",
    "print(f'Lowest price: {books_df['Price'].str[2:].min()}')\n",
    "print(f'Highest price: {books_df['Price'].str[2:].max()}')"
   ]
  },
  {
   "cell_type": "code",
   "execution_count": 20,
   "id": "d8219805-43fe-4a38-9e4d-09f9361b8a39",
   "metadata": {},
   "outputs": [
    {
     "name": "stdout",
     "output_type": "stream",
     "text": [
      "Lowest tax: 0.00\n",
      "Highest tax: 0.00\n"
     ]
    }
   ],
   "source": [
    "# Review tax range\n",
    "print(f'Lowest tax: {books_df['Tax'].str[2:].min()}')\n",
    "print(f'Highest tax: {books_df['Tax'].str[2:].max()}')"
   ]
  },
  {
   "cell_type": "code",
   "execution_count": 21,
   "id": "3a31deaf-6608-4017-8693-7a5e8d9add1c",
   "metadata": {},
   "outputs": [
    {
     "name": "stdout",
     "output_type": "stream",
     "text": [
      "Lowest qty on hand: 1\n",
      "Highest qty on hand: 9\n"
     ]
    }
   ],
   "source": [
    "# Review qty on hand range\n",
    "print(f'Lowest qty on hand: {books_df['Qty on Hand'].min()}')\n",
    "print(f'Highest qty on hand: {books_df['Qty on Hand'].max()}')"
   ]
  },
  {
   "cell_type": "code",
   "execution_count": 22,
   "id": "eb62ffb4-001e-420f-8192-ef3eb357a597",
   "metadata": {},
   "outputs": [
    {
     "name": "stdout",
     "output_type": "stream",
     "text": [
      "Lowest number of reviews: 0\n",
      "Highest number of reviews: 0\n"
     ]
    }
   ],
   "source": [
    "# Review review range\n",
    "print(f'Lowest number of reviews: {books_df['Reviews'].min()}')\n",
    "print(f'Highest number of reviews: {books_df['Reviews'].max()}')"
   ]
  },
  {
   "cell_type": "markdown",
   "id": "871ba402-84cf-4f53-a4fa-c6e88a11a1cf",
   "metadata": {},
   "source": [
    "***\n",
    "# Data Cleanup\n",
    "***"
   ]
  },
  {
   "cell_type": "code",
   "execution_count": 23,
   "id": "dadd5b0b-a528-43d9-bdc5-fac478b2954f",
   "metadata": {},
   "outputs": [
    {
     "data": {
      "text/html": [
       "<div>\n",
       "<style scoped>\n",
       "    .dataframe tbody tr th:only-of-type {\n",
       "        vertical-align: middle;\n",
       "    }\n",
       "\n",
       "    .dataframe tbody tr th {\n",
       "        vertical-align: top;\n",
       "    }\n",
       "\n",
       "    .dataframe thead th {\n",
       "        text-align: right;\n",
       "    }\n",
       "</style>\n",
       "<table border=\"1\" class=\"dataframe\">\n",
       "  <thead>\n",
       "    <tr style=\"text-align: right;\">\n",
       "      <th></th>\n",
       "      <th>url</th>\n",
       "      <th>Rating</th>\n",
       "      <th>UPC</th>\n",
       "      <th>Price</th>\n",
       "      <th>Tax</th>\n",
       "      <th>Qty on Hand</th>\n",
       "      <th>Availability</th>\n",
       "      <th>Reviews</th>\n",
       "      <th>Description</th>\n",
       "    </tr>\n",
       "    <tr>\n",
       "      <th>Title</th>\n",
       "      <th></th>\n",
       "      <th></th>\n",
       "      <th></th>\n",
       "      <th></th>\n",
       "      <th></th>\n",
       "      <th></th>\n",
       "      <th></th>\n",
       "      <th></th>\n",
       "      <th></th>\n",
       "    </tr>\n",
       "  </thead>\n",
       "  <tbody>\n",
       "  </tbody>\n",
       "</table>\n",
       "</div>"
      ],
      "text/plain": [
       "Empty DataFrame\n",
       "Columns: [url, Rating, UPC, Price, Tax, Qty on Hand, Availability, Reviews, Description]\n",
       "Index: []"
      ]
     },
     "execution_count": 23,
     "metadata": {},
     "output_type": "execute_result"
    }
   ],
   "source": [
    "# Review duplicate rows\n",
    "books_df[books_df.duplicated()]"
   ]
  },
  {
   "cell_type": "markdown",
   "id": "6a731b46-99ce-419e-959b-e0d9375e5613",
   "metadata": {},
   "source": [
    "***\n",
    "<font color='blue'>**Note:**</font>\n",
    "There are no duplicate rose, but there there is a duplicated title. More investigation would be needed to determine the differences, and determine which row of data was the \"correct\" row.\n",
    "***"
   ]
  },
  {
   "cell_type": "code",
   "execution_count": 24,
   "id": "4c00e3fb-da43-436b-b6aa-f6daec5234f3",
   "metadata": {},
   "outputs": [],
   "source": [
    "# Convert ratings to int\n",
    "books_df['Rating'] = books_df['Rating'].astype('int')"
   ]
  },
  {
   "cell_type": "code",
   "execution_count": 25,
   "id": "0f08e205-35ef-4260-8d84-3d2bfda1d6c1",
   "metadata": {},
   "outputs": [],
   "source": [
    "# Cleanup price and tax fields\n",
    "books_df['Price'] = books_df['Price'].str[1:]\n",
    "books_df['Tax'] = books_df['Tax'].str[1:]"
   ]
  },
  {
   "cell_type": "markdown",
   "id": "14a000a9-6aea-457a-b26d-fd32358e9f82",
   "metadata": {},
   "source": [
    "***\n",
    "# Final Preview\n",
    "***"
   ]
  },
  {
   "cell_type": "code",
   "execution_count": 26,
   "id": "32498a00-11ad-4753-b19b-4cec9cc34ffd",
   "metadata": {},
   "outputs": [
    {
     "data": {
      "text/html": [
       "<div>\n",
       "<style scoped>\n",
       "    .dataframe tbody tr th:only-of-type {\n",
       "        vertical-align: middle;\n",
       "    }\n",
       "\n",
       "    .dataframe tbody tr th {\n",
       "        vertical-align: top;\n",
       "    }\n",
       "\n",
       "    .dataframe thead th {\n",
       "        text-align: right;\n",
       "    }\n",
       "</style>\n",
       "<table border=\"1\" class=\"dataframe\">\n",
       "  <thead>\n",
       "    <tr style=\"text-align: right;\">\n",
       "      <th></th>\n",
       "      <th>url</th>\n",
       "      <th>Rating</th>\n",
       "      <th>UPC</th>\n",
       "      <th>Price</th>\n",
       "      <th>Tax</th>\n",
       "      <th>Qty on Hand</th>\n",
       "      <th>Availability</th>\n",
       "      <th>Reviews</th>\n",
       "      <th>Description</th>\n",
       "    </tr>\n",
       "    <tr>\n",
       "      <th>Title</th>\n",
       "      <th></th>\n",
       "      <th></th>\n",
       "      <th></th>\n",
       "      <th></th>\n",
       "      <th></th>\n",
       "      <th></th>\n",
       "      <th></th>\n",
       "      <th></th>\n",
       "      <th></th>\n",
       "    </tr>\n",
       "  </thead>\n",
       "  <tbody>\n",
       "    <tr>\n",
       "      <th>A Light in the Attic</th>\n",
       "      <td>http://books.toscrape.com/...</td>\n",
       "      <td>3</td>\n",
       "      <td>a897fe39b1053632</td>\n",
       "      <td>£51.77</td>\n",
       "      <td>£0.00</td>\n",
       "      <td>22</td>\n",
       "      <td>In Stock</td>\n",
       "      <td>0</td>\n",
       "      <td>It's hard to imagine a wor...</td>\n",
       "    </tr>\n",
       "    <tr>\n",
       "      <th>Tipping the Velvet</th>\n",
       "      <td>http://books.toscrape.com/...</td>\n",
       "      <td>1</td>\n",
       "      <td>90fa61229261140a</td>\n",
       "      <td>£53.74</td>\n",
       "      <td>£0.00</td>\n",
       "      <td>20</td>\n",
       "      <td>In Stock</td>\n",
       "      <td>0</td>\n",
       "      <td>\"Erotic and absorbing...Wr...</td>\n",
       "    </tr>\n",
       "    <tr>\n",
       "      <th>Soumission</th>\n",
       "      <td>http://books.toscrape.com/...</td>\n",
       "      <td>1</td>\n",
       "      <td>6957f44c3847a760</td>\n",
       "      <td>£50.10</td>\n",
       "      <td>£0.00</td>\n",
       "      <td>20</td>\n",
       "      <td>In Stock</td>\n",
       "      <td>0</td>\n",
       "      <td>Dans une France assez proc...</td>\n",
       "    </tr>\n",
       "    <tr>\n",
       "      <th>Sharp Objects</th>\n",
       "      <td>http://books.toscrape.com/...</td>\n",
       "      <td>4</td>\n",
       "      <td>e00eb4fd7b871a48</td>\n",
       "      <td>£47.82</td>\n",
       "      <td>£0.00</td>\n",
       "      <td>20</td>\n",
       "      <td>In Stock</td>\n",
       "      <td>0</td>\n",
       "      <td>WICKED above her hipbone, ...</td>\n",
       "    </tr>\n",
       "    <tr>\n",
       "      <th>Sapiens: A Brief History of Humankind</th>\n",
       "      <td>http://books.toscrape.com/...</td>\n",
       "      <td>5</td>\n",
       "      <td>4165285e1663650f</td>\n",
       "      <td>£54.23</td>\n",
       "      <td>£0.00</td>\n",
       "      <td>20</td>\n",
       "      <td>In Stock</td>\n",
       "      <td>0</td>\n",
       "      <td>From a renowned historian ...</td>\n",
       "    </tr>\n",
       "  </tbody>\n",
       "</table>\n",
       "</div>"
      ],
      "text/plain": [
       "                                                          url  Rating  \\\n",
       "Title                                                                   \n",
       "A Light in the Attic            http://books.toscrape.com/...       3   \n",
       "Tipping the Velvet              http://books.toscrape.com/...       1   \n",
       "Soumission                      http://books.toscrape.com/...       1   \n",
       "Sharp Objects                   http://books.toscrape.com/...       4   \n",
       "Sapiens: A Brief History of...  http://books.toscrape.com/...       5   \n",
       "\n",
       "                                             UPC   Price    Tax Qty on Hand  \\\n",
       "Title                                                                         \n",
       "A Light in the Attic            a897fe39b1053632  £51.77  £0.00          22   \n",
       "Tipping the Velvet              90fa61229261140a  £53.74  £0.00          20   \n",
       "Soumission                      6957f44c3847a760  £50.10  £0.00          20   \n",
       "Sharp Objects                   e00eb4fd7b871a48  £47.82  £0.00          20   \n",
       "Sapiens: A Brief History of...  4165285e1663650f  £54.23  £0.00          20   \n",
       "\n",
       "                               Availability Reviews  \\\n",
       "Title                                                 \n",
       "A Light in the Attic               In Stock       0   \n",
       "Tipping the Velvet                 In Stock       0   \n",
       "Soumission                         In Stock       0   \n",
       "Sharp Objects                      In Stock       0   \n",
       "Sapiens: A Brief History of...     In Stock       0   \n",
       "\n",
       "                                                  Description  \n",
       "Title                                                          \n",
       "A Light in the Attic            It's hard to imagine a wor...  \n",
       "Tipping the Velvet              \"Erotic and absorbing...Wr...  \n",
       "Soumission                      Dans une France assez proc...  \n",
       "Sharp Objects                   WICKED above her hipbone, ...  \n",
       "Sapiens: A Brief History of...  From a renowned historian ...  "
      ]
     },
     "execution_count": 26,
     "metadata": {},
     "output_type": "execute_result"
    }
   ],
   "source": [
    "books_df.head()"
   ]
  },
  {
   "cell_type": "markdown",
   "id": "48b69a35-babe-41e9-9cd5-c40388522333",
   "metadata": {},
   "source": [
    "***\n",
    "# Save to CSV\n",
    "***"
   ]
  },
  {
   "cell_type": "code",
   "execution_count": null,
   "id": "367228b5-783e-40ac-859a-9973a4cff4da",
   "metadata": {},
   "outputs": [],
   "source": [
    "injuries_df.to_csv('../data/injuries.csv', index=False)"
   ]
  },
  {
   "cell_type": "markdown",
   "id": "49fb6d55-7742-4cfa-8a28-63b4768b7c91",
   "metadata": {},
   "source": [
    "***\n",
    "**End**\n",
    "***"
   ]
  }
 ],
 "metadata": {
  "kernelspec": {
   "display_name": "Python 3 (ipykernel)",
   "language": "python",
   "name": "python3"
  },
  "language_info": {
   "codemirror_mode": {
    "name": "ipython",
    "version": 3
   },
   "file_extension": ".py",
   "mimetype": "text/x-python",
   "name": "python",
   "nbconvert_exporter": "python",
   "pygments_lexer": "ipython3",
   "version": "3.12.2"
  }
 },
 "nbformat": 4,
 "nbformat_minor": 5
}

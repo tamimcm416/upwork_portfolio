{
 "cells": [
  {
   "cell_type": "markdown",
   "metadata": {
    "jp-MarkdownHeadingCollapsed": true,
    "tags": []
   },
   "source": [
    "***\n",
    "<font size=6 color='blue'>Crude Oil Imports</font>   \n",
    "***  \n",
    "\n",
    "**Notebook Scope:**  \n",
    "This notebook includes code to retrieve crude oil import data from [U.S. Energy Information Administration](https://www.eia.gov/opendata/documentation.php) site for 2023, using the API provided by the US government's Open Data initiative.\n",
    "\n",
    "**Output:**  \n",
    "The resulting data is saved to a CSV file for further analysis.\n",
    "***  "
   ]
  },
  {
   "cell_type": "markdown",
   "metadata": {
    "tags": []
   },
   "source": [
    "# Notebook Setup\n",
    "***"
   ]
  },
  {
   "cell_type": "code",
   "execution_count": 1,
   "metadata": {},
   "outputs": [],
   "source": [
    "# Import libraries\n",
    "import requests\n",
    "import json\n",
    "import pandas as pd"
   ]
  },
  {
   "cell_type": "code",
   "execution_count": 2,
   "metadata": {},
   "outputs": [
    {
     "data": {
      "text/html": [
       "<!-- Prevent text wrappping in dataframe displays for a cleaner print -->\n",
       "<style> .dataframe td {white-space: nowrap;}</style>\n"
      ],
      "text/plain": [
       "<IPython.core.display.HTML object>"
      ]
     },
     "metadata": {},
     "output_type": "display_data"
    }
   ],
   "source": [
    "%%html\n",
    "<!-- Prevent text wrappping in dataframe displays for a cleaner print -->\n",
    "<style> .dataframe td {white-space: nowrap;}</style>"
   ]
  },
  {
   "cell_type": "markdown",
   "metadata": {
    "tags": []
   },
   "source": [
    "***\n",
    "# Load Data\n",
    "***"
   ]
  },
  {
   "cell_type": "code",
   "execution_count": 3,
   "metadata": {},
   "outputs": [],
   "source": [
    "# Setup api parameters\n",
    "url = 'https://api.eia.gov/v2/crude-oil-imports/data'\n",
    "params_dict = {'api_key': 'x',\n",
    "               'frequency': 'monthly',\n",
    "               'start': '2023-01',\n",
    "               'end': '2023-12',\n",
    "               'offset': 0,\n",
    "               'length': 5000}"
   ]
  },
  {
   "cell_type": "code",
   "execution_count": 4,
   "metadata": {},
   "outputs": [],
   "source": [
    "# Call api, looping through all pages of results and appending to a dataframe\n",
    "output_df = pd.DataFrame()\n",
    "total_rows = 0\n",
    "\n",
    "while params_dict['offset'] == 0 or params_dict['offset'] < total_rows:\n",
    "    resp = requests.get(url, params=params_dict)\n",
    "    output_df = pd.concat([output_df, pd.DataFrame(resp.json()['response']['data'])])\n",
    "    total_rows = int(resp.json()['response']['total'])\n",
    "    params_dict['offset'] += 5000"
   ]
  },
  {
   "cell_type": "markdown",
   "metadata": {
    "tags": []
   },
   "source": [
    "***\n",
    "# Preview Data\n",
    "***"
   ]
  },
  {
   "cell_type": "code",
   "execution_count": 5,
   "metadata": {},
   "outputs": [
    {
     "data": {
      "text/html": [
       "<div>\n",
       "<style scoped>\n",
       "    .dataframe tbody tr th:only-of-type {\n",
       "        vertical-align: middle;\n",
       "    }\n",
       "\n",
       "    .dataframe tbody tr th {\n",
       "        vertical-align: top;\n",
       "    }\n",
       "\n",
       "    .dataframe thead th {\n",
       "        text-align: right;\n",
       "    }\n",
       "</style>\n",
       "<table border=\"1\" class=\"dataframe\">\n",
       "  <thead>\n",
       "    <tr style=\"text-align: right;\">\n",
       "      <th></th>\n",
       "      <th>period</th>\n",
       "      <th>originId</th>\n",
       "      <th>originName</th>\n",
       "      <th>originType</th>\n",
       "      <th>originTypeName</th>\n",
       "      <th>destinationId</th>\n",
       "      <th>destinationName</th>\n",
       "      <th>destinationType</th>\n",
       "      <th>destinationTypeName</th>\n",
       "      <th>gradeId</th>\n",
       "      <th>gradeName</th>\n",
       "    </tr>\n",
       "  </thead>\n",
       "  <tbody>\n",
       "    <tr>\n",
       "      <th>0</th>\n",
       "      <td>2023-02</td>\n",
       "      <td>CTY_AG</td>\n",
       "      <td>Algeria</td>\n",
       "      <td>CTY</td>\n",
       "      <td>Country</td>\n",
       "      <td>RF_223</td>\n",
       "      <td>PAULSBORO REFINING CO LLC / PAULSBORO / NJ</td>\n",
       "      <td>RF</td>\n",
       "      <td>Refinery</td>\n",
       "      <td>LSW</td>\n",
       "      <td>Light Sweet</td>\n",
       "    </tr>\n",
       "    <tr>\n",
       "      <th>1</th>\n",
       "      <td>2023-01</td>\n",
       "      <td>CTY_AG</td>\n",
       "      <td>Algeria</td>\n",
       "      <td>CTY</td>\n",
       "      <td>Country</td>\n",
       "      <td>RF_223</td>\n",
       "      <td>PAULSBORO REFINING CO LLC / PAULSBORO / NJ</td>\n",
       "      <td>RF</td>\n",
       "      <td>Refinery</td>\n",
       "      <td>LSW</td>\n",
       "      <td>Light Sweet</td>\n",
       "    </tr>\n",
       "    <tr>\n",
       "      <th>2</th>\n",
       "      <td>2023-11</td>\n",
       "      <td>CTY_AG</td>\n",
       "      <td>Algeria</td>\n",
       "      <td>CTY</td>\n",
       "      <td>Country</td>\n",
       "      <td>RF_506</td>\n",
       "      <td>DELAWARE CITY REFINING CO LLC / DELAWARE CITY ...</td>\n",
       "      <td>RF</td>\n",
       "      <td>Refinery</td>\n",
       "      <td>HSO</td>\n",
       "      <td>Heavy Sour</td>\n",
       "    </tr>\n",
       "    <tr>\n",
       "      <th>3</th>\n",
       "      <td>2023-02</td>\n",
       "      <td>CTY_AG</td>\n",
       "      <td>Algeria</td>\n",
       "      <td>CTY</td>\n",
       "      <td>Country</td>\n",
       "      <td>RF_506</td>\n",
       "      <td>DELAWARE CITY REFINING CO LLC / DELAWARE CITY ...</td>\n",
       "      <td>RF</td>\n",
       "      <td>Refinery</td>\n",
       "      <td>LSW</td>\n",
       "      <td>Light Sweet</td>\n",
       "    </tr>\n",
       "    <tr>\n",
       "      <th>4</th>\n",
       "      <td>2023-01</td>\n",
       "      <td>CTY_AG</td>\n",
       "      <td>Algeria</td>\n",
       "      <td>CTY</td>\n",
       "      <td>Country</td>\n",
       "      <td>RF_506</td>\n",
       "      <td>DELAWARE CITY REFINING CO LLC / DELAWARE CITY ...</td>\n",
       "      <td>RF</td>\n",
       "      <td>Refinery</td>\n",
       "      <td>LSW</td>\n",
       "      <td>Light Sweet</td>\n",
       "    </tr>\n",
       "  </tbody>\n",
       "</table>\n",
       "</div>"
      ],
      "text/plain": [
       "    period originId originName originType originTypeName destinationId  \\\n",
       "0  2023-02   CTY_AG    Algeria        CTY        Country        RF_223   \n",
       "1  2023-01   CTY_AG    Algeria        CTY        Country        RF_223   \n",
       "2  2023-11   CTY_AG    Algeria        CTY        Country        RF_506   \n",
       "3  2023-02   CTY_AG    Algeria        CTY        Country        RF_506   \n",
       "4  2023-01   CTY_AG    Algeria        CTY        Country        RF_506   \n",
       "\n",
       "                                     destinationName destinationType  \\\n",
       "0         PAULSBORO REFINING CO LLC / PAULSBORO / NJ              RF   \n",
       "1         PAULSBORO REFINING CO LLC / PAULSBORO / NJ              RF   \n",
       "2  DELAWARE CITY REFINING CO LLC / DELAWARE CITY ...              RF   \n",
       "3  DELAWARE CITY REFINING CO LLC / DELAWARE CITY ...              RF   \n",
       "4  DELAWARE CITY REFINING CO LLC / DELAWARE CITY ...              RF   \n",
       "\n",
       "  destinationTypeName gradeId    gradeName  \n",
       "0            Refinery     LSW  Light Sweet  \n",
       "1            Refinery     LSW  Light Sweet  \n",
       "2            Refinery     HSO   Heavy Sour  \n",
       "3            Refinery     LSW  Light Sweet  \n",
       "4            Refinery     LSW  Light Sweet  "
      ]
     },
     "execution_count": 5,
     "metadata": {},
     "output_type": "execute_result"
    }
   ],
   "source": [
    "output_df.head()"
   ]
  },
  {
   "cell_type": "code",
   "execution_count": 6,
   "metadata": {},
   "outputs": [
    {
     "data": {
      "text/plain": [
       "(25034, 11)"
      ]
     },
     "execution_count": 6,
     "metadata": {},
     "output_type": "execute_result"
    }
   ],
   "source": [
    "# Shape of dataframe\n",
    "output_df.shape"
   ]
  },
  {
   "cell_type": "markdown",
   "metadata": {},
   "source": [
    "***\n",
    "# Save to CSV\n",
    "***"
   ]
  },
  {
   "cell_type": "code",
   "execution_count": 7,
   "metadata": {},
   "outputs": [],
   "source": [
    "output_df.to_csv('crude_oil_imports.csv', index=False)"
   ]
  },
  {
   "cell_type": "markdown",
   "metadata": {},
   "source": [
    "***\n",
    "**End**\n",
    "***"
   ]
  }
 ],
 "metadata": {
  "kernelspec": {
   "display_name": "Python 3 (ipykernel)",
   "language": "python",
   "name": "python3"
  },
  "language_info": {
   "codemirror_mode": {
    "name": "ipython",
    "version": 3
   },
   "file_extension": ".py",
   "mimetype": "text/x-python",
   "name": "python",
   "nbconvert_exporter": "python",
   "pygments_lexer": "ipython3",
   "version": "3.12.2"
  }
 },
 "nbformat": 4,
 "nbformat_minor": 4
}

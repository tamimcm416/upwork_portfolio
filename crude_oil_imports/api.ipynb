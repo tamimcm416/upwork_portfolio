{
 "cells": [
  {
   "cell_type": "markdown",
   "metadata": {
    "jp-MarkdownHeadingCollapsed": true,
    "tags": []
   },
   "source": [
    "***\n",
    "<font size=6 color='blue'>Crude Oil Imports</font>   \n",
    "***  \n",
    "\n",
    "**Notebook Scope:**  \n",
    "This notebook includes code to retrieve crude oil import data from [U.S. Energy Information Administration](https://www.eia.gov/opendata/documentation.php) site for 2023, using the API provided by the US government's Open Data initiative.\n",
    "\n",
    "**Output:**  \n",
    "The resulting data is saved to a CSV file for further analysis.\n",
    "***  "
   ]
  },
  {
   "cell_type": "markdown",
   "metadata": {
    "tags": []
   },
   "source": [
    "# Notebook Setup\n",
    "***"
   ]
  },
  {
   "cell_type": "code",
   "execution_count": 1,
   "metadata": {},
   "outputs": [],
   "source": [
    "# Import libraries\n",
    "import requests\n",
    "import json\n",
    "import pandas as pd"
   ]
  },
  {
   "cell_type": "code",
   "execution_count": 2,
   "metadata": {},
   "outputs": [
    {
     "data": {
      "text/html": [
       "<!-- Prevent text wrappping in dataframe displays for a cleaner print -->\n",
       "<style> .dataframe td {white-space: nowrap;}</style>\n"
      ],
      "text/plain": [
       "<IPython.core.display.HTML object>"
      ]
     },
     "metadata": {},
     "output_type": "display_data"
    }
   ],
   "source": [
    "%%html\n",
    "<!-- Prevent text wrappping in dataframe displays for a cleaner print -->\n",
    "<style> .dataframe td {white-space: nowrap;}</style>"
   ]
  },
  {
   "cell_type": "markdown",
   "metadata": {
    "tags": []
   },
   "source": [
    "***\n",
    "# Load Data\n",
    "***"
   ]
  },
  {
   "cell_type": "code",
   "execution_count": 3,
   "metadata": {},
   "outputs": [],
   "source": [
    "# Setup api parameters\n",
    "url = 'https://api.eia.gov/v2/crude-oil-imports/data'\n",
    "params_dict = {'api_key': 'x',\n",
    "               'frequency': 'monthly',\n",
    "               'data[0]': 'quantity',\n",
    "               'start': '2023-01',\n",
    "               'end': '2023-12',\n",
    "               'offset': 0,\n",
    "               'length': 5000}"
   ]
  },
  {
   "cell_type": "code",
   "execution_count": 4,
   "metadata": {},
   "outputs": [],
   "source": [
    "# Call api, looping through all pages of results and appending to a dataframe\n",
    "output_df = pd.DataFrame()\n",
    "total_rows = 0\n",
    "\n",
    "while params_dict['offset'] == 0 or params_dict['offset'] < total_rows:\n",
    "    resp = requests.get(url, params=params_dict)\n",
    "    output_df = pd.concat([output_df, pd.DataFrame(resp.json()['response']['data'])])\n",
    "    total_rows = int(resp.json()['response']['total'])\n",
    "    params_dict['offset'] += 5000"
   ]
  },
  {
   "cell_type": "markdown",
   "metadata": {
    "tags": []
   },
   "source": [
    "***\n",
    "# Preview Data\n",
    "***"
   ]
  },
  {
   "cell_type": "code",
   "execution_count": 5,
   "metadata": {},
   "outputs": [
    {
     "data": {
      "text/html": [
       "<div>\n",
       "<style scoped>\n",
       "    .dataframe tbody tr th:only-of-type {\n",
       "        vertical-align: middle;\n",
       "    }\n",
       "\n",
       "    .dataframe tbody tr th {\n",
       "        vertical-align: top;\n",
       "    }\n",
       "\n",
       "    .dataframe thead th {\n",
       "        text-align: right;\n",
       "    }\n",
       "</style>\n",
       "<table border=\"1\" class=\"dataframe\">\n",
       "  <thead>\n",
       "    <tr style=\"text-align: right;\">\n",
       "      <th></th>\n",
       "      <th>period</th>\n",
       "      <th>originId</th>\n",
       "      <th>originName</th>\n",
       "      <th>originType</th>\n",
       "      <th>originTypeName</th>\n",
       "      <th>destinationId</th>\n",
       "      <th>destinationName</th>\n",
       "      <th>destinationType</th>\n",
       "      <th>destinationTypeName</th>\n",
       "      <th>gradeId</th>\n",
       "      <th>gradeName</th>\n",
       "      <th>quantity</th>\n",
       "      <th>quantity-units</th>\n",
       "    </tr>\n",
       "  </thead>\n",
       "  <tbody>\n",
       "    <tr>\n",
       "      <th>0</th>\n",
       "      <td>2023-02</td>\n",
       "      <td>CTY_CA</td>\n",
       "      <td>Canada</td>\n",
       "      <td>CTY</td>\n",
       "      <td>Country</td>\n",
       "      <td>RP_3</td>\n",
       "      <td>PADD3 (Gulf Coast)</td>\n",
       "      <td>RP</td>\n",
       "      <td>Refinery PADD</td>\n",
       "      <td>HSO</td>\n",
       "      <td>Heavy Sour</td>\n",
       "      <td>6209</td>\n",
       "      <td>thousand barrels</td>\n",
       "    </tr>\n",
       "    <tr>\n",
       "      <th>1</th>\n",
       "      <td>2023-02</td>\n",
       "      <td>CTY_CA</td>\n",
       "      <td>Canada</td>\n",
       "      <td>CTY</td>\n",
       "      <td>Country</td>\n",
       "      <td>RP_4</td>\n",
       "      <td>PADD4 (Rocky Mountain)</td>\n",
       "      <td>RP</td>\n",
       "      <td>Refinery PADD</td>\n",
       "      <td>HSO</td>\n",
       "      <td>Heavy Sour</td>\n",
       "      <td>6287</td>\n",
       "      <td>thousand barrels</td>\n",
       "    </tr>\n",
       "    <tr>\n",
       "      <th>2</th>\n",
       "      <td>2023-02</td>\n",
       "      <td>CTY_CA</td>\n",
       "      <td>Canada</td>\n",
       "      <td>CTY</td>\n",
       "      <td>Country</td>\n",
       "      <td>RP_4</td>\n",
       "      <td>PADD4 (Rocky Mountain)</td>\n",
       "      <td>RP</td>\n",
       "      <td>Refinery PADD</td>\n",
       "      <td>HSW</td>\n",
       "      <td>Heavy Sweet</td>\n",
       "      <td>518</td>\n",
       "      <td>thousand barrels</td>\n",
       "    </tr>\n",
       "    <tr>\n",
       "      <th>3</th>\n",
       "      <td>2023-02</td>\n",
       "      <td>CTY_CA</td>\n",
       "      <td>Canada</td>\n",
       "      <td>CTY</td>\n",
       "      <td>Country</td>\n",
       "      <td>RP_4</td>\n",
       "      <td>PADD4 (Rocky Mountain)</td>\n",
       "      <td>RP</td>\n",
       "      <td>Refinery PADD</td>\n",
       "      <td>MED</td>\n",
       "      <td>Medium</td>\n",
       "      <td>1743</td>\n",
       "      <td>thousand barrels</td>\n",
       "    </tr>\n",
       "    <tr>\n",
       "      <th>4</th>\n",
       "      <td>2023-02</td>\n",
       "      <td>CTY_CA</td>\n",
       "      <td>Canada</td>\n",
       "      <td>CTY</td>\n",
       "      <td>Country</td>\n",
       "      <td>RP_5</td>\n",
       "      <td>PADD5 (West Coast)</td>\n",
       "      <td>RP</td>\n",
       "      <td>Refinery PADD</td>\n",
       "      <td>HSO</td>\n",
       "      <td>Heavy Sour</td>\n",
       "      <td>1295</td>\n",
       "      <td>thousand barrels</td>\n",
       "    </tr>\n",
       "  </tbody>\n",
       "</table>\n",
       "</div>"
      ],
      "text/plain": [
       "    period originId originName originType originTypeName destinationId  \\\n",
       "0  2023-02   CTY_CA     Canada        CTY        Country          RP_3   \n",
       "1  2023-02   CTY_CA     Canada        CTY        Country          RP_4   \n",
       "2  2023-02   CTY_CA     Canada        CTY        Country          RP_4   \n",
       "3  2023-02   CTY_CA     Canada        CTY        Country          RP_4   \n",
       "4  2023-02   CTY_CA     Canada        CTY        Country          RP_5   \n",
       "\n",
       "          destinationName destinationType destinationTypeName gradeId  \\\n",
       "0      PADD3 (Gulf Coast)              RP       Refinery PADD     HSO   \n",
       "1  PADD4 (Rocky Mountain)              RP       Refinery PADD     HSO   \n",
       "2  PADD4 (Rocky Mountain)              RP       Refinery PADD     HSW   \n",
       "3  PADD4 (Rocky Mountain)              RP       Refinery PADD     MED   \n",
       "4      PADD5 (West Coast)              RP       Refinery PADD     HSO   \n",
       "\n",
       "     gradeName quantity    quantity-units  \n",
       "0   Heavy Sour     6209  thousand barrels  \n",
       "1   Heavy Sour     6287  thousand barrels  \n",
       "2  Heavy Sweet      518  thousand barrels  \n",
       "3       Medium     1743  thousand barrels  \n",
       "4   Heavy Sour     1295  thousand barrels  "
      ]
     },
     "execution_count": 5,
     "metadata": {},
     "output_type": "execute_result"
    }
   ],
   "source": [
    "output_df.head()"
   ]
  },
  {
   "cell_type": "code",
   "execution_count": 6,
   "metadata": {},
   "outputs": [
    {
     "data": {
      "text/plain": [
       "(25034, 13)"
      ]
     },
     "execution_count": 6,
     "metadata": {},
     "output_type": "execute_result"
    }
   ],
   "source": [
    "# Shape of dataframe\n",
    "output_df.shape"
   ]
  },
  {
   "cell_type": "markdown",
   "metadata": {},
   "source": [
    "***\n",
    "# Save to CSV\n",
    "***"
   ]
  },
  {
   "cell_type": "code",
   "execution_count": 7,
   "metadata": {},
   "outputs": [],
   "source": [
    "output_df.to_csv('crude_oil_imports.csv', index=False)"
   ]
  },
  {
   "cell_type": "markdown",
   "metadata": {},
   "source": [
    "***\n",
    "**End**\n",
    "***"
   ]
  }
 ],
 "metadata": {
  "kernelspec": {
   "display_name": "Python 3 (ipykernel)",
   "language": "python",
   "name": "python3"
  },
  "language_info": {
   "codemirror_mode": {
    "name": "ipython",
    "version": 3
   },
   "file_extension": ".py",
   "mimetype": "text/x-python",
   "name": "python",
   "nbconvert_exporter": "python",
   "pygments_lexer": "ipython3",
   "version": "3.12.2"
  }
 },
 "nbformat": 4,
 "nbformat_minor": 4
}

{
 "cells": [
  {
   "cell_type": "markdown",
   "metadata": {
    "jp-MarkdownHeadingCollapsed": true,
    "tags": []
   },
   "source": [
    "***\n",
    "<font size=6 color='blue'>Bulk Import from XML</font>   \n",
    "***  \n",
    "\n",
    "**Notebook Scope:**  \n",
    "This notebook includes code to read in a series of XML files, combine them into a series of dataframes and export to CSV. The XML files include data on Congressional Bills from the 118th Congress, downloaded from the [ProPublica Data Store](https://www.propublica.org/datastore/dataset/congressional-data-bulk-legislation-bills).\n",
    "\n",
    "**Output:**  \n",
    "CSV Files\n",
    "***  "
   ]
  },
  {
   "cell_type": "markdown",
   "metadata": {
    "tags": []
   },
   "source": [
    "# Notebook Setup\n",
    "***"
   ]
  },
  {
   "cell_type": "code",
   "execution_count": 92,
   "metadata": {},
   "outputs": [],
   "source": [
    "# Import libraries\n",
    "import pathlib\n",
    "import os\n",
    "import datetime\n",
    "import pandas as pd\n",
    "import lxml.etree as ET\n",
    "from bs4 import BeautifulSoup"
   ]
  },
  {
   "cell_type": "code",
   "execution_count": 2,
   "metadata": {},
   "outputs": [],
   "source": [
    "# Define pandas options and defaults\n",
    "#pd.options_display_max_colwidth = 30\n",
    "def_style = [{'selector': 'td', 'props': 'white-space: nowrap; max-width: 300px; text-overflow: ellipsis; overflow: hidden;'}]"
   ]
  },
  {
   "cell_type": "markdown",
   "metadata": {},
   "source": [
    "***\n",
    "# Import XML Data\n",
    "***"
   ]
  },
  {
   "cell_type": "code",
   "execution_count": 3,
   "metadata": {},
   "outputs": [],
   "source": [
    "# Create dataframes\n",
    "bills_df = pd.DataFrame()\n",
    "committees_df = pd.DataFrame()\n",
    "related_bills_df = pd.DataFrame()\n",
    "actions_df = pd.DataFrame()\n",
    "sponsors_df = pd.DataFrame()\n",
    "cosponsors_df = pd.DataFrame()\n",
    "subjects_df = pd.DataFrame()\n",
    "summaries_df = pd.DataFrame()\n",
    "titles_df = pd.DataFrame()"
   ]
  },
  {
   "cell_type": "code",
   "execution_count": 4,
   "metadata": {},
   "outputs": [],
   "source": [
    "# Create a cross reference between elements and the df they will be stored in\n",
    "dfs_dict = {'committees': committees_df, 'relatedBills': related_bills_df, 'actions': actions_df,\n",
    "            'sponsors': sponsors_df, 'cosponsors': cosponsors_df, 'subjects': subjects_df,\n",
    "            'summaries': summaries_df, 'titles': titles_df}"
   ]
  },
  {
   "cell_type": "code",
   "execution_count": 5,
   "metadata": {},
   "outputs": [],
   "source": [
    "# Process multi element nodes\n",
    "def proc_multi_nodes(parent, unique_id, elems, df, dup_tag=''):\n",
    "    # Create a list of element tags contained in the elems object passed to the function\n",
    "    tags = [x.tag for x in elems]\n",
    "    \n",
    "    # If there are multiple elements, but they all have the same tag, we will want to create a new row for each\n",
    "    if len(set(tags)) == 1 and len(tags) > 1:\n",
    "        dup_tag = parent + tags[0]\n",
    "        \n",
    "    for item in elems:\n",
    "        if parent == '' or parent + item.tag == dup_tag:\n",
    "            i = len(df)\n",
    "            df.at[i, 'id'] = unique_id\n",
    "        elif item.tag == 'subcommittees':\n",
    "            return\n",
    "        else:\n",
    "            i = len(df) - 1\n",
    "        if item.text is not None and item.text.strip() != '':\n",
    "            if '<' in item.text:\n",
    "                df.at[i, parent + item.tag] = BeautifulSoup(item.text, 'lxml').text\n",
    "            else:\n",
    "                df.at[i, parent + item.tag] = item.text\n",
    "        proc_multi_nodes(parent + item.tag, unique_id, item, df, dup_tag)"
   ]
  },
  {
   "cell_type": "code",
   "execution_count": 20,
   "metadata": {},
   "outputs": [],
   "source": [
    "# Create an iterable object containing all files by type - repeat in batches to reduce run time\n",
    "path = '_data/sres/'\n",
    "file_name ='fdsys_billstatus.xml' \n",
    "base_dir = pathlib.Path(path)\n",
    "files_iter = base_dir.rglob(file_name)"
   ]
  },
  {
   "cell_type": "code",
   "execution_count": 21,
   "metadata": {},
   "outputs": [],
   "source": [
    "# Read file and process\n",
    "for file in files_iter:\n",
    "    # Capture unique ID based on the files immediate parent directory\n",
    "    right = str(file)[:-21].rfind('\\\\') + 1\n",
    "    unique_id = str(file)[right:-21]\n",
    "\n",
    "    # Read and parse the XML\n",
    "    tree = ET.parse(file)\n",
    "    bill = tree.find('bill')\n",
    "    i = len(bills_df)\n",
    "\n",
    "    # Procees each top level element in the current file\n",
    "    for elem in bill:\n",
    "        if elem.tag in dfs_dict.keys():\n",
    "            proc_multi_nodes('', unique_id, elem, dfs_dict[elem.tag])\n",
    "        elif elem.tag == 'policyArea':\n",
    "            pa = elem.findall('name')\n",
    "            bills_df.at[i, elem.tag] = pa[0].text\n",
    "        else:\n",
    "            if elem.text is not None and elem.text.strip() != '':\n",
    "                bills_df.at[i, elem.tag] = elem.text"
   ]
  },
  {
   "cell_type": "markdown",
   "metadata": {},
   "source": [
    "***\n",
    "**<font color='blue'>Validation Check - File Count</font>**  \n",
    "hr:       8,391  \n",
    "s:        4,334  \n",
    "hres:     1,226  \n",
    "sres:       686  \n",
    "hjres:      139  \n",
    "hconres:    107  \n",
    "sjres:       78  \n",
    "sconres:     36  \n",
    "**Total:   14,997** \n",
    "***"
   ]
  },
  {
   "cell_type": "code",
   "execution_count": 22,
   "metadata": {},
   "outputs": [
    {
     "data": {
      "text/plain": [
       "type\n",
       "HR         8391\n",
       "S          4334\n",
       "HRES       1226\n",
       "SRES        686\n",
       "HJRES       139\n",
       "HCONRES     107\n",
       "SJRES        78\n",
       "SCONRES      36\n",
       "Name: count, dtype: int64"
      ]
     },
     "execution_count": 22,
     "metadata": {},
     "output_type": "execute_result"
    }
   ],
   "source": [
    "# Check rows loaded\n",
    "bills_df['type'].value_counts()"
   ]
  },
  {
   "cell_type": "markdown",
   "metadata": {
    "tags": []
   },
   "source": [
    "***\n",
    "# Save Temp Files\n",
    "<font color='red'>Delete when finished</font>\n",
    "***"
   ]
  },
  {
   "cell_type": "code",
   "execution_count": 23,
   "metadata": {},
   "outputs": [],
   "source": [
    "# Save loaded data to CSV files to shorten processing on subsequent iterations of code cleanup\n",
    "bills_df.to_csv('bills.csv', index=False)\n",
    "committees_df.to_csv('committees.csv', index=False)\n",
    "related_bills_df.to_csv('related_bills.csv', index=False)\n",
    "actions_df.to_csv('actions.csv', index=False)\n",
    "sponsors_df.to_csv('sponsors.csv', index=False)\n",
    "cosponsors_df.to_csv('cosponsors.csv', index=False)\n",
    "subjects_df.to_csv('subjects.csv', index=False)\n",
    "summaries_df.to_csv('summaries.csv', index=False)\n",
    "titles_df.to_csv('titles.csv', index=False)"
   ]
  },
  {
   "cell_type": "code",
   "execution_count": null,
   "metadata": {},
   "outputs": [],
   "source": [
    "bills_df = pd.read_csv('bills.csv')\n",
    "committees_df = pd.read_csv('committees.csv')\n",
    "related_bills_df = pd.read_csv('related_bills.csv')\n",
    "actions_df = pd.read_csv('actions.csv')\n",
    "sponsors_df = pd.read_csv('sponsors.csv')\n",
    "cosponsors_df = pd.read_csv('cosponsors.csv')\n",
    "subjects_df = pd.read_csv('subjects.csv')\n",
    "summaries_df = pd.read_csv('summaries.csv')\n",
    "titles_df = pd.read_csv('titles.csv')"
   ]
  },
  {
   "cell_type": "markdown",
   "metadata": {
    "tags": []
   },
   "source": [
    "***\n",
    "# Cleanup Data\n",
    "***"
   ]
  },
  {
   "cell_type": "markdown",
   "metadata": {},
   "source": [
    "## Bills\n",
    "***"
   ]
  },
  {
   "cell_type": "code",
   "execution_count": 24,
   "metadata": {},
   "outputs": [
    {
     "data": {
      "text/html": [
       "<style type=\"text/css\">\n",
       "#T_4945d td {\n",
       "  white-space: nowrap;\n",
       "  max-width: 300px;\n",
       "  text-overflow: ellipsis;\n",
       "  overflow: hidden;\n",
       "}\n",
       "</style>\n",
       "<table id=\"T_4945d\">\n",
       "  <thead>\n",
       "    <tr>\n",
       "      <th class=\"blank level0\" >&nbsp;</th>\n",
       "      <th id=\"T_4945d_level0_col0\" class=\"col_heading level0 col0\" >number</th>\n",
       "      <th id=\"T_4945d_level0_col1\" class=\"col_heading level0 col1\" >updateDate</th>\n",
       "      <th id=\"T_4945d_level0_col2\" class=\"col_heading level0 col2\" >updateDateIncludingText</th>\n",
       "      <th id=\"T_4945d_level0_col3\" class=\"col_heading level0 col3\" >originChamber</th>\n",
       "      <th id=\"T_4945d_level0_col4\" class=\"col_heading level0 col4\" >originChamberCode</th>\n",
       "      <th id=\"T_4945d_level0_col5\" class=\"col_heading level0 col5\" >type</th>\n",
       "      <th id=\"T_4945d_level0_col6\" class=\"col_heading level0 col6\" >introducedDate</th>\n",
       "      <th id=\"T_4945d_level0_col7\" class=\"col_heading level0 col7\" >congress</th>\n",
       "      <th id=\"T_4945d_level0_col8\" class=\"col_heading level0 col8\" >policyArea</th>\n",
       "      <th id=\"T_4945d_level0_col9\" class=\"col_heading level0 col9\" >title</th>\n",
       "      <th id=\"T_4945d_level0_col10\" class=\"col_heading level0 col10\" >constitutionalAuthorityStatementText</th>\n",
       "    </tr>\n",
       "  </thead>\n",
       "  <tbody>\n",
       "    <tr>\n",
       "      <th id=\"T_4945d_level0_row0\" class=\"row_heading level0 row0\" >0</th>\n",
       "      <td id=\"T_4945d_row0_col0\" class=\"data row0 col0\" >1</td>\n",
       "      <td id=\"T_4945d_row0_col1\" class=\"data row0 col1\" >2024-04-17T23:49:12Z</td>\n",
       "      <td id=\"T_4945d_row0_col2\" class=\"data row0 col2\" >2024-04-17T23:49:12Z</td>\n",
       "      <td id=\"T_4945d_row0_col3\" class=\"data row0 col3\" >House</td>\n",
       "      <td id=\"T_4945d_row0_col4\" class=\"data row0 col4\" >H</td>\n",
       "      <td id=\"T_4945d_row0_col5\" class=\"data row0 col5\" >HCONRES</td>\n",
       "      <td id=\"T_4945d_row0_col6\" class=\"data row0 col6\" >2023-01-09</td>\n",
       "      <td id=\"T_4945d_row0_col7\" class=\"data row0 col7\" >118</td>\n",
       "      <td id=\"T_4945d_row0_col8\" class=\"data row0 col8\" >Congress</td>\n",
       "      <td id=\"T_4945d_row0_col9\" class=\"data row0 col9\" >Regarding consent to assemble outside the seat of government.</td>\n",
       "      <td id=\"T_4945d_row0_col10\" class=\"data row0 col10\" >nan</td>\n",
       "    </tr>\n",
       "    <tr>\n",
       "      <th id=\"T_4945d_level0_row1\" class=\"row_heading level0 row1\" >1</th>\n",
       "      <td id=\"T_4945d_row1_col0\" class=\"data row1 col0\" >10</td>\n",
       "      <td id=\"T_4945d_row1_col1\" class=\"data row1 col1\" >2024-06-11T15:49:42Z</td>\n",
       "      <td id=\"T_4945d_row1_col2\" class=\"data row1 col2\" >2024-06-11T15:49:42Z</td>\n",
       "      <td id=\"T_4945d_row1_col3\" class=\"data row1 col3\" >House</td>\n",
       "      <td id=\"T_4945d_row1_col4\" class=\"data row1 col4\" >H</td>\n",
       "      <td id=\"T_4945d_row1_col5\" class=\"data row1 col5\" >HCONRES</td>\n",
       "      <td id=\"T_4945d_row1_col6\" class=\"data row1 col6\" >2023-01-25</td>\n",
       "      <td id=\"T_4945d_row1_col7\" class=\"data row1 col7\" >118</td>\n",
       "      <td id=\"T_4945d_row1_col8\" class=\"data row1 col8\" >International Affairs</td>\n",
       "      <td id=\"T_4945d_row1_col9\" class=\"data row1 col9\" >Expressing the sense of Congress that the United States should resume normal diplomatic relations with Taiwan, negotiate a bilateral free trade agreement with Taiwan, and support Taiwan's membership in international organizations.</td>\n",
       "      <td id=\"T_4945d_row1_col10\" class=\"data row1 col10\" >nan</td>\n",
       "    </tr>\n",
       "    <tr>\n",
       "      <th id=\"T_4945d_level0_row2\" class=\"row_heading level0 row2\" >2</th>\n",
       "      <td id=\"T_4945d_row2_col0\" class=\"data row2 col0\" >100</td>\n",
       "      <td id=\"T_4945d_row2_col1\" class=\"data row2 col1\" >2024-06-11T15:43:47Z</td>\n",
       "      <td id=\"T_4945d_row2_col2\" class=\"data row2 col2\" >2024-06-11T15:43:47Z</td>\n",
       "      <td id=\"T_4945d_row2_col3\" class=\"data row2 col3\" >House</td>\n",
       "      <td id=\"T_4945d_row2_col4\" class=\"data row2 col4\" >H</td>\n",
       "      <td id=\"T_4945d_row2_col5\" class=\"data row2 col5\" >HCONRES</td>\n",
       "      <td id=\"T_4945d_row2_col6\" class=\"data row2 col6\" >2024-03-22</td>\n",
       "      <td id=\"T_4945d_row2_col7\" class=\"data row2 col7\" >118</td>\n",
       "      <td id=\"T_4945d_row2_col8\" class=\"data row2 col8\" >Congress</td>\n",
       "      <td id=\"T_4945d_row2_col9\" class=\"data row2 col9\" >Directing the Clerk of the House of Representatives to make a correction in the enrollment of H.R. 2882.</td>\n",
       "      <td id=\"T_4945d_row2_col10\" class=\"data row2 col10\" >nan</td>\n",
       "    </tr>\n",
       "    <tr>\n",
       "      <th id=\"T_4945d_level0_row3\" class=\"row_heading level0 row3\" >3</th>\n",
       "      <td id=\"T_4945d_row3_col0\" class=\"data row3 col0\" >101</td>\n",
       "      <td id=\"T_4945d_row3_col1\" class=\"data row3 col1\" >2024-06-11T15:43:56Z</td>\n",
       "      <td id=\"T_4945d_row3_col2\" class=\"data row3 col2\" >2024-06-11T15:43:56Z</td>\n",
       "      <td id=\"T_4945d_row3_col3\" class=\"data row3 col3\" >House</td>\n",
       "      <td id=\"T_4945d_row3_col4\" class=\"data row3 col4\" >H</td>\n",
       "      <td id=\"T_4945d_row3_col5\" class=\"data row3 col5\" >HCONRES</td>\n",
       "      <td id=\"T_4945d_row3_col6\" class=\"data row3 col6\" >2024-03-22</td>\n",
       "      <td id=\"T_4945d_row3_col7\" class=\"data row3 col7\" >118</td>\n",
       "      <td id=\"T_4945d_row3_col8\" class=\"data row3 col8\" >Civil Rights and Liberties, Minority Issues</td>\n",
       "      <td id=\"T_4945d_row3_col9\" class=\"data row3 col9\" >Recognizing the need to improve physical access to many federally funded facilities for all people of the United States, particularly people with disabilities.</td>\n",
       "      <td id=\"T_4945d_row3_col10\" class=\"data row3 col10\" >nan</td>\n",
       "    </tr>\n",
       "    <tr>\n",
       "      <th id=\"T_4945d_level0_row4\" class=\"row_heading level0 row4\" >4</th>\n",
       "      <td id=\"T_4945d_row4_col0\" class=\"data row4 col0\" >102</td>\n",
       "      <td id=\"T_4945d_row4_col1\" class=\"data row4 col1\" >2024-06-11T15:44:36Z</td>\n",
       "      <td id=\"T_4945d_row4_col2\" class=\"data row4 col2\" >2024-06-11T15:44:36Z</td>\n",
       "      <td id=\"T_4945d_row4_col3\" class=\"data row4 col3\" >House</td>\n",
       "      <td id=\"T_4945d_row4_col4\" class=\"data row4 col4\" >H</td>\n",
       "      <td id=\"T_4945d_row4_col5\" class=\"data row4 col5\" >HCONRES</td>\n",
       "      <td id=\"T_4945d_row4_col6\" class=\"data row4 col6\" >2024-03-29</td>\n",
       "      <td id=\"T_4945d_row4_col7\" class=\"data row4 col7\" >118</td>\n",
       "      <td id=\"T_4945d_row4_col8\" class=\"data row4 col8\" >Civil Rights and Liberties, Minority Issues</td>\n",
       "      <td id=\"T_4945d_row4_col9\" class=\"data row4 col9\" >Supporting the goals and ideals of International Transgender Day of Visibility.</td>\n",
       "      <td id=\"T_4945d_row4_col10\" class=\"data row4 col10\" >nan</td>\n",
       "    </tr>\n",
       "  </tbody>\n",
       "</table>\n"
      ],
      "text/plain": [
       "<pandas.io.formats.style.Styler at 0x20628505160>"
      ]
     },
     "execution_count": 24,
     "metadata": {},
     "output_type": "execute_result"
    }
   ],
   "source": [
    "# Review bills_df\n",
    "bills_df.head().style.set_table_styles(def_style)"
   ]
  },
  {
   "cell_type": "code",
   "execution_count": 25,
   "metadata": {},
   "outputs": [
    {
     "data": {
      "text/plain": [
       "(14997, 11)"
      ]
     },
     "execution_count": 25,
     "metadata": {},
     "output_type": "execute_result"
    }
   ],
   "source": [
    "# Review shape of dataframe\n",
    "bills_df.shape"
   ]
  },
  {
   "cell_type": "code",
   "execution_count": 26,
   "metadata": {},
   "outputs": [],
   "source": [
    "# Delete duplicates and nan columns\n",
    "bills_df.drop_duplicates(inplace=True)\n",
    "bills_df.dropna(axis=1, how='all', inplace=True)"
   ]
  },
  {
   "cell_type": "code",
   "execution_count": 27,
   "metadata": {},
   "outputs": [
    {
     "data": {
      "text/plain": [
       "number                                     0\n",
       "updateDate                                 0\n",
       "updateDateIncludingText                    0\n",
       "originChamber                              0\n",
       "originChamberCode                         17\n",
       "type                                       0\n",
       "introducedDate                             0\n",
       "congress                                   0\n",
       "policyArea                               868\n",
       "title                                      0\n",
       "constitutionalAuthorityStatementText    6641\n",
       "dtype: int64"
      ]
     },
     "execution_count": 27,
     "metadata": {},
     "output_type": "execute_result"
    }
   ],
   "source": [
    "# Review columns with NaN content\n",
    "bills_df.isna().sum()"
   ]
  },
  {
   "cell_type": "code",
   "execution_count": 28,
   "metadata": {},
   "outputs": [
    {
     "data": {
      "text/html": [
       "<style type=\"text/css\">\n",
       "#T_24dcf td {\n",
       "  white-space: nowrap;\n",
       "  max-width: 300px;\n",
       "  text-overflow: ellipsis;\n",
       "  overflow: hidden;\n",
       "}\n",
       "</style>\n",
       "<table id=\"T_24dcf\">\n",
       "  <thead>\n",
       "    <tr>\n",
       "      <th class=\"blank level0\" >&nbsp;</th>\n",
       "      <th id=\"T_24dcf_level0_col0\" class=\"col_heading level0 col0\" >number</th>\n",
       "      <th id=\"T_24dcf_level0_col1\" class=\"col_heading level0 col1\" >updateDate</th>\n",
       "      <th id=\"T_24dcf_level0_col2\" class=\"col_heading level0 col2\" >updateDateIncludingText</th>\n",
       "      <th id=\"T_24dcf_level0_col3\" class=\"col_heading level0 col3\" >originChamber</th>\n",
       "      <th id=\"T_24dcf_level0_col4\" class=\"col_heading level0 col4\" >originChamberCode</th>\n",
       "      <th id=\"T_24dcf_level0_col5\" class=\"col_heading level0 col5\" >type</th>\n",
       "      <th id=\"T_24dcf_level0_col6\" class=\"col_heading level0 col6\" >introducedDate</th>\n",
       "      <th id=\"T_24dcf_level0_col7\" class=\"col_heading level0 col7\" >congress</th>\n",
       "      <th id=\"T_24dcf_level0_col8\" class=\"col_heading level0 col8\" >policyArea</th>\n",
       "      <th id=\"T_24dcf_level0_col9\" class=\"col_heading level0 col9\" >title</th>\n",
       "      <th id=\"T_24dcf_level0_col10\" class=\"col_heading level0 col10\" >constitutionalAuthorityStatementText</th>\n",
       "    </tr>\n",
       "  </thead>\n",
       "  <tbody>\n",
       "    <tr>\n",
       "      <th id=\"T_24dcf_level0_row0\" class=\"row_heading level0 row0\" >11226</th>\n",
       "      <td id=\"T_24dcf_row0_col0\" class=\"data row0 col0\" >2226</td>\n",
       "      <td id=\"T_24dcf_row0_col1\" class=\"data row0 col1\" >2023-08-25T00:00:30Z</td>\n",
       "      <td id=\"T_24dcf_row0_col2\" class=\"data row0 col2\" >2023-08-25T00:00:30Z</td>\n",
       "      <td id=\"T_24dcf_row0_col3\" class=\"data row0 col3\" >Senate</td>\n",
       "      <td id=\"T_24dcf_row0_col4\" class=\"data row0 col4\" >nan</td>\n",
       "      <td id=\"T_24dcf_row0_col5\" class=\"data row0 col5\" >S</td>\n",
       "      <td id=\"T_24dcf_row0_col6\" class=\"data row0 col6\" >2023-07-11</td>\n",
       "      <td id=\"T_24dcf_row0_col7\" class=\"data row0 col7\" >118</td>\n",
       "      <td id=\"T_24dcf_row0_col8\" class=\"data row0 col8\" >Armed Forces and National Security</td>\n",
       "      <td id=\"T_24dcf_row0_col9\" class=\"data row0 col9\" >National Defense Authorization Act for Fiscal Year 2024</td>\n",
       "      <td id=\"T_24dcf_row0_col10\" class=\"data row0 col10\" >nan</td>\n",
       "    </tr>\n",
       "    <tr>\n",
       "      <th id=\"T_24dcf_level0_row1\" class=\"row_heading level0 row1\" >14618</th>\n",
       "      <td id=\"T_24dcf_row1_col0\" class=\"data row1 col0\" >376</td>\n",
       "      <td id=\"T_24dcf_row1_col1\" class=\"data row1 col1\" >2023-12-15T16:05:00Z</td>\n",
       "      <td id=\"T_24dcf_row1_col2\" class=\"data row1 col2\" >2023-12-15T15:24:23Z</td>\n",
       "      <td id=\"T_24dcf_row1_col3\" class=\"data row1 col3\" >Senate</td>\n",
       "      <td id=\"T_24dcf_row1_col4\" class=\"data row1 col4\" >nan</td>\n",
       "      <td id=\"T_24dcf_row1_col5\" class=\"data row1 col5\" >SRES</td>\n",
       "      <td id=\"T_24dcf_row1_col6\" class=\"data row1 col6\" >2023-09-27</td>\n",
       "      <td id=\"T_24dcf_row1_col7\" class=\"data row1 col7\" >118</td>\n",
       "      <td id=\"T_24dcf_row1_col8\" class=\"data row1 col8\" >Congress</td>\n",
       "      <td id=\"T_24dcf_row1_col9\" class=\"data row1 col9\" >Senate Dress Code Resolution</td>\n",
       "      <td id=\"T_24dcf_row1_col10\" class=\"data row1 col10\" >nan</td>\n",
       "    </tr>\n",
       "    <tr>\n",
       "      <th id=\"T_24dcf_level0_row2\" class=\"row_heading level0 row2\" >14655</th>\n",
       "      <td id=\"T_24dcf_row2_col0\" class=\"data row2 col0\" >409</td>\n",
       "      <td id=\"T_24dcf_row2_col1\" class=\"data row2 col1\" >2023-12-15T16:05:04Z</td>\n",
       "      <td id=\"T_24dcf_row2_col2\" class=\"data row2 col2\" >2023-12-15T15:24:23Z</td>\n",
       "      <td id=\"T_24dcf_row2_col3\" class=\"data row2 col3\" >Senate</td>\n",
       "      <td id=\"T_24dcf_row2_col4\" class=\"data row2 col4\" >nan</td>\n",
       "      <td id=\"T_24dcf_row2_col5\" class=\"data row2 col5\" >SRES</td>\n",
       "      <td id=\"T_24dcf_row2_col6\" class=\"data row2 col6\" >2023-10-17</td>\n",
       "      <td id=\"T_24dcf_row2_col7\" class=\"data row2 col7\" >118</td>\n",
       "      <td id=\"T_24dcf_row2_col8\" class=\"data row2 col8\" >Congress</td>\n",
       "      <td id=\"T_24dcf_row2_col9\" class=\"data row2 col9\" >A resolution authorizing the use of the atrium in the Philip A. Hart Senate Office Building for a Bipawtisan Howl-o-ween Dog Pawrade on October 31, 2023, from 4:00 to 6:00 p.m.</td>\n",
       "      <td id=\"T_24dcf_row2_col10\" class=\"data row2 col10\" >nan</td>\n",
       "    </tr>\n",
       "    <tr>\n",
       "      <th id=\"T_24dcf_level0_row3\" class=\"row_heading level0 row3\" >14658</th>\n",
       "      <td id=\"T_24dcf_row3_col0\" class=\"data row3 col0\" >411</td>\n",
       "      <td id=\"T_24dcf_row3_col1\" class=\"data row3 col1\" >2023-12-15T16:05:04Z</td>\n",
       "      <td id=\"T_24dcf_row3_col2\" class=\"data row3 col2\" >2023-12-15T15:24:23Z</td>\n",
       "      <td id=\"T_24dcf_row3_col3\" class=\"data row3 col3\" >Senate</td>\n",
       "      <td id=\"T_24dcf_row3_col4\" class=\"data row3 col4\" >nan</td>\n",
       "      <td id=\"T_24dcf_row3_col5\" class=\"data row3 col5\" >SRES</td>\n",
       "      <td id=\"T_24dcf_row3_col6\" class=\"data row3 col6\" >2023-10-17</td>\n",
       "      <td id=\"T_24dcf_row3_col7\" class=\"data row3 col7\" >118</td>\n",
       "      <td id=\"T_24dcf_row3_col8\" class=\"data row3 col8\" >Congress</td>\n",
       "      <td id=\"T_24dcf_row3_col9\" class=\"data row3 col9\" >A resolution to constitute the majority party's membership on certain committees for the One Hundred Eighteenth Congress, or until their successors are chosen.</td>\n",
       "      <td id=\"T_24dcf_row3_col10\" class=\"data row3 col10\" >nan</td>\n",
       "    </tr>\n",
       "    <tr>\n",
       "      <th id=\"T_24dcf_level0_row4\" class=\"row_heading level0 row4\" >14662</th>\n",
       "      <td id=\"T_24dcf_row4_col0\" class=\"data row4 col0\" >415</td>\n",
       "      <td id=\"T_24dcf_row4_col1\" class=\"data row4 col1\" >2023-12-15T16:05:05Z</td>\n",
       "      <td id=\"T_24dcf_row4_col2\" class=\"data row4 col2\" >2023-12-15T15:24:23Z</td>\n",
       "      <td id=\"T_24dcf_row4_col3\" class=\"data row4 col3\" >Senate</td>\n",
       "      <td id=\"T_24dcf_row4_col4\" class=\"data row4 col4\" >nan</td>\n",
       "      <td id=\"T_24dcf_row4_col5\" class=\"data row4 col5\" >SRES</td>\n",
       "      <td id=\"T_24dcf_row4_col6\" class=\"data row4 col6\" >2023-10-18</td>\n",
       "      <td id=\"T_24dcf_row4_col7\" class=\"data row4 col7\" >118</td>\n",
       "      <td id=\"T_24dcf_row4_col8\" class=\"data row4 col8\" >Congress</td>\n",
       "      <td id=\"T_24dcf_row4_col9\" class=\"data row4 col9\" >A resolution to authorize testimony and representation in United States v. Samsel.</td>\n",
       "      <td id=\"T_24dcf_row4_col10\" class=\"data row4 col10\" >nan</td>\n",
       "    </tr>\n",
       "    <tr>\n",
       "      <th id=\"T_24dcf_level0_row5\" class=\"row_heading level0 row5\" >14663</th>\n",
       "      <td id=\"T_24dcf_row5_col0\" class=\"data row5 col0\" >416</td>\n",
       "      <td id=\"T_24dcf_row5_col1\" class=\"data row5 col1\" >2023-12-15T16:05:05Z</td>\n",
       "      <td id=\"T_24dcf_row5_col2\" class=\"data row5 col2\" >2023-12-15T15:24:23Z</td>\n",
       "      <td id=\"T_24dcf_row5_col3\" class=\"data row5 col3\" >Senate</td>\n",
       "      <td id=\"T_24dcf_row5_col4\" class=\"data row5 col4\" >nan</td>\n",
       "      <td id=\"T_24dcf_row5_col5\" class=\"data row5 col5\" >SRES</td>\n",
       "      <td id=\"T_24dcf_row5_col6\" class=\"data row5 col6\" >2023-10-18</td>\n",
       "      <td id=\"T_24dcf_row5_col7\" class=\"data row5 col7\" >118</td>\n",
       "      <td id=\"T_24dcf_row5_col8\" class=\"data row5 col8\" >Congress</td>\n",
       "      <td id=\"T_24dcf_row5_col9\" class=\"data row5 col9\" >A resolution to authorize testimony and representation in United States v. Sullivan.</td>\n",
       "      <td id=\"T_24dcf_row5_col10\" class=\"data row5 col10\" >nan</td>\n",
       "    </tr>\n",
       "    <tr>\n",
       "      <th id=\"T_24dcf_level0_row6\" class=\"row_heading level0 row6\" >14666</th>\n",
       "      <td id=\"T_24dcf_row6_col0\" class=\"data row6 col0\" >419</td>\n",
       "      <td id=\"T_24dcf_row6_col1\" class=\"data row6 col1\" >2023-12-15T16:05:05Z</td>\n",
       "      <td id=\"T_24dcf_row6_col2\" class=\"data row6 col2\" >2023-12-15T16:05:05Z</td>\n",
       "      <td id=\"T_24dcf_row6_col3\" class=\"data row6 col3\" >Senate</td>\n",
       "      <td id=\"T_24dcf_row6_col4\" class=\"data row6 col4\" >nan</td>\n",
       "      <td id=\"T_24dcf_row6_col5\" class=\"data row6 col5\" >SRES</td>\n",
       "      <td id=\"T_24dcf_row6_col6\" class=\"data row6 col6\" >2023-10-19</td>\n",
       "      <td id=\"T_24dcf_row6_col7\" class=\"data row6 col7\" >118</td>\n",
       "      <td id=\"T_24dcf_row6_col8\" class=\"data row6 col8\" >Public Lands and Natural Resources</td>\n",
       "      <td id=\"T_24dcf_row6_col9\" class=\"data row6 col9\" >A resolution designating October 23, 2023, as \"National Marine Sanctuary Day\".</td>\n",
       "      <td id=\"T_24dcf_row6_col10\" class=\"data row6 col10\" >nan</td>\n",
       "    </tr>\n",
       "    <tr>\n",
       "      <th id=\"T_24dcf_level0_row7\" class=\"row_heading level0 row7\" >14668</th>\n",
       "      <td id=\"T_24dcf_row7_col0\" class=\"data row7 col0\" >420</td>\n",
       "      <td id=\"T_24dcf_row7_col1\" class=\"data row7 col1\" >2023-12-15T16:05:05Z</td>\n",
       "      <td id=\"T_24dcf_row7_col2\" class=\"data row7 col2\" >2023-12-15T15:24:23Z</td>\n",
       "      <td id=\"T_24dcf_row7_col3\" class=\"data row7 col3\" >Senate</td>\n",
       "      <td id=\"T_24dcf_row7_col4\" class=\"data row7 col4\" >nan</td>\n",
       "      <td id=\"T_24dcf_row7_col5\" class=\"data row7 col5\" >SRES</td>\n",
       "      <td id=\"T_24dcf_row7_col6\" class=\"data row7 col6\" >2023-10-19</td>\n",
       "      <td id=\"T_24dcf_row7_col7\" class=\"data row7 col7\" >118</td>\n",
       "      <td id=\"T_24dcf_row7_col8\" class=\"data row7 col8\" >Congress</td>\n",
       "      <td id=\"T_24dcf_row7_col9\" class=\"data row7 col9\" >A resolution designating Betty K. Koed as Historian Emerita of the United States Senate.</td>\n",
       "      <td id=\"T_24dcf_row7_col10\" class=\"data row7 col10\" >nan</td>\n",
       "    </tr>\n",
       "    <tr>\n",
       "      <th id=\"T_24dcf_level0_row8\" class=\"row_heading level0 row8\" >14673</th>\n",
       "      <td id=\"T_24dcf_row8_col0\" class=\"data row8 col0\" >425</td>\n",
       "      <td id=\"T_24dcf_row8_col1\" class=\"data row8 col1\" >2023-12-15T16:05:06Z</td>\n",
       "      <td id=\"T_24dcf_row8_col2\" class=\"data row8 col2\" >2023-12-15T16:05:06Z</td>\n",
       "      <td id=\"T_24dcf_row8_col3\" class=\"data row8 col3\" >Senate</td>\n",
       "      <td id=\"T_24dcf_row8_col4\" class=\"data row8 col4\" >nan</td>\n",
       "      <td id=\"T_24dcf_row8_col5\" class=\"data row8 col5\" >SRES</td>\n",
       "      <td id=\"T_24dcf_row8_col6\" class=\"data row8 col6\" >2023-10-24</td>\n",
       "      <td id=\"T_24dcf_row8_col7\" class=\"data row8 col7\" >118</td>\n",
       "      <td id=\"T_24dcf_row8_col8\" class=\"data row8 col8\" >Arts, Culture, Religion</td>\n",
       "      <td id=\"T_24dcf_row8_col9\" class=\"data row8 col9\" >A resolution expressing the support of the Senate for the designation of \"Public Radio Music Day\" and deep appreciation for the role of public radio music stations in serving listeners, musicians, and hundreds of communities in the United States.</td>\n",
       "      <td id=\"T_24dcf_row8_col10\" class=\"data row8 col10\" >nan</td>\n",
       "    </tr>\n",
       "    <tr>\n",
       "      <th id=\"T_24dcf_level0_row9\" class=\"row_heading level0 row9\" >14676</th>\n",
       "      <td id=\"T_24dcf_row9_col0\" class=\"data row9 col0\" >428</td>\n",
       "      <td id=\"T_24dcf_row9_col1\" class=\"data row9 col1\" >2023-12-15T16:05:06Z</td>\n",
       "      <td id=\"T_24dcf_row9_col2\" class=\"data row9 col2\" >2023-12-15T15:24:23Z</td>\n",
       "      <td id=\"T_24dcf_row9_col3\" class=\"data row9 col3\" >Senate</td>\n",
       "      <td id=\"T_24dcf_row9_col4\" class=\"data row9 col4\" >nan</td>\n",
       "      <td id=\"T_24dcf_row9_col5\" class=\"data row9 col5\" >SRES</td>\n",
       "      <td id=\"T_24dcf_row9_col6\" class=\"data row9 col6\" >2023-10-25</td>\n",
       "      <td id=\"T_24dcf_row9_col7\" class=\"data row9 col7\" >118</td>\n",
       "      <td id=\"T_24dcf_row9_col8\" class=\"data row9 col8\" >Sports and Recreation</td>\n",
       "      <td id=\"T_24dcf_row9_col9\" class=\"data row9 col9\" >A resolution recognizing women's collegiate athletics and the record-setting Volleyball Day in Nebraska event on August 30, 2023.</td>\n",
       "      <td id=\"T_24dcf_row9_col10\" class=\"data row9 col10\" >nan</td>\n",
       "    </tr>\n",
       "    <tr>\n",
       "      <th id=\"T_24dcf_level0_row10\" class=\"row_heading level0 row10\" >14681</th>\n",
       "      <td id=\"T_24dcf_row10_col0\" class=\"data row10 col0\" >432</td>\n",
       "      <td id=\"T_24dcf_row10_col1\" class=\"data row10 col1\" >2023-12-15T16:05:06Z</td>\n",
       "      <td id=\"T_24dcf_row10_col2\" class=\"data row10 col2\" >2023-12-15T15:24:23Z</td>\n",
       "      <td id=\"T_24dcf_row10_col3\" class=\"data row10 col3\" >Senate</td>\n",
       "      <td id=\"T_24dcf_row10_col4\" class=\"data row10 col4\" >nan</td>\n",
       "      <td id=\"T_24dcf_row10_col5\" class=\"data row10 col5\" >SRES</td>\n",
       "      <td id=\"T_24dcf_row10_col6\" class=\"data row10 col6\" >2023-10-25</td>\n",
       "      <td id=\"T_24dcf_row10_col7\" class=\"data row10 col7\" >118</td>\n",
       "      <td id=\"T_24dcf_row10_col8\" class=\"data row10 col8\" >Crime and Law Enforcement</td>\n",
       "      <td id=\"T_24dcf_row10_col9\" class=\"data row10 col9\" >A resolution recognizing the fifth commemoration of the antisemitic attack that occurred on October 27, 2018, at a synagogue in Pittsburgh, Pennsylvania.</td>\n",
       "      <td id=\"T_24dcf_row10_col10\" class=\"data row10 col10\" >nan</td>\n",
       "    </tr>\n",
       "    <tr>\n",
       "      <th id=\"T_24dcf_level0_row11\" class=\"row_heading level0 row11\" >14687</th>\n",
       "      <td id=\"T_24dcf_row11_col0\" class=\"data row11 col0\" >438</td>\n",
       "      <td id=\"T_24dcf_row11_col1\" class=\"data row11 col1\" >2023-12-15T16:05:07Z</td>\n",
       "      <td id=\"T_24dcf_row11_col2\" class=\"data row11 col2\" >2023-12-15T15:24:23Z</td>\n",
       "      <td id=\"T_24dcf_row11_col3\" class=\"data row11 col3\" >Senate</td>\n",
       "      <td id=\"T_24dcf_row11_col4\" class=\"data row11 col4\" >nan</td>\n",
       "      <td id=\"T_24dcf_row11_col5\" class=\"data row11 col5\" >SRES</td>\n",
       "      <td id=\"T_24dcf_row11_col6\" class=\"data row11 col6\" >2023-10-26</td>\n",
       "      <td id=\"T_24dcf_row11_col7\" class=\"data row11 col7\" >118</td>\n",
       "      <td id=\"T_24dcf_row11_col8\" class=\"data row11 col8\" >Sports and Recreation</td>\n",
       "      <td id=\"T_24dcf_row11_col9\" class=\"data row11 col9\" >A resolution congratulating Coco Gauff for her inspiring victory at this year's US Open Tennis Championships.</td>\n",
       "      <td id=\"T_24dcf_row11_col10\" class=\"data row11 col10\" >nan</td>\n",
       "    </tr>\n",
       "    <tr>\n",
       "      <th id=\"T_24dcf_level0_row12\" class=\"row_heading level0 row12\" >14690</th>\n",
       "      <td id=\"T_24dcf_row12_col0\" class=\"data row12 col0\" >440</td>\n",
       "      <td id=\"T_24dcf_row12_col1\" class=\"data row12 col1\" >2023-12-15T16:05:07Z</td>\n",
       "      <td id=\"T_24dcf_row12_col2\" class=\"data row12 col2\" >2023-12-15T16:05:07Z</td>\n",
       "      <td id=\"T_24dcf_row12_col3\" class=\"data row12 col3\" >Senate</td>\n",
       "      <td id=\"T_24dcf_row12_col4\" class=\"data row12 col4\" >nan</td>\n",
       "      <td id=\"T_24dcf_row12_col5\" class=\"data row12 col5\" >SRES</td>\n",
       "      <td id=\"T_24dcf_row12_col6\" class=\"data row12 col6\" >2023-10-30</td>\n",
       "      <td id=\"T_24dcf_row12_col7\" class=\"data row12 col7\" >118</td>\n",
       "      <td id=\"T_24dcf_row12_col8\" class=\"data row12 col8\" >Crime and Law Enforcement</td>\n",
       "      <td id=\"T_24dcf_row12_col9\" class=\"data row12 col9\" >A resolution expressing support for the designation of October 2023 as \"National Youth Justice Action Month\".</td>\n",
       "      <td id=\"T_24dcf_row12_col10\" class=\"data row12 col10\" >nan</td>\n",
       "    </tr>\n",
       "    <tr>\n",
       "      <th id=\"T_24dcf_level0_row13\" class=\"row_heading level0 row13\" >14692</th>\n",
       "      <td id=\"T_24dcf_row13_col0\" class=\"data row13 col0\" >442</td>\n",
       "      <td id=\"T_24dcf_row13_col1\" class=\"data row13 col1\" >2023-12-15T16:05:07Z</td>\n",
       "      <td id=\"T_24dcf_row13_col2\" class=\"data row13 col2\" >2023-12-15T15:24:23Z</td>\n",
       "      <td id=\"T_24dcf_row13_col3\" class=\"data row13 col3\" >Senate</td>\n",
       "      <td id=\"T_24dcf_row13_col4\" class=\"data row13 col4\" >nan</td>\n",
       "      <td id=\"T_24dcf_row13_col5\" class=\"data row13 col5\" >SRES</td>\n",
       "      <td id=\"T_24dcf_row13_col6\" class=\"data row13 col6\" >2023-10-31</td>\n",
       "      <td id=\"T_24dcf_row13_col7\" class=\"data row13 col7\" >118</td>\n",
       "      <td id=\"T_24dcf_row13_col8\" class=\"data row13 col8\" >Arts, Culture, Religion</td>\n",
       "      <td id=\"T_24dcf_row13_col9\" class=\"data row13 col9\" >A resolution designating October 2023 as \"National Country Music Month\".</td>\n",
       "      <td id=\"T_24dcf_row13_col10\" class=\"data row13 col10\" >nan</td>\n",
       "    </tr>\n",
       "    <tr>\n",
       "      <th id=\"T_24dcf_level0_row14\" class=\"row_heading level0 row14\" >14698</th>\n",
       "      <td id=\"T_24dcf_row14_col0\" class=\"data row14 col0\" >448</td>\n",
       "      <td id=\"T_24dcf_row14_col1\" class=\"data row14 col1\" >2023-12-15T16:05:08Z</td>\n",
       "      <td id=\"T_24dcf_row14_col2\" class=\"data row14 col2\" >2023-12-15T15:24:23Z</td>\n",
       "      <td id=\"T_24dcf_row14_col3\" class=\"data row14 col3\" >Senate</td>\n",
       "      <td id=\"T_24dcf_row14_col4\" class=\"data row14 col4\" >nan</td>\n",
       "      <td id=\"T_24dcf_row14_col5\" class=\"data row14 col5\" >SRES</td>\n",
       "      <td id=\"T_24dcf_row14_col6\" class=\"data row14 col6\" >2023-11-02</td>\n",
       "      <td id=\"T_24dcf_row14_col7\" class=\"data row14 col7\" >118</td>\n",
       "      <td id=\"T_24dcf_row14_col8\" class=\"data row14 col8\" >Crime and Law Enforcement</td>\n",
       "      <td id=\"T_24dcf_row14_col9\" class=\"data row14 col9\" >A resolution supporting the goals and ideals of National Domestic Violence Awareness Month.</td>\n",
       "      <td id=\"T_24dcf_row14_col10\" class=\"data row14 col10\" >nan</td>\n",
       "    </tr>\n",
       "    <tr>\n",
       "      <th id=\"T_24dcf_level0_row15\" class=\"row_heading level0 row15\" >14702</th>\n",
       "      <td id=\"T_24dcf_row15_col0\" class=\"data row15 col0\" >451</td>\n",
       "      <td id=\"T_24dcf_row15_col1\" class=\"data row15 col1\" >2023-12-15T16:05:08Z</td>\n",
       "      <td id=\"T_24dcf_row15_col2\" class=\"data row15 col2\" >2023-12-15T15:24:23Z</td>\n",
       "      <td id=\"T_24dcf_row15_col3\" class=\"data row15 col3\" >Senate</td>\n",
       "      <td id=\"T_24dcf_row15_col4\" class=\"data row15 col4\" >nan</td>\n",
       "      <td id=\"T_24dcf_row15_col5\" class=\"data row15 col5\" >SRES</td>\n",
       "      <td id=\"T_24dcf_row15_col6\" class=\"data row15 col6\" >2023-11-06</td>\n",
       "      <td id=\"T_24dcf_row15_col7\" class=\"data row15 col7\" >118</td>\n",
       "      <td id=\"T_24dcf_row15_col8\" class=\"data row15 col8\" >Congress</td>\n",
       "      <td id=\"T_24dcf_row15_col9\" class=\"data row15 col9\" >A resolution permitting the collection of clothing, toys, food, and housewares during the holiday season for charitable purposes in Senate buildings.</td>\n",
       "      <td id=\"T_24dcf_row15_col10\" class=\"data row15 col10\" >nan</td>\n",
       "    </tr>\n",
       "    <tr>\n",
       "      <th id=\"T_24dcf_level0_row16\" class=\"row_heading level0 row16\" >14765</th>\n",
       "      <td id=\"T_24dcf_row16_col0\" class=\"data row16 col0\" >508</td>\n",
       "      <td id=\"T_24dcf_row16_col1\" class=\"data row16 col1\" >2023-12-15T16:05:13Z</td>\n",
       "      <td id=\"T_24dcf_row16_col2\" class=\"data row16 col2\" >2023-12-16T04:59:01Z</td>\n",
       "      <td id=\"T_24dcf_row16_col3\" class=\"data row16 col3\" >Senate</td>\n",
       "      <td id=\"T_24dcf_row16_col4\" class=\"data row16 col4\" >nan</td>\n",
       "      <td id=\"T_24dcf_row16_col5\" class=\"data row16 col5\" >SRES</td>\n",
       "      <td id=\"T_24dcf_row16_col6\" class=\"data row16 col6\" >2023-12-14</td>\n",
       "      <td id=\"T_24dcf_row16_col7\" class=\"data row16 col7\" >118</td>\n",
       "      <td id=\"T_24dcf_row16_col8\" class=\"data row16 col8\" >nan</td>\n",
       "      <td id=\"T_24dcf_row16_col9\" class=\"data row16 col9\" >A resolution recognizing Interscholastic Athletic Administrators' Day on December 14, 2023.</td>\n",
       "      <td id=\"T_24dcf_row16_col10\" class=\"data row16 col10\" >nan</td>\n",
       "    </tr>\n",
       "  </tbody>\n",
       "</table>\n"
      ],
      "text/plain": [
       "<pandas.io.formats.style.Styler at 0x2064a062b70>"
      ]
     },
     "execution_count": 28,
     "metadata": {},
     "output_type": "execute_result"
    }
   ],
   "source": [
    "# Review nan values in originChamberCode\n",
    "bills_df[bills_df['originChamberCode'].isna()].style.set_table_styles(def_style)"
   ]
  },
  {
   "cell_type": "code",
   "execution_count": 29,
   "metadata": {},
   "outputs": [],
   "source": [
    "# Set missing values to 'S' for originChamberCode\n",
    "bills_df['originChamberCode'] = bills_df['originChamberCode'].fillna('S')"
   ]
  },
  {
   "cell_type": "code",
   "execution_count": 30,
   "metadata": {},
   "outputs": [],
   "source": [
    "# Set missing values to '' for policyArea and constitutionalAuthorityStatementText\n",
    "bills_df['policyArea'] = bills_df['policyArea'].fillna('')\n",
    "bills_df['constitutionalAuthorityStatementText'] = bills_df['constitutionalAuthorityStatementText'].fillna('')"
   ]
  },
  {
   "cell_type": "code",
   "execution_count": 31,
   "metadata": {},
   "outputs": [
    {
     "data": {
      "text/plain": [
       "number                                  object\n",
       "updateDate                              object\n",
       "updateDateIncludingText                 object\n",
       "originChamber                           object\n",
       "originChamberCode                       object\n",
       "type                                    object\n",
       "introducedDate                          object\n",
       "congress                                object\n",
       "policyArea                              object\n",
       "title                                   object\n",
       "constitutionalAuthorityStatementText    object\n",
       "dtype: object"
      ]
     },
     "execution_count": 31,
     "metadata": {},
     "output_type": "execute_result"
    }
   ],
   "source": [
    "# Review datatypes\n",
    "bills_df.dtypes"
   ]
  },
  {
   "cell_type": "code",
   "execution_count": 32,
   "metadata": {},
   "outputs": [],
   "source": [
    "# Covert datatypes\n",
    "num_cols = ['number', 'congress']\n",
    "bills_df[num_cols] = bills_df[num_cols].astype('int')\n",
    "bills_df['updateDate'] = pd.to_datetime(bills_df['updateDate'])\n",
    "bills_df['updateDateIncludingText'] = pd.to_datetime(bills_df['updateDateIncludingText'])\n",
    "bills_df['introducedDate'] = pd.to_datetime(bills_df['introducedDate'])"
   ]
  },
  {
   "cell_type": "code",
   "execution_count": 33,
   "metadata": {},
   "outputs": [],
   "source": [
    "# Add id column\n",
    "bills_df.insert(0, 'id', bills_df['type'] + bills_df['number'].astype('str'))"
   ]
  },
  {
   "cell_type": "code",
   "execution_count": 34,
   "metadata": {},
   "outputs": [
    {
     "name": "stdout",
     "output_type": "stream",
     "text": [
      "Range of number values:\n",
      "1 - 8400\n"
     ]
    }
   ],
   "source": [
    "# Review number column data\n",
    "print('Range of number values:')\n",
    "print(f'{bills_df[\"number\"].min()} - {bills_df[\"number\"].max()}')"
   ]
  },
  {
   "cell_type": "code",
   "execution_count": 35,
   "metadata": {},
   "outputs": [
    {
     "name": "stdout",
     "output_type": "stream",
     "text": [
      "Range of updateDate values:\n",
      "2023-08-25 to 2024-06-15\n"
     ]
    }
   ],
   "source": [
    "# Review date range for updateDate\n",
    "print('Range of updateDate values:')\n",
    "print(f'{bills_df[\"updateDate\"].min().date()} to {bills_df[\"updateDate\"].max().date()}')"
   ]
  },
  {
   "cell_type": "code",
   "execution_count": 36,
   "metadata": {},
   "outputs": [
    {
     "name": "stdout",
     "output_type": "stream",
     "text": [
      "Range of updateDateIncludingText values:\n",
      "2023-08-25 to 2024-06-15\n"
     ]
    }
   ],
   "source": [
    "# Review date range for updateDateIncludingText\n",
    "print('Range of updateDateIncludingText values:')\n",
    "print(f'{bills_df[\"updateDateIncludingText\"].min().date()} to {bills_df[\"updateDateIncludingText\"].max().date()}')"
   ]
  },
  {
   "cell_type": "code",
   "execution_count": 37,
   "metadata": {},
   "outputs": [
    {
     "data": {
      "text/plain": [
       "array(['House', 'Senate'], dtype=object)"
      ]
     },
     "execution_count": 37,
     "metadata": {},
     "output_type": "execute_result"
    }
   ],
   "source": [
    "# Review originChamber data\n",
    "bills_df['originChamber'].unique()"
   ]
  },
  {
   "cell_type": "code",
   "execution_count": 38,
   "metadata": {},
   "outputs": [
    {
     "data": {
      "text/plain": [
       "array(['H', 'S'], dtype=object)"
      ]
     },
     "execution_count": 38,
     "metadata": {},
     "output_type": "execute_result"
    }
   ],
   "source": [
    "# Reveiw originChamberCode data\n",
    "bills_df['originChamberCode'].unique()"
   ]
  },
  {
   "cell_type": "code",
   "execution_count": 39,
   "metadata": {},
   "outputs": [
    {
     "data": {
      "text/plain": [
       "array(['HCONRES', 'HJRES', 'HR', 'HRES', 'S', 'SCONRES', 'SJRES', 'SRES'],\n",
       "      dtype=object)"
      ]
     },
     "execution_count": 39,
     "metadata": {},
     "output_type": "execute_result"
    }
   ],
   "source": [
    "# Review type data\n",
    "bills_df['type'].unique()"
   ]
  },
  {
   "cell_type": "code",
   "execution_count": 40,
   "metadata": {},
   "outputs": [
    {
     "name": "stdout",
     "output_type": "stream",
     "text": [
      "Range of introducedDate values:\n",
      "2023-01-03 to 2024-05-14\n"
     ]
    }
   ],
   "source": [
    "# Review date range for introducedDate\n",
    "print('Range of introducedDate values:')\n",
    "print(f'{bills_df[\"introducedDate\"].min().date()} to {bills_df[\"introducedDate\"].max().date()}')"
   ]
  },
  {
   "cell_type": "code",
   "execution_count": 41,
   "metadata": {},
   "outputs": [
    {
     "data": {
      "text/plain": [
       "array([118])"
      ]
     },
     "execution_count": 41,
     "metadata": {},
     "output_type": "execute_result"
    }
   ],
   "source": [
    "# Review congress data\n",
    "bills_df['congress'].unique()"
   ]
  },
  {
   "cell_type": "code",
   "execution_count": 42,
   "metadata": {},
   "outputs": [
    {
     "data": {
      "text/plain": [
       "array(['Congress', 'International Affairs',\n",
       "       'Civil Rights and Liberties, Minority Issues', '',\n",
       "       'Crime and Law Enforcement',\n",
       "       'Foreign Trade and International Finance',\n",
       "       'Science, Technology, Communications', 'Energy',\n",
       "       'Armed Forces and National Security', 'Labor and Employment',\n",
       "       'Health', 'Government Operations and Politics', 'Taxation',\n",
       "       'Environmental Protection', 'Economics and Public Finance',\n",
       "       'Immigration', 'Sports and Recreation',\n",
       "       'Finance and Financial Sector', 'Agriculture and Food', 'Commerce',\n",
       "       'Families', 'Law', 'Education', 'Transportation and Public Works',\n",
       "       'Animals', 'Native Americans',\n",
       "       'Public Lands and Natural Resources', 'Emergency Management',\n",
       "       'Social Welfare', 'Housing and Community Development',\n",
       "       'Water Resources Development', 'Arts, Culture, Religion',\n",
       "       'Social Sciences and History', 'Private Legislation'], dtype=object)"
      ]
     },
     "execution_count": 42,
     "metadata": {},
     "output_type": "execute_result"
    }
   ],
   "source": [
    "# Reivew policyArea data\n",
    "bills_df['policyArea'].unique()"
   ]
  },
  {
   "cell_type": "code",
   "execution_count": 43,
   "metadata": {},
   "outputs": [
    {
     "data": {
      "text/plain": [
       "array(['Regarding consent to assemble outside the seat of government.',\n",
       "       \"Expressing the sense of Congress that the United States should resume normal diplomatic relations with Taiwan, negotiate a bilateral free trade agreement with Taiwan, and support Taiwan's membership in international organizations.\",\n",
       "       'Directing the Clerk of the House of Representatives to make a correction in the enrollment of H.R. 2882.',\n",
       "       ...,\n",
       "       'A resolution celebrating the extraordinary accomplishments and vital role of women business owners in the United States.',\n",
       "       'A resolution expressing concern about economic and security conditions in Mexico and reaffirming the interest of the United States in mutually beneficial relations with Mexico based on shared interests on security, economic prosperity, and democratic values, and for other purposes.',\n",
       "       'A resolution declaring March 8, 2023, as \"National Emily Warner & Women Airline Pilots Day\".'],\n",
       "      dtype=object)"
      ]
     },
     "execution_count": 43,
     "metadata": {},
     "output_type": "execute_result"
    }
   ],
   "source": [
    "# Review title data\n",
    "bills_df['title'].unique()"
   ]
  },
  {
   "cell_type": "code",
   "execution_count": 44,
   "metadata": {},
   "outputs": [
    {
     "data": {
      "text/plain": [
       "array(['',\n",
       "       '<pre>[Congressional Record Volume 169, Number 7 (Monday, January 9, 2023)][House]From the Congressional Record Online through the Government Publishing Office [<a href=\"https://www.gpo.gov\">www.gpo.gov</a>]By Mr. BIGGS:H.J. Res. 1.Congress has the power to enact this legislation pursuantto the following:Article 5[Page H114]</pre>',\n",
       "       '<pre>[Congressional Record Volume 169, Number 7 (Monday, January 9, 2023)][House]From the Congressional Record Online through the Government Publishing Office [<a href=\"https://www.gpo.gov\">www.gpo.gov</a>]By Mr. McCLINTOCK:H.J. Res. 10.Congress has the power to enact this legislation pursuantto the following:Article V[Page H114]</pre>',\n",
       "       ...,\n",
       "       '<pre>[Congressional Record Volume 169, Number 30 (Tuesday, February 14, 2023)][House]From the Congressional Record Online through the Government Publishing Office [<a href=\"https://www.gpo.gov\">www.gpo.gov</a>]By Mr. GOOD of Virginia:H.R. 997.Congress has the power to enact this legislation pursuantto the following:Article 1 Section 8The single subject of this legislation is:To establish English as the official language of thefederal government.[Page H840]</pre>',\n",
       "       '<pre>[Congressional Record Volume 169, Number 30 (Tuesday, February 14, 2023)][House]From the Congressional Record Online through the Government Publishing Office [<a href=\"https://www.gpo.gov\">www.gpo.gov</a>]By Mr. CLOUD:H.R. 998.Congress has the power to enact this legislation pursuantto the following:Article IV, Section 4: ``The United States shall guaranteeto every State in this Union a Republican Form of Government,and shall protect each of them against Invasion; . . .\\'\\'The single subject of this legislation is:To allow local law enforcement to better partner with thefederal government in securing our border.[Page H840]</pre>',\n",
       "       '<pre>[Congressional Record Volume 169, Number 30 (Tuesday, February 14, 2023)][House]From the Congressional Record Online through the Government Publishing Office [<a href=\"https://www.gpo.gov\">www.gpo.gov</a>]By Mr. COHEN:H.R. 999.Congress has the power to enact this legislation pursuantto the following:Article I, Section 8The single subject of this legislation is:Crime[Page H840]</pre>'],\n",
       "      dtype=object)"
      ]
     },
     "execution_count": 44,
     "metadata": {},
     "output_type": "execute_result"
    }
   ],
   "source": [
    "# Review constitutionalAuthorityStatementText data\n",
    "bills_df['constitutionalAuthorityStatementText'].unique()"
   ]
  },
  {
   "cell_type": "code",
   "execution_count": 45,
   "metadata": {},
   "outputs": [
    {
     "data": {
      "text/html": [
       "<style type=\"text/css\">\n",
       "#T_cf73b td {\n",
       "  white-space: nowrap;\n",
       "  max-width: 300px;\n",
       "  text-overflow: ellipsis;\n",
       "  overflow: hidden;\n",
       "}\n",
       "</style>\n",
       "<table id=\"T_cf73b\">\n",
       "  <thead>\n",
       "    <tr>\n",
       "      <th class=\"blank level0\" >&nbsp;</th>\n",
       "      <th id=\"T_cf73b_level0_col0\" class=\"col_heading level0 col0\" >id</th>\n",
       "      <th id=\"T_cf73b_level0_col1\" class=\"col_heading level0 col1\" >number</th>\n",
       "      <th id=\"T_cf73b_level0_col2\" class=\"col_heading level0 col2\" >updateDate</th>\n",
       "      <th id=\"T_cf73b_level0_col3\" class=\"col_heading level0 col3\" >updateDateIncludingText</th>\n",
       "      <th id=\"T_cf73b_level0_col4\" class=\"col_heading level0 col4\" >originChamber</th>\n",
       "      <th id=\"T_cf73b_level0_col5\" class=\"col_heading level0 col5\" >originChamberCode</th>\n",
       "      <th id=\"T_cf73b_level0_col6\" class=\"col_heading level0 col6\" >type</th>\n",
       "      <th id=\"T_cf73b_level0_col7\" class=\"col_heading level0 col7\" >introducedDate</th>\n",
       "      <th id=\"T_cf73b_level0_col8\" class=\"col_heading level0 col8\" >congress</th>\n",
       "      <th id=\"T_cf73b_level0_col9\" class=\"col_heading level0 col9\" >policyArea</th>\n",
       "      <th id=\"T_cf73b_level0_col10\" class=\"col_heading level0 col10\" >title</th>\n",
       "      <th id=\"T_cf73b_level0_col11\" class=\"col_heading level0 col11\" >constitutionalAuthorityStatementText</th>\n",
       "    </tr>\n",
       "  </thead>\n",
       "  <tbody>\n",
       "    <tr>\n",
       "      <th id=\"T_cf73b_level0_row0\" class=\"row_heading level0 row0\" >0</th>\n",
       "      <td id=\"T_cf73b_row0_col0\" class=\"data row0 col0\" >HCONRES1</td>\n",
       "      <td id=\"T_cf73b_row0_col1\" class=\"data row0 col1\" >1</td>\n",
       "      <td id=\"T_cf73b_row0_col2\" class=\"data row0 col2\" >2024-04-17 23:49:12+00:00</td>\n",
       "      <td id=\"T_cf73b_row0_col3\" class=\"data row0 col3\" >2024-04-17 23:49:12+00:00</td>\n",
       "      <td id=\"T_cf73b_row0_col4\" class=\"data row0 col4\" >House</td>\n",
       "      <td id=\"T_cf73b_row0_col5\" class=\"data row0 col5\" >H</td>\n",
       "      <td id=\"T_cf73b_row0_col6\" class=\"data row0 col6\" >HCONRES</td>\n",
       "      <td id=\"T_cf73b_row0_col7\" class=\"data row0 col7\" >2023-01-09 00:00:00</td>\n",
       "      <td id=\"T_cf73b_row0_col8\" class=\"data row0 col8\" >118</td>\n",
       "      <td id=\"T_cf73b_row0_col9\" class=\"data row0 col9\" >Congress</td>\n",
       "      <td id=\"T_cf73b_row0_col10\" class=\"data row0 col10\" >Regarding consent to assemble outside the seat of government.</td>\n",
       "      <td id=\"T_cf73b_row0_col11\" class=\"data row0 col11\" ></td>\n",
       "    </tr>\n",
       "    <tr>\n",
       "      <th id=\"T_cf73b_level0_row1\" class=\"row_heading level0 row1\" >1</th>\n",
       "      <td id=\"T_cf73b_row1_col0\" class=\"data row1 col0\" >HCONRES10</td>\n",
       "      <td id=\"T_cf73b_row1_col1\" class=\"data row1 col1\" >10</td>\n",
       "      <td id=\"T_cf73b_row1_col2\" class=\"data row1 col2\" >2024-06-11 15:49:42+00:00</td>\n",
       "      <td id=\"T_cf73b_row1_col3\" class=\"data row1 col3\" >2024-06-11 15:49:42+00:00</td>\n",
       "      <td id=\"T_cf73b_row1_col4\" class=\"data row1 col4\" >House</td>\n",
       "      <td id=\"T_cf73b_row1_col5\" class=\"data row1 col5\" >H</td>\n",
       "      <td id=\"T_cf73b_row1_col6\" class=\"data row1 col6\" >HCONRES</td>\n",
       "      <td id=\"T_cf73b_row1_col7\" class=\"data row1 col7\" >2023-01-25 00:00:00</td>\n",
       "      <td id=\"T_cf73b_row1_col8\" class=\"data row1 col8\" >118</td>\n",
       "      <td id=\"T_cf73b_row1_col9\" class=\"data row1 col9\" >International Affairs</td>\n",
       "      <td id=\"T_cf73b_row1_col10\" class=\"data row1 col10\" >Expressing the sense of Congress that the United States should resume normal diplomatic relations with Taiwan, negotiate a bilateral free trade agreement with Taiwan, and support Taiwan's membership in international organizations.</td>\n",
       "      <td id=\"T_cf73b_row1_col11\" class=\"data row1 col11\" ></td>\n",
       "    </tr>\n",
       "    <tr>\n",
       "      <th id=\"T_cf73b_level0_row2\" class=\"row_heading level0 row2\" >2</th>\n",
       "      <td id=\"T_cf73b_row2_col0\" class=\"data row2 col0\" >HCONRES100</td>\n",
       "      <td id=\"T_cf73b_row2_col1\" class=\"data row2 col1\" >100</td>\n",
       "      <td id=\"T_cf73b_row2_col2\" class=\"data row2 col2\" >2024-06-11 15:43:47+00:00</td>\n",
       "      <td id=\"T_cf73b_row2_col3\" class=\"data row2 col3\" >2024-06-11 15:43:47+00:00</td>\n",
       "      <td id=\"T_cf73b_row2_col4\" class=\"data row2 col4\" >House</td>\n",
       "      <td id=\"T_cf73b_row2_col5\" class=\"data row2 col5\" >H</td>\n",
       "      <td id=\"T_cf73b_row2_col6\" class=\"data row2 col6\" >HCONRES</td>\n",
       "      <td id=\"T_cf73b_row2_col7\" class=\"data row2 col7\" >2024-03-22 00:00:00</td>\n",
       "      <td id=\"T_cf73b_row2_col8\" class=\"data row2 col8\" >118</td>\n",
       "      <td id=\"T_cf73b_row2_col9\" class=\"data row2 col9\" >Congress</td>\n",
       "      <td id=\"T_cf73b_row2_col10\" class=\"data row2 col10\" >Directing the Clerk of the House of Representatives to make a correction in the enrollment of H.R. 2882.</td>\n",
       "      <td id=\"T_cf73b_row2_col11\" class=\"data row2 col11\" ></td>\n",
       "    </tr>\n",
       "    <tr>\n",
       "      <th id=\"T_cf73b_level0_row3\" class=\"row_heading level0 row3\" >3</th>\n",
       "      <td id=\"T_cf73b_row3_col0\" class=\"data row3 col0\" >HCONRES101</td>\n",
       "      <td id=\"T_cf73b_row3_col1\" class=\"data row3 col1\" >101</td>\n",
       "      <td id=\"T_cf73b_row3_col2\" class=\"data row3 col2\" >2024-06-11 15:43:56+00:00</td>\n",
       "      <td id=\"T_cf73b_row3_col3\" class=\"data row3 col3\" >2024-06-11 15:43:56+00:00</td>\n",
       "      <td id=\"T_cf73b_row3_col4\" class=\"data row3 col4\" >House</td>\n",
       "      <td id=\"T_cf73b_row3_col5\" class=\"data row3 col5\" >H</td>\n",
       "      <td id=\"T_cf73b_row3_col6\" class=\"data row3 col6\" >HCONRES</td>\n",
       "      <td id=\"T_cf73b_row3_col7\" class=\"data row3 col7\" >2024-03-22 00:00:00</td>\n",
       "      <td id=\"T_cf73b_row3_col8\" class=\"data row3 col8\" >118</td>\n",
       "      <td id=\"T_cf73b_row3_col9\" class=\"data row3 col9\" >Civil Rights and Liberties, Minority Issues</td>\n",
       "      <td id=\"T_cf73b_row3_col10\" class=\"data row3 col10\" >Recognizing the need to improve physical access to many federally funded facilities for all people of the United States, particularly people with disabilities.</td>\n",
       "      <td id=\"T_cf73b_row3_col11\" class=\"data row3 col11\" ></td>\n",
       "    </tr>\n",
       "    <tr>\n",
       "      <th id=\"T_cf73b_level0_row4\" class=\"row_heading level0 row4\" >4</th>\n",
       "      <td id=\"T_cf73b_row4_col0\" class=\"data row4 col0\" >HCONRES102</td>\n",
       "      <td id=\"T_cf73b_row4_col1\" class=\"data row4 col1\" >102</td>\n",
       "      <td id=\"T_cf73b_row4_col2\" class=\"data row4 col2\" >2024-06-11 15:44:36+00:00</td>\n",
       "      <td id=\"T_cf73b_row4_col3\" class=\"data row4 col3\" >2024-06-11 15:44:36+00:00</td>\n",
       "      <td id=\"T_cf73b_row4_col4\" class=\"data row4 col4\" >House</td>\n",
       "      <td id=\"T_cf73b_row4_col5\" class=\"data row4 col5\" >H</td>\n",
       "      <td id=\"T_cf73b_row4_col6\" class=\"data row4 col6\" >HCONRES</td>\n",
       "      <td id=\"T_cf73b_row4_col7\" class=\"data row4 col7\" >2024-03-29 00:00:00</td>\n",
       "      <td id=\"T_cf73b_row4_col8\" class=\"data row4 col8\" >118</td>\n",
       "      <td id=\"T_cf73b_row4_col9\" class=\"data row4 col9\" >Civil Rights and Liberties, Minority Issues</td>\n",
       "      <td id=\"T_cf73b_row4_col10\" class=\"data row4 col10\" >Supporting the goals and ideals of International Transgender Day of Visibility.</td>\n",
       "      <td id=\"T_cf73b_row4_col11\" class=\"data row4 col11\" ></td>\n",
       "    </tr>\n",
       "  </tbody>\n",
       "</table>\n"
      ],
      "text/plain": [
       "<pandas.io.formats.style.Styler at 0x2064c2847d0>"
      ]
     },
     "execution_count": 45,
     "metadata": {},
     "output_type": "execute_result"
    }
   ],
   "source": [
    "# Preview final version of dataframe\n",
    "bills_df.head().style.set_table_styles(def_style)"
   ]
  },
  {
   "cell_type": "markdown",
   "metadata": {},
   "source": [
    "***\n",
    "## Committees\n",
    "***"
   ]
  },
  {
   "cell_type": "code",
   "execution_count": 46,
   "metadata": {},
   "outputs": [
    {
     "data": {
      "text/html": [
       "<style type=\"text/css\">\n",
       "#T_31f5b td {\n",
       "  white-space: nowrap;\n",
       "  max-width: 300px;\n",
       "  text-overflow: ellipsis;\n",
       "  overflow: hidden;\n",
       "}\n",
       "</style>\n",
       "<table id=\"T_31f5b\">\n",
       "  <thead>\n",
       "    <tr>\n",
       "      <th class=\"blank level0\" >&nbsp;</th>\n",
       "      <th id=\"T_31f5b_level0_col0\" class=\"col_heading level0 col0\" >id</th>\n",
       "      <th id=\"T_31f5b_level0_col1\" class=\"col_heading level0 col1\" >itemsystemCode</th>\n",
       "      <th id=\"T_31f5b_level0_col2\" class=\"col_heading level0 col2\" >itemname</th>\n",
       "      <th id=\"T_31f5b_level0_col3\" class=\"col_heading level0 col3\" >itemchamber</th>\n",
       "      <th id=\"T_31f5b_level0_col4\" class=\"col_heading level0 col4\" >itemtype</th>\n",
       "      <th id=\"T_31f5b_level0_col5\" class=\"col_heading level0 col5\" >itemactivitiesitemname</th>\n",
       "      <th id=\"T_31f5b_level0_col6\" class=\"col_heading level0 col6\" >itemactivitiesitemdate</th>\n",
       "    </tr>\n",
       "  </thead>\n",
       "  <tbody>\n",
       "    <tr>\n",
       "      <th id=\"T_31f5b_level0_row0\" class=\"row_heading level0 row0\" >0</th>\n",
       "      <td id=\"T_31f5b_row0_col0\" class=\"data row0 col0\" >hconres10</td>\n",
       "      <td id=\"T_31f5b_row0_col1\" class=\"data row0 col1\" >hswm00</td>\n",
       "      <td id=\"T_31f5b_row0_col2\" class=\"data row0 col2\" >Ways and Means Committee</td>\n",
       "      <td id=\"T_31f5b_row0_col3\" class=\"data row0 col3\" >House</td>\n",
       "      <td id=\"T_31f5b_row0_col4\" class=\"data row0 col4\" >Standing</td>\n",
       "      <td id=\"T_31f5b_row0_col5\" class=\"data row0 col5\" >Referred to</td>\n",
       "      <td id=\"T_31f5b_row0_col6\" class=\"data row0 col6\" >2023-01-25T15:00:35Z</td>\n",
       "    </tr>\n",
       "    <tr>\n",
       "      <th id=\"T_31f5b_level0_row1\" class=\"row_heading level0 row1\" >1</th>\n",
       "      <td id=\"T_31f5b_row1_col0\" class=\"data row1 col0\" >hconres10</td>\n",
       "      <td id=\"T_31f5b_row1_col1\" class=\"data row1 col1\" >hsfa00</td>\n",
       "      <td id=\"T_31f5b_row1_col2\" class=\"data row1 col2\" >Foreign Affairs Committee</td>\n",
       "      <td id=\"T_31f5b_row1_col3\" class=\"data row1 col3\" >House</td>\n",
       "      <td id=\"T_31f5b_row1_col4\" class=\"data row1 col4\" >Standing</td>\n",
       "      <td id=\"T_31f5b_row1_col5\" class=\"data row1 col5\" >Referred to</td>\n",
       "      <td id=\"T_31f5b_row1_col6\" class=\"data row1 col6\" >2023-01-25T15:00:30Z</td>\n",
       "    </tr>\n",
       "    <tr>\n",
       "      <th id=\"T_31f5b_level0_row2\" class=\"row_heading level0 row2\" >2</th>\n",
       "      <td id=\"T_31f5b_row2_col0\" class=\"data row2 col0\" >hconres101</td>\n",
       "      <td id=\"T_31f5b_row2_col1\" class=\"data row2 col1\" >hsif00</td>\n",
       "      <td id=\"T_31f5b_row2_col2\" class=\"data row2 col2\" >Energy and Commerce Committee</td>\n",
       "      <td id=\"T_31f5b_row2_col3\" class=\"data row2 col3\" >House</td>\n",
       "      <td id=\"T_31f5b_row2_col4\" class=\"data row2 col4\" >Standing</td>\n",
       "      <td id=\"T_31f5b_row2_col5\" class=\"data row2 col5\" >nan</td>\n",
       "      <td id=\"T_31f5b_row2_col6\" class=\"data row2 col6\" >nan</td>\n",
       "    </tr>\n",
       "    <tr>\n",
       "      <th id=\"T_31f5b_level0_row3\" class=\"row_heading level0 row3\" >3</th>\n",
       "      <td id=\"T_31f5b_row3_col0\" class=\"data row3 col0\" >hconres101</td>\n",
       "      <td id=\"T_31f5b_row3_col1\" class=\"data row3 col1\" >hsgo00</td>\n",
       "      <td id=\"T_31f5b_row3_col2\" class=\"data row3 col2\" >Oversight and Accountability Committee</td>\n",
       "      <td id=\"T_31f5b_row3_col3\" class=\"data row3 col3\" >House</td>\n",
       "      <td id=\"T_31f5b_row3_col4\" class=\"data row3 col4\" >Standing</td>\n",
       "      <td id=\"T_31f5b_row3_col5\" class=\"data row3 col5\" >Referred to</td>\n",
       "      <td id=\"T_31f5b_row3_col6\" class=\"data row3 col6\" >2024-03-22T13:00:25Z</td>\n",
       "    </tr>\n",
       "    <tr>\n",
       "      <th id=\"T_31f5b_level0_row4\" class=\"row_heading level0 row4\" >4</th>\n",
       "      <td id=\"T_31f5b_row4_col0\" class=\"data row4 col0\" >hconres101</td>\n",
       "      <td id=\"T_31f5b_row4_col1\" class=\"data row4 col1\" >hspw00</td>\n",
       "      <td id=\"T_31f5b_row4_col2\" class=\"data row4 col2\" >Transportation and Infrastructure Committee</td>\n",
       "      <td id=\"T_31f5b_row4_col3\" class=\"data row4 col3\" >House</td>\n",
       "      <td id=\"T_31f5b_row4_col4\" class=\"data row4 col4\" >Standing</td>\n",
       "      <td id=\"T_31f5b_row4_col5\" class=\"data row4 col5\" >Referred to</td>\n",
       "      <td id=\"T_31f5b_row4_col6\" class=\"data row4 col6\" >2024-03-22T13:00:15Z</td>\n",
       "    </tr>\n",
       "  </tbody>\n",
       "</table>\n"
      ],
      "text/plain": [
       "<pandas.io.formats.style.Styler at 0x2064c1cc380>"
      ]
     },
     "execution_count": 46,
     "metadata": {},
     "output_type": "execute_result"
    }
   ],
   "source": [
    "# Review committees_df\n",
    "committees_df.head().style.set_table_styles(def_style)"
   ]
  },
  {
   "cell_type": "code",
   "execution_count": 47,
   "metadata": {},
   "outputs": [
    {
     "data": {
      "text/plain": [
       "(21515, 7)"
      ]
     },
     "execution_count": 47,
     "metadata": {},
     "output_type": "execute_result"
    }
   ],
   "source": [
    "# Review shape of dataframe\n",
    "committees_df.shape"
   ]
  },
  {
   "cell_type": "code",
   "execution_count": 48,
   "metadata": {},
   "outputs": [],
   "source": [
    "# Delete duplicates and nan columns\n",
    "committees_df.drop_duplicates(inplace=True)\n",
    "committees_df.dropna(axis=1, how='all', inplace=True)"
   ]
  },
  {
   "cell_type": "code",
   "execution_count": 49,
   "metadata": {},
   "outputs": [
    {
     "data": {
      "text/plain": [
       "Index(['id', 'itemsystemCode', 'itemname', 'itemchamber', 'itemtype',\n",
       "       'itemactivitiesitemname', 'itemactivitiesitemdate'],\n",
       "      dtype='object')"
      ]
     },
     "execution_count": 49,
     "metadata": {},
     "output_type": "execute_result"
    }
   ],
   "source": [
    "# Review column names\n",
    "committees_df.columns"
   ]
  },
  {
   "cell_type": "code",
   "execution_count": 50,
   "metadata": {},
   "outputs": [],
   "source": [
    "# Update column names for clarity\n",
    "committees_df.columns = ['id', 'systemCode', 'name', 'chamber', 'type', 'activityName', 'activityDate']"
   ]
  },
  {
   "cell_type": "code",
   "execution_count": 51,
   "metadata": {},
   "outputs": [
    {
     "data": {
      "text/plain": [
       "id                 0\n",
       "systemCode      3210\n",
       "name            3210\n",
       "chamber         3210\n",
       "type            3210\n",
       "activityName    5133\n",
       "activityDate    5133\n",
       "dtype: int64"
      ]
     },
     "execution_count": 51,
     "metadata": {},
     "output_type": "execute_result"
    }
   ],
   "source": [
    "# Review columns with NaN content\n",
    "committees_df.isna().sum()"
   ]
  },
  {
   "cell_type": "code",
   "execution_count": 52,
   "metadata": {},
   "outputs": [],
   "source": [
    "# The nans in systemCode, name, chamber and type are due to the process we used to read in the rows. We will forward fill \n",
    "# from the last valid value, and then remove any rows that have a nan value for activityName and activityDate\n",
    "col_list = ['systemCode', 'name', 'chamber', 'type']\n",
    "for col in col_list:\n",
    "    committees_df[col] = committees_df[col].ffill()\n",
    "committees_df.dropna(how='all', subset=['activityName', 'activityDate'], inplace=True)"
   ]
  },
  {
   "cell_type": "code",
   "execution_count": 53,
   "metadata": {},
   "outputs": [
    {
     "data": {
      "text/plain": [
       "id              object\n",
       "systemCode      object\n",
       "name            object\n",
       "chamber         object\n",
       "type            object\n",
       "activityName    object\n",
       "activityDate    object\n",
       "dtype: object"
      ]
     },
     "execution_count": 53,
     "metadata": {},
     "output_type": "execute_result"
    }
   ],
   "source": [
    "# Review data types\n",
    "committees_df.dtypes"
   ]
  },
  {
   "cell_type": "code",
   "execution_count": 54,
   "metadata": {},
   "outputs": [],
   "source": [
    "# Covert datatypes\n",
    "committees_df['activityDate'] = pd.to_datetime(committees_df['activityDate'])"
   ]
  },
  {
   "cell_type": "code",
   "execution_count": 55,
   "metadata": {},
   "outputs": [
    {
     "data": {
      "text/plain": [
       "array(['hconres10', 'hconres101', 'hconres102', ..., 'sres97', 'sres98',\n",
       "       'sres99'], dtype=object)"
      ]
     },
     "execution_count": 55,
     "metadata": {},
     "output_type": "execute_result"
    }
   ],
   "source": [
    "# Review id column\n",
    "committees_df['id'].unique()"
   ]
  },
  {
   "cell_type": "code",
   "execution_count": 56,
   "metadata": {},
   "outputs": [
    {
     "data": {
      "text/plain": [
       "array(['hswm00', 'hsfa00', 'hsgo00', 'hspw00', 'hsju00', 'hsed00',\n",
       "       'hsha00', 'ssju00', 'hsas00', 'ssfr00', 'hsba00', 'hsif00',\n",
       "       'hsru00', 'hsii00', 'hsvr00', 'ssfi00', 'hsag00', 'ssga00',\n",
       "       'hlig00', 'ssra00', 'hsbu00', 'hsap00', 'hssy00', 'sseg00',\n",
       "       'ssbk00', 'sscm00', 'ssva00', 'slia00', 'ssev00', 'ssaf00',\n",
       "       'hssm00', 'sssb00', 'hshm00', 'sshr00', 'ssbu00', 'hsso00',\n",
       "       'ssap00', 'ssas00', 'slin00', 'spag00'], dtype=object)"
      ]
     },
     "execution_count": 56,
     "metadata": {},
     "output_type": "execute_result"
    }
   ],
   "source": [
    "# Review systemCode data\n",
    "committees_df['systemCode'].unique()"
   ]
  },
  {
   "cell_type": "code",
   "execution_count": 57,
   "metadata": {},
   "outputs": [
    {
     "data": {
      "text/plain": [
       "array(['Ways and Means Committee', 'Foreign Affairs Committee',\n",
       "       'Oversight and Accountability Committee',\n",
       "       'Transportation and Infrastructure Committee',\n",
       "       'Judiciary Committee', 'Education and the Workforce Committee',\n",
       "       'Committee on House Administration', 'Armed Services Committee',\n",
       "       'Foreign Relations Committee', 'Financial Services Committee',\n",
       "       'Energy and Commerce Committee', 'Rules Committee',\n",
       "       'Natural Resources Committee', \"Veterans' Affairs Committee\",\n",
       "       'Finance Committee'], dtype=object)"
      ]
     },
     "execution_count": 57,
     "metadata": {},
     "output_type": "execute_result"
    }
   ],
   "source": [
    "# Review name data\n",
    "committees_df['name'].unique()[:15]"
   ]
  },
  {
   "cell_type": "code",
   "execution_count": 58,
   "metadata": {},
   "outputs": [
    {
     "data": {
      "text/plain": [
       "array(['House', 'Senate'], dtype=object)"
      ]
     },
     "execution_count": 58,
     "metadata": {},
     "output_type": "execute_result"
    }
   ],
   "source": [
    "# Review chamber data\n",
    "committees_df['chamber'].unique()"
   ]
  },
  {
   "cell_type": "code",
   "execution_count": 59,
   "metadata": {},
   "outputs": [
    {
     "data": {
      "text/plain": [
       "array(['Standing', 'Select', 'Other', 'Special'], dtype=object)"
      ]
     },
     "execution_count": 59,
     "metadata": {},
     "output_type": "execute_result"
    }
   ],
   "source": [
    "# Review type data\n",
    "committees_df['type'].unique()"
   ]
  },
  {
   "cell_type": "code",
   "execution_count": 60,
   "metadata": {},
   "outputs": [
    {
     "data": {
      "text/plain": [
       "array(['Referred to', 'Markup by', 'Discharged from', 'Reported by',\n",
       "       'Unknown', 'Hearings by', 'Reported original measure',\n",
       "       'Re-Referred to'], dtype=object)"
      ]
     },
     "execution_count": 60,
     "metadata": {},
     "output_type": "execute_result"
    }
   ],
   "source": [
    "# Review activityName data\n",
    "committees_df['activityName'].unique()"
   ]
  },
  {
   "cell_type": "code",
   "execution_count": 61,
   "metadata": {},
   "outputs": [
    {
     "name": "stdout",
     "output_type": "stream",
     "text": [
      "Range of activityDate values:\n",
      "2023-01-09 to 2024-06-13\n"
     ]
    }
   ],
   "source": [
    "# Review date range for activityDate\n",
    "print('Range of activityDate values:')\n",
    "print(f'{committees_df[\"activityDate\"].min().date()} to {committees_df[\"activityDate\"].max().date()}')"
   ]
  },
  {
   "cell_type": "code",
   "execution_count": 62,
   "metadata": {},
   "outputs": [
    {
     "data": {
      "text/html": [
       "<style type=\"text/css\">\n",
       "#T_b454d td {\n",
       "  white-space: nowrap;\n",
       "  max-width: 300px;\n",
       "  text-overflow: ellipsis;\n",
       "  overflow: hidden;\n",
       "}\n",
       "</style>\n",
       "<table id=\"T_b454d\">\n",
       "  <thead>\n",
       "    <tr>\n",
       "      <th class=\"blank level0\" >&nbsp;</th>\n",
       "      <th id=\"T_b454d_level0_col0\" class=\"col_heading level0 col0\" >id</th>\n",
       "      <th id=\"T_b454d_level0_col1\" class=\"col_heading level0 col1\" >systemCode</th>\n",
       "      <th id=\"T_b454d_level0_col2\" class=\"col_heading level0 col2\" >name</th>\n",
       "      <th id=\"T_b454d_level0_col3\" class=\"col_heading level0 col3\" >chamber</th>\n",
       "      <th id=\"T_b454d_level0_col4\" class=\"col_heading level0 col4\" >type</th>\n",
       "      <th id=\"T_b454d_level0_col5\" class=\"col_heading level0 col5\" >activityName</th>\n",
       "      <th id=\"T_b454d_level0_col6\" class=\"col_heading level0 col6\" >activityDate</th>\n",
       "    </tr>\n",
       "  </thead>\n",
       "  <tbody>\n",
       "    <tr>\n",
       "      <th id=\"T_b454d_level0_row0\" class=\"row_heading level0 row0\" >0</th>\n",
       "      <td id=\"T_b454d_row0_col0\" class=\"data row0 col0\" >hconres10</td>\n",
       "      <td id=\"T_b454d_row0_col1\" class=\"data row0 col1\" >hswm00</td>\n",
       "      <td id=\"T_b454d_row0_col2\" class=\"data row0 col2\" >Ways and Means Committee</td>\n",
       "      <td id=\"T_b454d_row0_col3\" class=\"data row0 col3\" >House</td>\n",
       "      <td id=\"T_b454d_row0_col4\" class=\"data row0 col4\" >Standing</td>\n",
       "      <td id=\"T_b454d_row0_col5\" class=\"data row0 col5\" >Referred to</td>\n",
       "      <td id=\"T_b454d_row0_col6\" class=\"data row0 col6\" >2023-01-25 15:00:35+00:00</td>\n",
       "    </tr>\n",
       "    <tr>\n",
       "      <th id=\"T_b454d_level0_row1\" class=\"row_heading level0 row1\" >1</th>\n",
       "      <td id=\"T_b454d_row1_col0\" class=\"data row1 col0\" >hconres10</td>\n",
       "      <td id=\"T_b454d_row1_col1\" class=\"data row1 col1\" >hsfa00</td>\n",
       "      <td id=\"T_b454d_row1_col2\" class=\"data row1 col2\" >Foreign Affairs Committee</td>\n",
       "      <td id=\"T_b454d_row1_col3\" class=\"data row1 col3\" >House</td>\n",
       "      <td id=\"T_b454d_row1_col4\" class=\"data row1 col4\" >Standing</td>\n",
       "      <td id=\"T_b454d_row1_col5\" class=\"data row1 col5\" >Referred to</td>\n",
       "      <td id=\"T_b454d_row1_col6\" class=\"data row1 col6\" >2023-01-25 15:00:30+00:00</td>\n",
       "    </tr>\n",
       "    <tr>\n",
       "      <th id=\"T_b454d_level0_row2\" class=\"row_heading level0 row2\" >3</th>\n",
       "      <td id=\"T_b454d_row2_col0\" class=\"data row2 col0\" >hconres101</td>\n",
       "      <td id=\"T_b454d_row2_col1\" class=\"data row2 col1\" >hsgo00</td>\n",
       "      <td id=\"T_b454d_row2_col2\" class=\"data row2 col2\" >Oversight and Accountability Committee</td>\n",
       "      <td id=\"T_b454d_row2_col3\" class=\"data row2 col3\" >House</td>\n",
       "      <td id=\"T_b454d_row2_col4\" class=\"data row2 col4\" >Standing</td>\n",
       "      <td id=\"T_b454d_row2_col5\" class=\"data row2 col5\" >Referred to</td>\n",
       "      <td id=\"T_b454d_row2_col6\" class=\"data row2 col6\" >2024-03-22 13:00:25+00:00</td>\n",
       "    </tr>\n",
       "    <tr>\n",
       "      <th id=\"T_b454d_level0_row3\" class=\"row_heading level0 row3\" >4</th>\n",
       "      <td id=\"T_b454d_row3_col0\" class=\"data row3 col0\" >hconres101</td>\n",
       "      <td id=\"T_b454d_row3_col1\" class=\"data row3 col1\" >hspw00</td>\n",
       "      <td id=\"T_b454d_row3_col2\" class=\"data row3 col2\" >Transportation and Infrastructure Committee</td>\n",
       "      <td id=\"T_b454d_row3_col3\" class=\"data row3 col3\" >House</td>\n",
       "      <td id=\"T_b454d_row3_col4\" class=\"data row3 col4\" >Standing</td>\n",
       "      <td id=\"T_b454d_row3_col5\" class=\"data row3 col5\" >Referred to</td>\n",
       "      <td id=\"T_b454d_row3_col6\" class=\"data row3 col6\" >2024-03-22 13:00:15+00:00</td>\n",
       "    </tr>\n",
       "    <tr>\n",
       "      <th id=\"T_b454d_level0_row4\" class=\"row_heading level0 row4\" >5</th>\n",
       "      <td id=\"T_b454d_row4_col0\" class=\"data row4 col0\" >hconres101</td>\n",
       "      <td id=\"T_b454d_row4_col1\" class=\"data row4 col1\" >hsju00</td>\n",
       "      <td id=\"T_b454d_row4_col2\" class=\"data row4 col2\" >Judiciary Committee</td>\n",
       "      <td id=\"T_b454d_row4_col3\" class=\"data row4 col3\" >House</td>\n",
       "      <td id=\"T_b454d_row4_col4\" class=\"data row4 col4\" >Standing</td>\n",
       "      <td id=\"T_b454d_row4_col5\" class=\"data row4 col5\" >Referred to</td>\n",
       "      <td id=\"T_b454d_row4_col6\" class=\"data row4 col6\" >2024-03-22 13:00:10+00:00</td>\n",
       "    </tr>\n",
       "  </tbody>\n",
       "</table>\n"
      ],
      "text/plain": [
       "<pandas.io.formats.style.Styler at 0x2064c52c350>"
      ]
     },
     "execution_count": 62,
     "metadata": {},
     "output_type": "execute_result"
    }
   ],
   "source": [
    "# Preview final version of dataframe\n",
    "committees_df.head().style.set_table_styles(def_style)"
   ]
  },
  {
   "cell_type": "markdown",
   "metadata": {},
   "source": [
    "***\n",
    "## Related Bills\n",
    "***"
   ]
  },
  {
   "cell_type": "code",
   "execution_count": 63,
   "metadata": {},
   "outputs": [
    {
     "data": {
      "text/html": [
       "<style type=\"text/css\">\n",
       "#T_9de25 td {\n",
       "  white-space: nowrap;\n",
       "  max-width: 300px;\n",
       "  text-overflow: ellipsis;\n",
       "  overflow: hidden;\n",
       "}\n",
       "</style>\n",
       "<table id=\"T_9de25\">\n",
       "  <thead>\n",
       "    <tr>\n",
       "      <th class=\"blank level0\" >&nbsp;</th>\n",
       "      <th id=\"T_9de25_level0_col0\" class=\"col_heading level0 col0\" >id</th>\n",
       "      <th id=\"T_9de25_level0_col1\" class=\"col_heading level0 col1\" >itemtitle</th>\n",
       "      <th id=\"T_9de25_level0_col2\" class=\"col_heading level0 col2\" >itemcongress</th>\n",
       "      <th id=\"T_9de25_level0_col3\" class=\"col_heading level0 col3\" >itemnumber</th>\n",
       "      <th id=\"T_9de25_level0_col4\" class=\"col_heading level0 col4\" >itemtype</th>\n",
       "      <th id=\"T_9de25_level0_col5\" class=\"col_heading level0 col5\" >itemlatestActionactionDate</th>\n",
       "      <th id=\"T_9de25_level0_col6\" class=\"col_heading level0 col6\" >itemlatestActiontext</th>\n",
       "      <th id=\"T_9de25_level0_col7\" class=\"col_heading level0 col7\" >itemrelationshipDetailsitemtype</th>\n",
       "      <th id=\"T_9de25_level0_col8\" class=\"col_heading level0 col8\" >itemrelationshipDetailsitemidentifiedBy</th>\n",
       "      <th id=\"T_9de25_level0_col9\" class=\"col_heading level0 col9\" >itemlatestActionactionTime</th>\n",
       "    </tr>\n",
       "  </thead>\n",
       "  <tbody>\n",
       "    <tr>\n",
       "      <th id=\"T_9de25_level0_row0\" class=\"row_heading level0 row0\" >0</th>\n",
       "      <td id=\"T_9de25_row0_col0\" class=\"data row0 col0\" >hconres100</td>\n",
       "      <td id=\"T_9de25_row0_col1\" class=\"data row0 col1\" >Further Consolidated Appropriations Act, 2024</td>\n",
       "      <td id=\"T_9de25_row0_col2\" class=\"data row0 col2\" >118</td>\n",
       "      <td id=\"T_9de25_row0_col3\" class=\"data row0 col3\" >2882</td>\n",
       "      <td id=\"T_9de25_row0_col4\" class=\"data row0 col4\" >HR</td>\n",
       "      <td id=\"T_9de25_row0_col5\" class=\"data row0 col5\" >2024-03-23</td>\n",
       "      <td id=\"T_9de25_row0_col6\" class=\"data row0 col6\" >Became Public Law No: 118-47.</td>\n",
       "      <td id=\"T_9de25_row0_col7\" class=\"data row0 col7\" >Related bill</td>\n",
       "      <td id=\"T_9de25_row0_col8\" class=\"data row0 col8\" >House</td>\n",
       "      <td id=\"T_9de25_row0_col9\" class=\"data row0 col9\" >nan</td>\n",
       "    </tr>\n",
       "    <tr>\n",
       "      <th id=\"T_9de25_level0_row1\" class=\"row_heading level0 row1\" >1</th>\n",
       "      <td id=\"T_9de25_row1_col0\" class=\"data row1 col0\" >hconres101</td>\n",
       "      <td id=\"T_9de25_row1_col1\" class=\"data row1 col1\" >A concurrent resolution recognizing the need to improve physical access to many federally funded facilities for all people of the United States, particularly people with disabilities.</td>\n",
       "      <td id=\"T_9de25_row1_col2\" class=\"data row1 col2\" >118</td>\n",
       "      <td id=\"T_9de25_row1_col3\" class=\"data row1 col3\" >31</td>\n",
       "      <td id=\"T_9de25_row1_col4\" class=\"data row1 col4\" >SCONRES</td>\n",
       "      <td id=\"T_9de25_row1_col5\" class=\"data row1 col5\" >2024-03-22</td>\n",
       "      <td id=\"T_9de25_row1_col6\" class=\"data row1 col6\" >Referred to the Committee on Health, Education, Labor, and Pensions.</td>\n",
       "      <td id=\"T_9de25_row1_col7\" class=\"data row1 col7\" >Identical bill</td>\n",
       "      <td id=\"T_9de25_row1_col8\" class=\"data row1 col8\" >CRS</td>\n",
       "      <td id=\"T_9de25_row1_col9\" class=\"data row1 col9\" >nan</td>\n",
       "    </tr>\n",
       "    <tr>\n",
       "      <th id=\"T_9de25_level0_row2\" class=\"row_heading level0 row2\" >2</th>\n",
       "      <td id=\"T_9de25_row2_col0\" class=\"data row2 col0\" >hconres102</td>\n",
       "      <td id=\"T_9de25_row2_col1\" class=\"data row2 col1\" >A concurrent resolution supporting the goals and ideals of International Transgender Day of Visibility.</td>\n",
       "      <td id=\"T_9de25_row2_col2\" class=\"data row2 col2\" >118</td>\n",
       "      <td id=\"T_9de25_row2_col3\" class=\"data row2 col3\" >32</td>\n",
       "      <td id=\"T_9de25_row2_col4\" class=\"data row2 col4\" >SCONRES</td>\n",
       "      <td id=\"T_9de25_row2_col5\" class=\"data row2 col5\" >2024-03-22</td>\n",
       "      <td id=\"T_9de25_row2_col6\" class=\"data row2 col6\" >Referred to the Committee on the Judiciary.</td>\n",
       "      <td id=\"T_9de25_row2_col7\" class=\"data row2 col7\" >Identical bill</td>\n",
       "      <td id=\"T_9de25_row2_col8\" class=\"data row2 col8\" >CRS</td>\n",
       "      <td id=\"T_9de25_row2_col9\" class=\"data row2 col9\" >nan</td>\n",
       "    </tr>\n",
       "    <tr>\n",
       "      <th id=\"T_9de25_level0_row3\" class=\"row_heading level0 row3\" >3</th>\n",
       "      <td id=\"T_9de25_row3_col0\" class=\"data row3 col0\" >hconres102</td>\n",
       "      <td id=\"T_9de25_row3_col1\" class=\"data row3 col1\" >Supporting the goals and ideals of International Transgender Day of Visibility.</td>\n",
       "      <td id=\"T_9de25_row3_col2\" class=\"data row3 col2\" >118</td>\n",
       "      <td id=\"T_9de25_row3_col3\" class=\"data row3 col3\" >32</td>\n",
       "      <td id=\"T_9de25_row3_col4\" class=\"data row3 col4\" >HCONRES</td>\n",
       "      <td id=\"T_9de25_row3_col5\" class=\"data row3 col5\" >2023-03-30</td>\n",
       "      <td id=\"T_9de25_row3_col6\" class=\"data row3 col6\" >Referred to the House Committee on the Judiciary.</td>\n",
       "      <td id=\"T_9de25_row3_col7\" class=\"data row3 col7\" >Identical bill</td>\n",
       "      <td id=\"T_9de25_row3_col8\" class=\"data row3 col8\" >CRS</td>\n",
       "      <td id=\"T_9de25_row3_col9\" class=\"data row3 col9\" >nan</td>\n",
       "    </tr>\n",
       "    <tr>\n",
       "      <th id=\"T_9de25_level0_row4\" class=\"row_heading level0 row4\" >4</th>\n",
       "      <td id=\"T_9de25_row4_col0\" class=\"data row4 col0\" >hconres102</td>\n",
       "      <td id=\"T_9de25_row4_col1\" class=\"data row4 col1\" >A resolution supporting the goals and ideals of International Transgender Day of Visibility.</td>\n",
       "      <td id=\"T_9de25_row4_col2\" class=\"data row4 col2\" >118</td>\n",
       "      <td id=\"T_9de25_row4_col3\" class=\"data row4 col3\" >154</td>\n",
       "      <td id=\"T_9de25_row4_col4\" class=\"data row4 col4\" >SRES</td>\n",
       "      <td id=\"T_9de25_row4_col5\" class=\"data row4 col5\" >2023-03-30</td>\n",
       "      <td id=\"T_9de25_row4_col6\" class=\"data row4 col6\" >Referred to the Committee on the Judiciary. (text: CR S1105)</td>\n",
       "      <td id=\"T_9de25_row4_col7\" class=\"data row4 col7\" >Identical bill</td>\n",
       "      <td id=\"T_9de25_row4_col8\" class=\"data row4 col8\" >CRS</td>\n",
       "      <td id=\"T_9de25_row4_col9\" class=\"data row4 col9\" >nan</td>\n",
       "    </tr>\n",
       "  </tbody>\n",
       "</table>\n"
      ],
      "text/plain": [
       "<pandas.io.formats.style.Styler at 0x2064c287fb0>"
      ]
     },
     "execution_count": 63,
     "metadata": {},
     "output_type": "execute_result"
    }
   ],
   "source": [
    "# Review related_bills_df\n",
    "related_bills_df.head().style.set_table_styles(def_style)"
   ]
  },
  {
   "cell_type": "code",
   "execution_count": 64,
   "metadata": {},
   "outputs": [
    {
     "data": {
      "text/plain": [
       "(11955, 10)"
      ]
     },
     "execution_count": 64,
     "metadata": {},
     "output_type": "execute_result"
    }
   ],
   "source": [
    "# Review shape of dataframe\n",
    "related_bills_df.shape"
   ]
  },
  {
   "cell_type": "code",
   "execution_count": 65,
   "metadata": {},
   "outputs": [],
   "source": [
    "# Delete duplicates and nan columns\n",
    "related_bills_df.drop_duplicates(inplace=True)\n",
    "related_bills_df.dropna(axis=1, how='all', inplace=True)"
   ]
  },
  {
   "cell_type": "code",
   "execution_count": 66,
   "metadata": {},
   "outputs": [
    {
     "data": {
      "text/plain": [
       "Index(['id', 'itemtitle', 'itemcongress', 'itemnumber', 'itemtype',\n",
       "       'itemlatestActionactionDate', 'itemlatestActiontext',\n",
       "       'itemrelationshipDetailsitemtype',\n",
       "       'itemrelationshipDetailsitemidentifiedBy',\n",
       "       'itemlatestActionactionTime'],\n",
       "      dtype='object')"
      ]
     },
     "execution_count": 66,
     "metadata": {},
     "output_type": "execute_result"
    }
   ],
   "source": [
    "# Review column names\n",
    "related_bills_df.columns"
   ]
  },
  {
   "cell_type": "code",
   "execution_count": 67,
   "metadata": {},
   "outputs": [],
   "source": [
    "# Cleanup column names for clarity\n",
    "related_bills_df.columns = ['id', 'title', 'congress', 'number', 'type', 'latestActionDate', 'latestActionText',\n",
    "                            'relationshipType', 'relationshipIdentifiedBy', 'latestActionTime']"
   ]
  },
  {
   "cell_type": "code",
   "execution_count": 68,
   "metadata": {},
   "outputs": [
    {
     "data": {
      "text/plain": [
       "id                              0\n",
       "title                         631\n",
       "congress                      629\n",
       "number                        629\n",
       "type                          629\n",
       "latestActionDate              632\n",
       "latestActionText              632\n",
       "relationshipType              411\n",
       "relationshipIdentifiedBy      411\n",
       "latestActionTime            11173\n",
       "dtype: int64"
      ]
     },
     "execution_count": 68,
     "metadata": {},
     "output_type": "execute_result"
    }
   ],
   "source": [
    "# Review columns with NaN content\n",
    "related_bills_df.isna().sum()"
   ]
  },
  {
   "cell_type": "code",
   "execution_count": 69,
   "metadata": {},
   "outputs": [],
   "source": [
    "# The nans in title, congress, number, type, latestActionDate, and latestActionText are due to the process we used \n",
    "# to read in the rows. We will forward fill from the last valid value, and then remove any rows that have a nan \n",
    "# value for relationshipType and relationshipIdentifiedBy\n",
    "col_list = ['title', 'congress', 'number', 'type', 'latestActionDate', 'latestActionText']\n",
    "for col in col_list:\n",
    "    related_bills_df[col] = related_bills_df[col].ffill()\n",
    "related_bills_df.dropna(how='all', subset=['relationshipType', 'relationshipIdentifiedBy'], inplace=True)"
   ]
  },
  {
   "cell_type": "code",
   "execution_count": 70,
   "metadata": {},
   "outputs": [],
   "source": [
    "# Delete the latestActionTime column because it is rarely populated and provides an unneeded level of detail\n",
    "related_bills_df.drop(columns='latestActionTime', inplace=True)"
   ]
  },
  {
   "cell_type": "code",
   "execution_count": 71,
   "metadata": {},
   "outputs": [
    {
     "data": {
      "text/plain": [
       "id                          object\n",
       "title                       object\n",
       "congress                    object\n",
       "number                      object\n",
       "type                        object\n",
       "latestActionDate            object\n",
       "latestActionText            object\n",
       "relationshipType            object\n",
       "relationshipIdentifiedBy    object\n",
       "dtype: object"
      ]
     },
     "execution_count": 71,
     "metadata": {},
     "output_type": "execute_result"
    }
   ],
   "source": [
    "# Review data types\n",
    "related_bills_df.dtypes"
   ]
  },
  {
   "cell_type": "code",
   "execution_count": 72,
   "metadata": {},
   "outputs": [],
   "source": [
    "# Covert datatypes\n",
    "num_cols = ['congress', 'number']\n",
    "related_bills_df[num_cols] = related_bills_df[num_cols].astype('int')\n",
    "related_bills_df['latestActionDate'] = pd.to_datetime(related_bills_df['latestActionDate'])"
   ]
  },
  {
   "cell_type": "code",
   "execution_count": 73,
   "metadata": {},
   "outputs": [
    {
     "data": {
      "text/plain": [
       "array(['hconres100', 'hconres101', 'hconres102', ..., 'sres95', 'sres98',\n",
       "       'sres99'], dtype=object)"
      ]
     },
     "execution_count": 73,
     "metadata": {},
     "output_type": "execute_result"
    }
   ],
   "source": [
    "# Review id data\n",
    "related_bills_df['id'].unique()"
   ]
  },
  {
   "cell_type": "code",
   "execution_count": 74,
   "metadata": {},
   "outputs": [
    {
     "data": {
      "text/plain": [
       "array(['Further Consolidated Appropriations Act, 2024',\n",
       "       'A concurrent resolution recognizing the need to improve physical access to many federally funded facilities for all people of the United States, particularly people with disabilities.',\n",
       "       'A concurrent resolution supporting the goals and ideals of International Transgender Day of Visibility.',\n",
       "       ...,\n",
       "       'Memorializing those impacted by and lost to the COVID-19 pandemic.',\n",
       "       'Honoring the life of Dr. Paul Farmer by recognizing the duty of the Federal Government to adopt a 21st-century global health solidarity strategy and take actions to address past and ongoing harms that undermine the health and well-being of people around the world.',\n",
       "       'Expressing support for the designation of March 8, 2023, as \"National Emily Warner and Women Airline Pilots Day\".'],\n",
       "      dtype=object)"
      ]
     },
     "execution_count": 74,
     "metadata": {},
     "output_type": "execute_result"
    }
   ],
   "source": [
    "# Review title data\n",
    "related_bills_df['title'].unique()"
   ]
  },
  {
   "cell_type": "code",
   "execution_count": 75,
   "metadata": {},
   "outputs": [
    {
     "data": {
      "text/plain": [
       "array([118, 117, 116])"
      ]
     },
     "execution_count": 75,
     "metadata": {},
     "output_type": "execute_result"
    }
   ],
   "source": [
    "# Review congress data\n",
    "related_bills_df['congress'].unique()"
   ]
  },
  {
   "cell_type": "code",
   "execution_count": 76,
   "metadata": {},
   "outputs": [
    {
     "name": "stdout",
     "output_type": "stream",
     "text": [
      "Range of number values:\n",
      "1 - 8919\n"
     ]
    }
   ],
   "source": [
    "# Review number column data\n",
    "print('Range of number values:')\n",
    "print(f'{related_bills_df[\"number\"].min()} - {related_bills_df[\"number\"].max()}')"
   ]
  },
  {
   "cell_type": "code",
   "execution_count": 77,
   "metadata": {},
   "outputs": [
    {
     "data": {
      "text/plain": [
       "array(['HR', 'SCONRES', 'HCONRES', 'SRES', 'S', 'HRES', 'HJRES', 'SJRES'],\n",
       "      dtype=object)"
      ]
     },
     "execution_count": 77,
     "metadata": {},
     "output_type": "execute_result"
    }
   ],
   "source": [
    "# Review type data\n",
    "related_bills_df['type'].unique()"
   ]
  },
  {
   "cell_type": "code",
   "execution_count": 78,
   "metadata": {},
   "outputs": [
    {
     "name": "stdout",
     "output_type": "stream",
     "text": [
      "Range of latestActionDate values:\n",
      "2019-01-08 to 2024-06-12\n"
     ]
    }
   ],
   "source": [
    "# Review date range for latestActionDate\n",
    "print('Range of latestActionDate values:')\n",
    "print(f'{related_bills_df[\"latestActionDate\"].min().date()} to {related_bills_df[\"latestActionDate\"].max().date()}')"
   ]
  },
  {
   "cell_type": "code",
   "execution_count": 79,
   "metadata": {},
   "outputs": [
    {
     "data": {
      "text/plain": [
       "array(['Became Public Law No: 118-47.',\n",
       "       'Referred to the Committee on Health, Education, Labor, and Pensions.',\n",
       "       'Referred to the Committee on the Judiciary.', ...,\n",
       "       'Submitted in the Senate, considered, and agreed to without amendment and with a preamble by Unanimous Consent. (consideration: CR S960; text: CR S958)',\n",
       "       'Resolution agreed to in Senate without amendment and with a preamble by Unanimous Consent. (consideration: CR S2866; text: 03/19/2024 CR S2444)',\n",
       "       'Referred to the Committee on Foreign Relations. (text: CR S2282-2284)'],\n",
       "      dtype=object)"
      ]
     },
     "execution_count": 79,
     "metadata": {},
     "output_type": "execute_result"
    }
   ],
   "source": [
    "# Review latestAction data\n",
    "related_bills_df['latestActionText'].unique()"
   ]
  },
  {
   "cell_type": "code",
   "execution_count": 80,
   "metadata": {},
   "outputs": [
    {
     "data": {
      "text/plain": [
       "array(['Related bill', 'Identical bill', 'Procedurally-related',\n",
       "       'Related document', 'Text similarities'], dtype=object)"
      ]
     },
     "execution_count": 80,
     "metadata": {},
     "output_type": "execute_result"
    }
   ],
   "source": [
    "# Review relationshipType data\n",
    "related_bills_df['relationshipType'].unique()"
   ]
  },
  {
   "cell_type": "code",
   "execution_count": 81,
   "metadata": {},
   "outputs": [
    {
     "data": {
      "text/plain": [
       "array(['House', 'CRS', 'Senate'], dtype=object)"
      ]
     },
     "execution_count": 81,
     "metadata": {},
     "output_type": "execute_result"
    }
   ],
   "source": [
    "# Review relationshiopIdentifiedBy data\n",
    "related_bills_df['relationshipIdentifiedBy'].unique()"
   ]
  },
  {
   "cell_type": "code",
   "execution_count": 82,
   "metadata": {},
   "outputs": [
    {
     "data": {
      "text/html": [
       "<style type=\"text/css\">\n",
       "#T_2fdbf td {\n",
       "  white-space: nowrap;\n",
       "  max-width: 300px;\n",
       "  text-overflow: ellipsis;\n",
       "  overflow: hidden;\n",
       "}\n",
       "</style>\n",
       "<table id=\"T_2fdbf\">\n",
       "  <thead>\n",
       "    <tr>\n",
       "      <th class=\"blank level0\" >&nbsp;</th>\n",
       "      <th id=\"T_2fdbf_level0_col0\" class=\"col_heading level0 col0\" >id</th>\n",
       "      <th id=\"T_2fdbf_level0_col1\" class=\"col_heading level0 col1\" >title</th>\n",
       "      <th id=\"T_2fdbf_level0_col2\" class=\"col_heading level0 col2\" >congress</th>\n",
       "      <th id=\"T_2fdbf_level0_col3\" class=\"col_heading level0 col3\" >number</th>\n",
       "      <th id=\"T_2fdbf_level0_col4\" class=\"col_heading level0 col4\" >type</th>\n",
       "      <th id=\"T_2fdbf_level0_col5\" class=\"col_heading level0 col5\" >latestActionDate</th>\n",
       "      <th id=\"T_2fdbf_level0_col6\" class=\"col_heading level0 col6\" >latestActionText</th>\n",
       "      <th id=\"T_2fdbf_level0_col7\" class=\"col_heading level0 col7\" >relationshipType</th>\n",
       "      <th id=\"T_2fdbf_level0_col8\" class=\"col_heading level0 col8\" >relationshipIdentifiedBy</th>\n",
       "    </tr>\n",
       "  </thead>\n",
       "  <tbody>\n",
       "    <tr>\n",
       "      <th id=\"T_2fdbf_level0_row0\" class=\"row_heading level0 row0\" >0</th>\n",
       "      <td id=\"T_2fdbf_row0_col0\" class=\"data row0 col0\" >hconres100</td>\n",
       "      <td id=\"T_2fdbf_row0_col1\" class=\"data row0 col1\" >Further Consolidated Appropriations Act, 2024</td>\n",
       "      <td id=\"T_2fdbf_row0_col2\" class=\"data row0 col2\" >118</td>\n",
       "      <td id=\"T_2fdbf_row0_col3\" class=\"data row0 col3\" >2882</td>\n",
       "      <td id=\"T_2fdbf_row0_col4\" class=\"data row0 col4\" >HR</td>\n",
       "      <td id=\"T_2fdbf_row0_col5\" class=\"data row0 col5\" >2024-03-23 00:00:00</td>\n",
       "      <td id=\"T_2fdbf_row0_col6\" class=\"data row0 col6\" >Became Public Law No: 118-47.</td>\n",
       "      <td id=\"T_2fdbf_row0_col7\" class=\"data row0 col7\" >Related bill</td>\n",
       "      <td id=\"T_2fdbf_row0_col8\" class=\"data row0 col8\" >House</td>\n",
       "    </tr>\n",
       "    <tr>\n",
       "      <th id=\"T_2fdbf_level0_row1\" class=\"row_heading level0 row1\" >1</th>\n",
       "      <td id=\"T_2fdbf_row1_col0\" class=\"data row1 col0\" >hconres101</td>\n",
       "      <td id=\"T_2fdbf_row1_col1\" class=\"data row1 col1\" >A concurrent resolution recognizing the need to improve physical access to many federally funded facilities for all people of the United States, particularly people with disabilities.</td>\n",
       "      <td id=\"T_2fdbf_row1_col2\" class=\"data row1 col2\" >118</td>\n",
       "      <td id=\"T_2fdbf_row1_col3\" class=\"data row1 col3\" >31</td>\n",
       "      <td id=\"T_2fdbf_row1_col4\" class=\"data row1 col4\" >SCONRES</td>\n",
       "      <td id=\"T_2fdbf_row1_col5\" class=\"data row1 col5\" >2024-03-22 00:00:00</td>\n",
       "      <td id=\"T_2fdbf_row1_col6\" class=\"data row1 col6\" >Referred to the Committee on Health, Education, Labor, and Pensions.</td>\n",
       "      <td id=\"T_2fdbf_row1_col7\" class=\"data row1 col7\" >Identical bill</td>\n",
       "      <td id=\"T_2fdbf_row1_col8\" class=\"data row1 col8\" >CRS</td>\n",
       "    </tr>\n",
       "    <tr>\n",
       "      <th id=\"T_2fdbf_level0_row2\" class=\"row_heading level0 row2\" >2</th>\n",
       "      <td id=\"T_2fdbf_row2_col0\" class=\"data row2 col0\" >hconres102</td>\n",
       "      <td id=\"T_2fdbf_row2_col1\" class=\"data row2 col1\" >A concurrent resolution supporting the goals and ideals of International Transgender Day of Visibility.</td>\n",
       "      <td id=\"T_2fdbf_row2_col2\" class=\"data row2 col2\" >118</td>\n",
       "      <td id=\"T_2fdbf_row2_col3\" class=\"data row2 col3\" >32</td>\n",
       "      <td id=\"T_2fdbf_row2_col4\" class=\"data row2 col4\" >SCONRES</td>\n",
       "      <td id=\"T_2fdbf_row2_col5\" class=\"data row2 col5\" >2024-03-22 00:00:00</td>\n",
       "      <td id=\"T_2fdbf_row2_col6\" class=\"data row2 col6\" >Referred to the Committee on the Judiciary.</td>\n",
       "      <td id=\"T_2fdbf_row2_col7\" class=\"data row2 col7\" >Identical bill</td>\n",
       "      <td id=\"T_2fdbf_row2_col8\" class=\"data row2 col8\" >CRS</td>\n",
       "    </tr>\n",
       "    <tr>\n",
       "      <th id=\"T_2fdbf_level0_row3\" class=\"row_heading level0 row3\" >3</th>\n",
       "      <td id=\"T_2fdbf_row3_col0\" class=\"data row3 col0\" >hconres102</td>\n",
       "      <td id=\"T_2fdbf_row3_col1\" class=\"data row3 col1\" >Supporting the goals and ideals of International Transgender Day of Visibility.</td>\n",
       "      <td id=\"T_2fdbf_row3_col2\" class=\"data row3 col2\" >118</td>\n",
       "      <td id=\"T_2fdbf_row3_col3\" class=\"data row3 col3\" >32</td>\n",
       "      <td id=\"T_2fdbf_row3_col4\" class=\"data row3 col4\" >HCONRES</td>\n",
       "      <td id=\"T_2fdbf_row3_col5\" class=\"data row3 col5\" >2023-03-30 00:00:00</td>\n",
       "      <td id=\"T_2fdbf_row3_col6\" class=\"data row3 col6\" >Referred to the House Committee on the Judiciary.</td>\n",
       "      <td id=\"T_2fdbf_row3_col7\" class=\"data row3 col7\" >Identical bill</td>\n",
       "      <td id=\"T_2fdbf_row3_col8\" class=\"data row3 col8\" >CRS</td>\n",
       "    </tr>\n",
       "    <tr>\n",
       "      <th id=\"T_2fdbf_level0_row4\" class=\"row_heading level0 row4\" >4</th>\n",
       "      <td id=\"T_2fdbf_row4_col0\" class=\"data row4 col0\" >hconres102</td>\n",
       "      <td id=\"T_2fdbf_row4_col1\" class=\"data row4 col1\" >A resolution supporting the goals and ideals of International Transgender Day of Visibility.</td>\n",
       "      <td id=\"T_2fdbf_row4_col2\" class=\"data row4 col2\" >118</td>\n",
       "      <td id=\"T_2fdbf_row4_col3\" class=\"data row4 col3\" >154</td>\n",
       "      <td id=\"T_2fdbf_row4_col4\" class=\"data row4 col4\" >SRES</td>\n",
       "      <td id=\"T_2fdbf_row4_col5\" class=\"data row4 col5\" >2023-03-30 00:00:00</td>\n",
       "      <td id=\"T_2fdbf_row4_col6\" class=\"data row4 col6\" >Referred to the Committee on the Judiciary. (text: CR S1105)</td>\n",
       "      <td id=\"T_2fdbf_row4_col7\" class=\"data row4 col7\" >Identical bill</td>\n",
       "      <td id=\"T_2fdbf_row4_col8\" class=\"data row4 col8\" >CRS</td>\n",
       "    </tr>\n",
       "  </tbody>\n",
       "</table>\n"
      ],
      "text/plain": [
       "<pandas.io.formats.style.Styler at 0x2064c287b60>"
      ]
     },
     "execution_count": 82,
     "metadata": {},
     "output_type": "execute_result"
    }
   ],
   "source": [
    "# Final review related_bills_df\n",
    "related_bills_df.head().style.set_table_styles(def_style)"
   ]
  },
  {
   "cell_type": "markdown",
   "metadata": {},
   "source": [
    "***\n",
    "## Actions\n",
    "***"
   ]
  },
  {
   "cell_type": "code",
   "execution_count": 83,
   "metadata": {},
   "outputs": [
    {
     "data": {
      "text/html": [
       "<style type=\"text/css\">\n",
       "#T_6146e td {\n",
       "  white-space: nowrap;\n",
       "  max-width: 300px;\n",
       "  text-overflow: ellipsis;\n",
       "  overflow: hidden;\n",
       "}\n",
       "</style>\n",
       "<table id=\"T_6146e\">\n",
       "  <thead>\n",
       "    <tr>\n",
       "      <th class=\"blank level0\" >&nbsp;</th>\n",
       "      <th id=\"T_6146e_level0_col0\" class=\"col_heading level0 col0\" >id</th>\n",
       "      <th id=\"T_6146e_level0_col1\" class=\"col_heading level0 col1\" >itemactionDate</th>\n",
       "      <th id=\"T_6146e_level0_col2\" class=\"col_heading level0 col2\" >itemsourceSystemname</th>\n",
       "      <th id=\"T_6146e_level0_col3\" class=\"col_heading level0 col3\" >itemtext</th>\n",
       "      <th id=\"T_6146e_level0_col4\" class=\"col_heading level0 col4\" >itemtype</th>\n",
       "      <th id=\"T_6146e_level0_col5\" class=\"col_heading level0 col5\" >itemactionTime</th>\n",
       "      <th id=\"T_6146e_level0_col6\" class=\"col_heading level0 col6\" >itemactionCode</th>\n",
       "      <th id=\"T_6146e_level0_col7\" class=\"col_heading level0 col7\" >itemsourceSystemcode</th>\n",
       "      <th id=\"T_6146e_level0_col8\" class=\"col_heading level0 col8\" >itemcommitteesitemsystemCode</th>\n",
       "      <th id=\"T_6146e_level0_col9\" class=\"col_heading level0 col9\" >itemcommitteesitemname</th>\n",
       "      <th id=\"T_6146e_level0_col10\" class=\"col_heading level0 col10\" >itemcalendarNumbercalendar</th>\n",
       "      <th id=\"T_6146e_level0_col11\" class=\"col_heading level0 col11\" >itemrecordedVotesrecordedVoterollNumber</th>\n",
       "      <th id=\"T_6146e_level0_col12\" class=\"col_heading level0 col12\" >itemrecordedVotesrecordedVoteurl</th>\n",
       "      <th id=\"T_6146e_level0_col13\" class=\"col_heading level0 col13\" >itemrecordedVotesrecordedVotechamber</th>\n",
       "      <th id=\"T_6146e_level0_col14\" class=\"col_heading level0 col14\" >itemrecordedVotesrecordedVotecongress</th>\n",
       "      <th id=\"T_6146e_level0_col15\" class=\"col_heading level0 col15\" >itemrecordedVotesrecordedVotedate</th>\n",
       "      <th id=\"T_6146e_level0_col16\" class=\"col_heading level0 col16\" >itemrecordedVotesrecordedVotesessionNumber</th>\n",
       "    </tr>\n",
       "  </thead>\n",
       "  <tbody>\n",
       "    <tr>\n",
       "      <th id=\"T_6146e_level0_row0\" class=\"row_heading level0 row0\" >0</th>\n",
       "      <td id=\"T_6146e_row0_col0\" class=\"data row0 col0\" >hconres1</td>\n",
       "      <td id=\"T_6146e_row0_col1\" class=\"data row0 col1\" >2023-01-23</td>\n",
       "      <td id=\"T_6146e_row0_col2\" class=\"data row0 col2\" >Senate</td>\n",
       "      <td id=\"T_6146e_row0_col3\" class=\"data row0 col3\" >Received in the Senate.</td>\n",
       "      <td id=\"T_6146e_row0_col4\" class=\"data row0 col4\" >IntroReferral</td>\n",
       "      <td id=\"T_6146e_row0_col5\" class=\"data row0 col5\" >nan</td>\n",
       "      <td id=\"T_6146e_row0_col6\" class=\"data row0 col6\" >nan</td>\n",
       "      <td id=\"T_6146e_row0_col7\" class=\"data row0 col7\" >nan</td>\n",
       "      <td id=\"T_6146e_row0_col8\" class=\"data row0 col8\" >nan</td>\n",
       "      <td id=\"T_6146e_row0_col9\" class=\"data row0 col9\" >nan</td>\n",
       "      <td id=\"T_6146e_row0_col10\" class=\"data row0 col10\" >nan</td>\n",
       "      <td id=\"T_6146e_row0_col11\" class=\"data row0 col11\" >nan</td>\n",
       "      <td id=\"T_6146e_row0_col12\" class=\"data row0 col12\" >nan</td>\n",
       "      <td id=\"T_6146e_row0_col13\" class=\"data row0 col13\" >nan</td>\n",
       "      <td id=\"T_6146e_row0_col14\" class=\"data row0 col14\" >nan</td>\n",
       "      <td id=\"T_6146e_row0_col15\" class=\"data row0 col15\" >nan</td>\n",
       "      <td id=\"T_6146e_row0_col16\" class=\"data row0 col16\" >nan</td>\n",
       "    </tr>\n",
       "    <tr>\n",
       "      <th id=\"T_6146e_level0_row1\" class=\"row_heading level0 row1\" >1</th>\n",
       "      <td id=\"T_6146e_row1_col0\" class=\"data row1 col0\" >hconres1</td>\n",
       "      <td id=\"T_6146e_row1_col1\" class=\"data row1 col1\" >2023-01-09</td>\n",
       "      <td id=\"T_6146e_row1_col2\" class=\"data row1 col2\" >House floor actions</td>\n",
       "      <td id=\"T_6146e_row1_col3\" class=\"data row1 col3\" >Motion to reconsider laid on the table Agreed to without objection.</td>\n",
       "      <td id=\"T_6146e_row1_col4\" class=\"data row1 col4\" >Floor</td>\n",
       "      <td id=\"T_6146e_row1_col5\" class=\"data row1 col5\" >19:11:24</td>\n",
       "      <td id=\"T_6146e_row1_col6\" class=\"data row1 col6\" >H38310</td>\n",
       "      <td id=\"T_6146e_row1_col7\" class=\"data row1 col7\" >2</td>\n",
       "      <td id=\"T_6146e_row1_col8\" class=\"data row1 col8\" >nan</td>\n",
       "      <td id=\"T_6146e_row1_col9\" class=\"data row1 col9\" >nan</td>\n",
       "      <td id=\"T_6146e_row1_col10\" class=\"data row1 col10\" >nan</td>\n",
       "      <td id=\"T_6146e_row1_col11\" class=\"data row1 col11\" >nan</td>\n",
       "      <td id=\"T_6146e_row1_col12\" class=\"data row1 col12\" >nan</td>\n",
       "      <td id=\"T_6146e_row1_col13\" class=\"data row1 col13\" >nan</td>\n",
       "      <td id=\"T_6146e_row1_col14\" class=\"data row1 col14\" >nan</td>\n",
       "      <td id=\"T_6146e_row1_col15\" class=\"data row1 col15\" >nan</td>\n",
       "      <td id=\"T_6146e_row1_col16\" class=\"data row1 col16\" >nan</td>\n",
       "    </tr>\n",
       "    <tr>\n",
       "      <th id=\"T_6146e_level0_row2\" class=\"row_heading level0 row2\" >2</th>\n",
       "      <td id=\"T_6146e_row2_col0\" class=\"data row2 col0\" >hconres1</td>\n",
       "      <td id=\"T_6146e_row2_col1\" class=\"data row2 col1\" >2023-01-09</td>\n",
       "      <td id=\"T_6146e_row2_col2\" class=\"data row2 col2\" >House floor actions</td>\n",
       "      <td id=\"T_6146e_row2_col3\" class=\"data row2 col3\" >On agreeing to the resolution Agreed to without objection.</td>\n",
       "      <td id=\"T_6146e_row2_col4\" class=\"data row2 col4\" >Floor</td>\n",
       "      <td id=\"T_6146e_row2_col5\" class=\"data row2 col5\" >19:11:18</td>\n",
       "      <td id=\"T_6146e_row2_col6\" class=\"data row2 col6\" >H37100</td>\n",
       "      <td id=\"T_6146e_row2_col7\" class=\"data row2 col7\" >2</td>\n",
       "      <td id=\"T_6146e_row2_col8\" class=\"data row2 col8\" >nan</td>\n",
       "      <td id=\"T_6146e_row2_col9\" class=\"data row2 col9\" >nan</td>\n",
       "      <td id=\"T_6146e_row2_col10\" class=\"data row2 col10\" >nan</td>\n",
       "      <td id=\"T_6146e_row2_col11\" class=\"data row2 col11\" >nan</td>\n",
       "      <td id=\"T_6146e_row2_col12\" class=\"data row2 col12\" >nan</td>\n",
       "      <td id=\"T_6146e_row2_col13\" class=\"data row2 col13\" >nan</td>\n",
       "      <td id=\"T_6146e_row2_col14\" class=\"data row2 col14\" >nan</td>\n",
       "      <td id=\"T_6146e_row2_col15\" class=\"data row2 col15\" >nan</td>\n",
       "      <td id=\"T_6146e_row2_col16\" class=\"data row2 col16\" >nan</td>\n",
       "    </tr>\n",
       "    <tr>\n",
       "      <th id=\"T_6146e_level0_row3\" class=\"row_heading level0 row3\" >3</th>\n",
       "      <td id=\"T_6146e_row3_col0\" class=\"data row3 col0\" >hconres1</td>\n",
       "      <td id=\"T_6146e_row3_col1\" class=\"data row3 col1\" >2023-01-09</td>\n",
       "      <td id=\"T_6146e_row3_col2\" class=\"data row3 col2\" >Library of Congress</td>\n",
       "      <td id=\"T_6146e_row3_col3\" class=\"data row3 col3\" >Passed/agreed to in House On agreeing to the resolution Agreed to without objection. (text: CR H73)</td>\n",
       "      <td id=\"T_6146e_row3_col4\" class=\"data row3 col4\" >Floor</td>\n",
       "      <td id=\"T_6146e_row3_col5\" class=\"data row3 col5\" >19:11:18</td>\n",
       "      <td id=\"T_6146e_row3_col6\" class=\"data row3 col6\" >8000</td>\n",
       "      <td id=\"T_6146e_row3_col7\" class=\"data row3 col7\" >9</td>\n",
       "      <td id=\"T_6146e_row3_col8\" class=\"data row3 col8\" >nan</td>\n",
       "      <td id=\"T_6146e_row3_col9\" class=\"data row3 col9\" >nan</td>\n",
       "      <td id=\"T_6146e_row3_col10\" class=\"data row3 col10\" >nan</td>\n",
       "      <td id=\"T_6146e_row3_col11\" class=\"data row3 col11\" >nan</td>\n",
       "      <td id=\"T_6146e_row3_col12\" class=\"data row3 col12\" >nan</td>\n",
       "      <td id=\"T_6146e_row3_col13\" class=\"data row3 col13\" >nan</td>\n",
       "      <td id=\"T_6146e_row3_col14\" class=\"data row3 col14\" >nan</td>\n",
       "      <td id=\"T_6146e_row3_col15\" class=\"data row3 col15\" >nan</td>\n",
       "      <td id=\"T_6146e_row3_col16\" class=\"data row3 col16\" >nan</td>\n",
       "    </tr>\n",
       "    <tr>\n",
       "      <th id=\"T_6146e_level0_row4\" class=\"row_heading level0 row4\" >4</th>\n",
       "      <td id=\"T_6146e_row4_col0\" class=\"data row4 col0\" >hconres1</td>\n",
       "      <td id=\"T_6146e_row4_col1\" class=\"data row4 col1\" >2023-01-09</td>\n",
       "      <td id=\"T_6146e_row4_col2\" class=\"data row4 col2\" >House floor actions</td>\n",
       "      <td id=\"T_6146e_row4_col3\" class=\"data row4 col3\" >Considered as privileged matter.</td>\n",
       "      <td id=\"T_6146e_row4_col4\" class=\"data row4 col4\" >Floor</td>\n",
       "      <td id=\"T_6146e_row4_col5\" class=\"data row4 col5\" >19:10:38</td>\n",
       "      <td id=\"T_6146e_row4_col6\" class=\"data row4 col6\" >H30000</td>\n",
       "      <td id=\"T_6146e_row4_col7\" class=\"data row4 col7\" >2</td>\n",
       "      <td id=\"T_6146e_row4_col8\" class=\"data row4 col8\" >nan</td>\n",
       "      <td id=\"T_6146e_row4_col9\" class=\"data row4 col9\" >nan</td>\n",
       "      <td id=\"T_6146e_row4_col10\" class=\"data row4 col10\" >nan</td>\n",
       "      <td id=\"T_6146e_row4_col11\" class=\"data row4 col11\" >nan</td>\n",
       "      <td id=\"T_6146e_row4_col12\" class=\"data row4 col12\" >nan</td>\n",
       "      <td id=\"T_6146e_row4_col13\" class=\"data row4 col13\" >nan</td>\n",
       "      <td id=\"T_6146e_row4_col14\" class=\"data row4 col14\" >nan</td>\n",
       "      <td id=\"T_6146e_row4_col15\" class=\"data row4 col15\" >nan</td>\n",
       "      <td id=\"T_6146e_row4_col16\" class=\"data row4 col16\" >nan</td>\n",
       "    </tr>\n",
       "  </tbody>\n",
       "</table>\n"
      ],
      "text/plain": [
       "<pandas.io.formats.style.Styler at 0x2064c52ddc0>"
      ]
     },
     "execution_count": 83,
     "metadata": {},
     "output_type": "execute_result"
    }
   ],
   "source": [
    "# Review actions_df\n",
    "actions_df.head().style.set_table_styles(def_style)"
   ]
  },
  {
   "cell_type": "code",
   "execution_count": 84,
   "metadata": {},
   "outputs": [
    {
     "data": {
      "text/plain": [
       "(65350, 17)"
      ]
     },
     "execution_count": 84,
     "metadata": {},
     "output_type": "execute_result"
    }
   ],
   "source": [
    "# Review shape of dataframe\n",
    "actions_df.shape"
   ]
  },
  {
   "cell_type": "code",
   "execution_count": 85,
   "metadata": {},
   "outputs": [],
   "source": [
    "# Delete duplicates and nan columns\n",
    "actions_df.drop_duplicates(inplace=True)\n",
    "actions_df.dropna(axis=1, how='all', inplace=True)"
   ]
  },
  {
   "cell_type": "code",
   "execution_count": 86,
   "metadata": {},
   "outputs": [
    {
     "data": {
      "text/plain": [
       "Index(['id', 'itemactionDate', 'itemsourceSystemname', 'itemtext', 'itemtype',\n",
       "       'itemactionTime', 'itemactionCode', 'itemsourceSystemcode',\n",
       "       'itemcommitteesitemsystemCode', 'itemcommitteesitemname',\n",
       "       'itemcalendarNumbercalendar', 'itemrecordedVotesrecordedVoterollNumber',\n",
       "       'itemrecordedVotesrecordedVoteurl',\n",
       "       'itemrecordedVotesrecordedVotechamber',\n",
       "       'itemrecordedVotesrecordedVotecongress',\n",
       "       'itemrecordedVotesrecordedVotedate',\n",
       "       'itemrecordedVotesrecordedVotesessionNumber'],\n",
       "      dtype='object')"
      ]
     },
     "execution_count": 86,
     "metadata": {},
     "output_type": "execute_result"
    }
   ],
   "source": [
    "# Review column names\n",
    "actions_df.columns"
   ]
  },
  {
   "cell_type": "code",
   "execution_count": 87,
   "metadata": {},
   "outputs": [],
   "source": [
    "# Cleanup column names for clarity\n",
    "actions_df.columns = ['id', 'date', 'sourceSystemName', 'text', 'type', 'actionTime', 'actionCode', 'sourceSystemCode',\n",
    "                      'committeeCode', 'committeeName', 'calendarNumber', 'voteRollNumber', 'voteURL',\n",
    "                      'chamber', 'congress', 'voteDate', 'sessionNumber']"
   ]
  },
  {
   "cell_type": "code",
   "execution_count": 88,
   "metadata": {},
   "outputs": [
    {
     "data": {
      "text/plain": [
       "id                      0\n",
       "date                   24\n",
       "sourceSystemName       24\n",
       "text                   24\n",
       "type                   24\n",
       "actionTime          56561\n",
       "actionCode          14888\n",
       "sourceSystemCode     7972\n",
       "committeeCode       36126\n",
       "committeeName       36126\n",
       "calendarNumber      63822\n",
       "voteRollNumber      63096\n",
       "voteURL             63096\n",
       "chamber             63096\n",
       "congress            63096\n",
       "voteDate            63096\n",
       "sessionNumber       63096\n",
       "dtype: int64"
      ]
     },
     "execution_count": 88,
     "metadata": {},
     "output_type": "execute_result"
    }
   ],
   "source": [
    "# Review columns with NaN content\n",
    "actions_df.isna().sum()"
   ]
  },
  {
   "cell_type": "code",
   "execution_count": 89,
   "metadata": {},
   "outputs": [],
   "source": [
    "# All actions are from the 118th Congress\n",
    "actions_df['congress'] = actions_df['congress'].fillna(118)"
   ]
  },
  {
   "cell_type": "code",
   "execution_count": 90,
   "metadata": {},
   "outputs": [],
   "source": [
    "# Forward fill date, sourceSystemName, text, and type\n",
    "cols = ['date', 'sourceSystemName', 'text', 'type']\n",
    "actions_df[cols] = actions_df[cols].ffill()"
   ]
  },
  {
   "cell_type": "code",
   "execution_count": 93,
   "metadata": {},
   "outputs": [],
   "source": [
    "# Set missing numbers based on date. Session 1 = Jan 3 2023 to Jan 2 2024; Session 2 = Jan 3 2024 to Jan 2 2025\n",
    "actions_df.loc[pd.to_datetime(actions_df['date']) < datetime.datetime(2024, 1, 3), 'sessionNumber'] = 1\n",
    "actions_df.loc[pd.to_datetime(actions_df['date']) >= datetime.datetime(2024, 1, 3), 'sessionNumber'] = 2"
   ]
  },
  {
   "cell_type": "markdown",
   "metadata": {},
   "source": [
    "***\n",
    "<font color='red'>**Note:**</font>  \n",
    "Manual checking confirms that some NaN values are valid - not all columns relate to all actions. Before any cleanup can be done on NaN values caused by the import process, additional research needs to be done on the data, which is out of scope at this time.\n",
    "***"
   ]
  },
  {
   "cell_type": "code",
   "execution_count": 94,
   "metadata": {},
   "outputs": [],
   "source": [
    "# Covert datatypes\n",
    "num_cols = ['congress', 'sessionNumber']\n",
    "actions_df[num_cols] = actions_df[num_cols].astype('int')\n",
    "actions_df['date'] = pd.to_datetime(actions_df['date'])\n",
    "actions_df['voteDate'] = pd.to_datetime(actions_df['voteDate'])"
   ]
  },
  {
   "cell_type": "code",
   "execution_count": 95,
   "metadata": {},
   "outputs": [
    {
     "data": {
      "text/plain": [
       "id                               object\n",
       "date                     datetime64[ns]\n",
       "sourceSystemName                 object\n",
       "text                             object\n",
       "type                             object\n",
       "actionTime                       object\n",
       "actionCode                       object\n",
       "sourceSystemCode                 object\n",
       "committeeCode                    object\n",
       "committeeName                    object\n",
       "calendarNumber                   object\n",
       "voteRollNumber                   object\n",
       "voteURL                          object\n",
       "chamber                          object\n",
       "congress                          int32\n",
       "voteDate            datetime64[ns, UTC]\n",
       "sessionNumber                     int32\n",
       "dtype: object"
      ]
     },
     "execution_count": 95,
     "metadata": {},
     "output_type": "execute_result"
    }
   ],
   "source": [
    "actions_df.dtypes"
   ]
  },
  {
   "cell_type": "code",
   "execution_count": 96,
   "metadata": {},
   "outputs": [
    {
     "data": {
      "text/plain": [
       "array(['hconres1', 'hconres10', 'hconres100', ..., 'sres97', 'sres98',\n",
       "       'sres99'], dtype=object)"
      ]
     },
     "execution_count": 96,
     "metadata": {},
     "output_type": "execute_result"
    }
   ],
   "source": [
    "# Review id data\n",
    "actions_df['id'].unique()"
   ]
  },
  {
   "cell_type": "code",
   "execution_count": 97,
   "metadata": {},
   "outputs": [
    {
     "name": "stdout",
     "output_type": "stream",
     "text": [
      "Range of date values:\n",
      "2023-01-03 to 2024-06-13\n"
     ]
    }
   ],
   "source": [
    "# Review date range for date\n",
    "print('Range of date values:')\n",
    "print(f'{actions_df[\"date\"].min().date()} to {actions_df[\"date\"].max().date()}')"
   ]
  },
  {
   "cell_type": "code",
   "execution_count": 98,
   "metadata": {},
   "outputs": [
    {
     "data": {
      "text/plain": [
       "array(['Senate', 'House floor actions', 'Library of Congress',\n",
       "       'House committee actions'], dtype=object)"
      ]
     },
     "execution_count": 98,
     "metadata": {},
     "output_type": "execute_result"
    }
   ],
   "source": [
    "# Reivew sourceSystemName data\n",
    "actions_df['sourceSystemName'].unique()"
   ]
  },
  {
   "cell_type": "code",
   "execution_count": 99,
   "metadata": {},
   "outputs": [
    {
     "data": {
      "text/plain": [
       "array(['Received in the Senate.',\n",
       "       'Motion to reconsider laid on the table Agreed to without objection.',\n",
       "       'On agreeing to the resolution Agreed to without objection.', ...,\n",
       "       'Star Print ordered on the reported resolution.',\n",
       "       'Placed on Senate Legislative Calendar under General Orders. Calendar No. 54.',\n",
       "       'Referred to the Committee on Foreign Relations. (text: CR S718-719)'],\n",
       "      dtype=object)"
      ]
     },
     "execution_count": 99,
     "metadata": {},
     "output_type": "execute_result"
    }
   ],
   "source": [
    "# Review text data\n",
    "actions_df['text'].unique()"
   ]
  },
  {
   "cell_type": "code",
   "execution_count": 100,
   "metadata": {},
   "outputs": [
    {
     "data": {
      "text/plain": [
       "array(['IntroReferral', 'Floor', 'Committee', 'Calendars', 'Discharge',\n",
       "       'President', 'BecameLaw', 'Veto', 'ResolvingDifferences',\n",
       "       'NotUsed'], dtype=object)"
      ]
     },
     "execution_count": 100,
     "metadata": {},
     "output_type": "execute_result"
    }
   ],
   "source": [
    "# Review type data\n",
    "actions_df['type'].unique()"
   ]
  },
  {
   "cell_type": "code",
   "execution_count": 101,
   "metadata": {},
   "outputs": [
    {
     "name": "stdout",
     "output_type": "stream",
     "text": [
      "Range of actionTime values:\n",
      "00:01:28 to 23:57:58\n"
     ]
    }
   ],
   "source": [
    "# Review range of actionTime data\n",
    "print('Range of actionTime values:')\n",
    "print(f'{actions_df[\"actionTime\"].dropna().min()} to ', end='')\n",
    "print(f'{actions_df[\"actionTime\"].dropna().max()}')"
   ]
  },
  {
   "cell_type": "code",
   "execution_count": 102,
   "metadata": {},
   "outputs": [
    {
     "data": {
      "text/plain": [
       "array([nan, 'H38310', 'H37100', '8000', 'H30000', 'Intro-H', '1000',\n",
       "       'H11100', '17000', 'H30200', 'H37300', 'H8D000', 'H30300',\n",
       "       'H12200', '5000', 'H12420', '9000', 'H35000', 'H30800', 'H37220'],\n",
       "      dtype=object)"
      ]
     },
     "execution_count": 102,
     "metadata": {},
     "output_type": "execute_result"
    }
   ],
   "source": [
    "# Review actionCode data\n",
    "actions_df['actionCode'].unique()[:20]"
   ]
  },
  {
   "cell_type": "code",
   "execution_count": 103,
   "metadata": {},
   "outputs": [
    {
     "data": {
      "text/plain": [
       "array([nan, '2', '9', '1'], dtype=object)"
      ]
     },
     "execution_count": 103,
     "metadata": {},
     "output_type": "execute_result"
    }
   ],
   "source": [
    "# Review sourceSystemCode\n",
    "actions_df['sourceSystemCode'].unique()"
   ]
  },
  {
   "cell_type": "code",
   "execution_count": 104,
   "metadata": {},
   "outputs": [
    {
     "data": {
      "text/plain": [
       "array([nan, 'hswm00', 'hsfa00', 'hsif14', 'hsgo00', 'hsif00', 'hspw00',\n",
       "       'hsju00', 'hsed00', 'hsha00', 'ssju00', 'hsag16', 'hsag00',\n",
       "       'hsif03', 'hsii06', 'hspw14', 'hsii00', 'hspw13', 'hsas00',\n",
       "       'hsha06'], dtype=object)"
      ]
     },
     "execution_count": 104,
     "metadata": {},
     "output_type": "execute_result"
    }
   ],
   "source": [
    "# Review committeeCode\n",
    "actions_df['committeeCode'].unique()[:20]"
   ]
  },
  {
   "cell_type": "code",
   "execution_count": 105,
   "metadata": {},
   "outputs": [
    {
     "data": {
      "text/plain": [
       "array([nan, 'Ways and Means Committee', 'Foreign Affairs Committee',\n",
       "       'Health Subcommittee', 'Oversight and Accountability Committee',\n",
       "       'Energy and Commerce Committee',\n",
       "       'Transportation and Infrastructure Committee',\n",
       "       'Judiciary Committee', 'Education and the Workforce Committee',\n",
       "       'Committee on House Administration',\n",
       "       'General Farm Commodities, Risk Management, and Credit Subcommittee',\n",
       "       'Agriculture Committee',\n",
       "       'Energy, Climate and Grid Security Subcommittee',\n",
       "       'Energy and Mineral Resources Subcommittee',\n",
       "       'Railroads, Pipelines, and Hazardous Materials Subcommittee'],\n",
       "      dtype=object)"
      ]
     },
     "execution_count": 105,
     "metadata": {},
     "output_type": "execute_result"
    }
   ],
   "source": [
    "# Review committeeName data\n",
    "actions_df['committeeName'].unique()[:15]"
   ]
  },
  {
   "cell_type": "code",
   "execution_count": 106,
   "metadata": {},
   "outputs": [
    {
     "data": {
      "text/plain": [
       "array([nan, 'H00007', 'H00009', 'H00018', 'H00022', 'H00065', 'U00003',\n",
       "       'U00071', 'U00024', 'H00012', 'U00049', 'U00051', 'U00072',\n",
       "       'U00073', 'U00224', 'U00203', 'U00277', 'U00017', 'U00240',\n",
       "       'U00016'], dtype=object)"
      ]
     },
     "execution_count": 106,
     "metadata": {},
     "output_type": "execute_result"
    }
   ],
   "source": [
    "# Review calendarNumber\n",
    "actions_df['calendarNumber'].unique()[:20]"
   ]
  },
  {
   "cell_type": "code",
   "execution_count": 107,
   "metadata": {},
   "outputs": [
    {
     "name": "stdout",
     "output_type": "stream",
     "text": [
      "Range of voteRollNumber values:\n",
      "10 to 99\n"
     ]
    }
   ],
   "source": [
    "# Review range of voteRollNumber\n",
    "print('Range of voteRollNumber values:')\n",
    "print(f'{int(actions_df['voteRollNumber'].dropna().min())} to {int(actions_df['voteRollNumber'].dropna().max())}')"
   ]
  },
  {
   "cell_type": "code",
   "execution_count": 108,
   "metadata": {},
   "outputs": [
    {
     "data": {
      "text/plain": [
       "array([nan, 'https://clerk.house.gov/evs/2023/roll136.xml',\n",
       "       'https://clerk.house.gov/evs/2023/roll162.xml',\n",
       "       'https://clerk.house.gov/evs/2023/roll30.xml',\n",
       "       'https://clerk.house.gov/evs/2023/roll201.xml',\n",
       "       'https://clerk.house.gov/evs/2023/roll227.xml',\n",
       "       'https://clerk.house.gov/evs/2023/roll338.xml',\n",
       "       'https://clerk.house.gov/evs/2023/roll36.xml',\n",
       "       'https://clerk.house.gov/evs/2024/roll097.xml',\n",
       "       'https://clerk.house.gov/evs/2023/roll106.xml'], dtype=object)"
      ]
     },
     "execution_count": 108,
     "metadata": {},
     "output_type": "execute_result"
    }
   ],
   "source": [
    "# Review votURL data\n",
    "actions_df['voteURL'].unique()[:10]"
   ]
  },
  {
   "cell_type": "code",
   "execution_count": 109,
   "metadata": {},
   "outputs": [
    {
     "data": {
      "text/plain": [
       "array([nan, 'House', 'Senate'], dtype=object)"
      ]
     },
     "execution_count": 109,
     "metadata": {},
     "output_type": "execute_result"
    }
   ],
   "source": [
    "# Review chamber data\n",
    "actions_df['chamber'].unique()"
   ]
  },
  {
   "cell_type": "code",
   "execution_count": 110,
   "metadata": {},
   "outputs": [
    {
     "data": {
      "text/plain": [
       "array([118])"
      ]
     },
     "execution_count": 110,
     "metadata": {},
     "output_type": "execute_result"
    }
   ],
   "source": [
    "# Review congress data\n",
    "actions_df['congress'].unique()"
   ]
  },
  {
   "cell_type": "code",
   "execution_count": 111,
   "metadata": {},
   "outputs": [
    {
     "name": "stdout",
     "output_type": "stream",
     "text": [
      "Range of voteDate values:\n",
      "2023-01-09 to 2024-06-12\n"
     ]
    }
   ],
   "source": [
    "# Review range of date for voteDate\n",
    "print('Range of voteDate values:')\n",
    "print(f'{actions_df[\"voteDate\"].min().date()} to {actions_df[\"voteDate\"].max().date()}')"
   ]
  },
  {
   "cell_type": "code",
   "execution_count": 112,
   "metadata": {},
   "outputs": [
    {
     "data": {
      "text/plain": [
       "array([1, 2])"
      ]
     },
     "execution_count": 112,
     "metadata": {},
     "output_type": "execute_result"
    }
   ],
   "source": [
    "# Review sessionNumber data\n",
    "actions_df['sessionNumber'].unique()"
   ]
  },
  {
   "cell_type": "code",
   "execution_count": 113,
   "metadata": {},
   "outputs": [
    {
     "data": {
      "text/html": [
       "<style type=\"text/css\">\n",
       "#T_4c1a1 td {\n",
       "  white-space: nowrap;\n",
       "  max-width: 300px;\n",
       "  text-overflow: ellipsis;\n",
       "  overflow: hidden;\n",
       "}\n",
       "</style>\n",
       "<table id=\"T_4c1a1\">\n",
       "  <thead>\n",
       "    <tr>\n",
       "      <th class=\"blank level0\" >&nbsp;</th>\n",
       "      <th id=\"T_4c1a1_level0_col0\" class=\"col_heading level0 col0\" >id</th>\n",
       "      <th id=\"T_4c1a1_level0_col1\" class=\"col_heading level0 col1\" >date</th>\n",
       "      <th id=\"T_4c1a1_level0_col2\" class=\"col_heading level0 col2\" >sourceSystemName</th>\n",
       "      <th id=\"T_4c1a1_level0_col3\" class=\"col_heading level0 col3\" >text</th>\n",
       "      <th id=\"T_4c1a1_level0_col4\" class=\"col_heading level0 col4\" >type</th>\n",
       "      <th id=\"T_4c1a1_level0_col5\" class=\"col_heading level0 col5\" >actionTime</th>\n",
       "      <th id=\"T_4c1a1_level0_col6\" class=\"col_heading level0 col6\" >actionCode</th>\n",
       "      <th id=\"T_4c1a1_level0_col7\" class=\"col_heading level0 col7\" >sourceSystemCode</th>\n",
       "      <th id=\"T_4c1a1_level0_col8\" class=\"col_heading level0 col8\" >committeeCode</th>\n",
       "      <th id=\"T_4c1a1_level0_col9\" class=\"col_heading level0 col9\" >committeeName</th>\n",
       "      <th id=\"T_4c1a1_level0_col10\" class=\"col_heading level0 col10\" >calendarNumber</th>\n",
       "      <th id=\"T_4c1a1_level0_col11\" class=\"col_heading level0 col11\" >voteRollNumber</th>\n",
       "      <th id=\"T_4c1a1_level0_col12\" class=\"col_heading level0 col12\" >voteURL</th>\n",
       "      <th id=\"T_4c1a1_level0_col13\" class=\"col_heading level0 col13\" >chamber</th>\n",
       "      <th id=\"T_4c1a1_level0_col14\" class=\"col_heading level0 col14\" >congress</th>\n",
       "      <th id=\"T_4c1a1_level0_col15\" class=\"col_heading level0 col15\" >voteDate</th>\n",
       "      <th id=\"T_4c1a1_level0_col16\" class=\"col_heading level0 col16\" >sessionNumber</th>\n",
       "    </tr>\n",
       "  </thead>\n",
       "  <tbody>\n",
       "    <tr>\n",
       "      <th id=\"T_4c1a1_level0_row0\" class=\"row_heading level0 row0\" >0</th>\n",
       "      <td id=\"T_4c1a1_row0_col0\" class=\"data row0 col0\" >hconres1</td>\n",
       "      <td id=\"T_4c1a1_row0_col1\" class=\"data row0 col1\" >2023-01-23 00:00:00</td>\n",
       "      <td id=\"T_4c1a1_row0_col2\" class=\"data row0 col2\" >Senate</td>\n",
       "      <td id=\"T_4c1a1_row0_col3\" class=\"data row0 col3\" >Received in the Senate.</td>\n",
       "      <td id=\"T_4c1a1_row0_col4\" class=\"data row0 col4\" >IntroReferral</td>\n",
       "      <td id=\"T_4c1a1_row0_col5\" class=\"data row0 col5\" >nan</td>\n",
       "      <td id=\"T_4c1a1_row0_col6\" class=\"data row0 col6\" >nan</td>\n",
       "      <td id=\"T_4c1a1_row0_col7\" class=\"data row0 col7\" >nan</td>\n",
       "      <td id=\"T_4c1a1_row0_col8\" class=\"data row0 col8\" >nan</td>\n",
       "      <td id=\"T_4c1a1_row0_col9\" class=\"data row0 col9\" >nan</td>\n",
       "      <td id=\"T_4c1a1_row0_col10\" class=\"data row0 col10\" >nan</td>\n",
       "      <td id=\"T_4c1a1_row0_col11\" class=\"data row0 col11\" >nan</td>\n",
       "      <td id=\"T_4c1a1_row0_col12\" class=\"data row0 col12\" >nan</td>\n",
       "      <td id=\"T_4c1a1_row0_col13\" class=\"data row0 col13\" >nan</td>\n",
       "      <td id=\"T_4c1a1_row0_col14\" class=\"data row0 col14\" >118</td>\n",
       "      <td id=\"T_4c1a1_row0_col15\" class=\"data row0 col15\" >NaT</td>\n",
       "      <td id=\"T_4c1a1_row0_col16\" class=\"data row0 col16\" >1</td>\n",
       "    </tr>\n",
       "    <tr>\n",
       "      <th id=\"T_4c1a1_level0_row1\" class=\"row_heading level0 row1\" >1</th>\n",
       "      <td id=\"T_4c1a1_row1_col0\" class=\"data row1 col0\" >hconres1</td>\n",
       "      <td id=\"T_4c1a1_row1_col1\" class=\"data row1 col1\" >2023-01-09 00:00:00</td>\n",
       "      <td id=\"T_4c1a1_row1_col2\" class=\"data row1 col2\" >House floor actions</td>\n",
       "      <td id=\"T_4c1a1_row1_col3\" class=\"data row1 col3\" >Motion to reconsider laid on the table Agreed to without objection.</td>\n",
       "      <td id=\"T_4c1a1_row1_col4\" class=\"data row1 col4\" >Floor</td>\n",
       "      <td id=\"T_4c1a1_row1_col5\" class=\"data row1 col5\" >19:11:24</td>\n",
       "      <td id=\"T_4c1a1_row1_col6\" class=\"data row1 col6\" >H38310</td>\n",
       "      <td id=\"T_4c1a1_row1_col7\" class=\"data row1 col7\" >2</td>\n",
       "      <td id=\"T_4c1a1_row1_col8\" class=\"data row1 col8\" >nan</td>\n",
       "      <td id=\"T_4c1a1_row1_col9\" class=\"data row1 col9\" >nan</td>\n",
       "      <td id=\"T_4c1a1_row1_col10\" class=\"data row1 col10\" >nan</td>\n",
       "      <td id=\"T_4c1a1_row1_col11\" class=\"data row1 col11\" >nan</td>\n",
       "      <td id=\"T_4c1a1_row1_col12\" class=\"data row1 col12\" >nan</td>\n",
       "      <td id=\"T_4c1a1_row1_col13\" class=\"data row1 col13\" >nan</td>\n",
       "      <td id=\"T_4c1a1_row1_col14\" class=\"data row1 col14\" >118</td>\n",
       "      <td id=\"T_4c1a1_row1_col15\" class=\"data row1 col15\" >NaT</td>\n",
       "      <td id=\"T_4c1a1_row1_col16\" class=\"data row1 col16\" >1</td>\n",
       "    </tr>\n",
       "    <tr>\n",
       "      <th id=\"T_4c1a1_level0_row2\" class=\"row_heading level0 row2\" >2</th>\n",
       "      <td id=\"T_4c1a1_row2_col0\" class=\"data row2 col0\" >hconres1</td>\n",
       "      <td id=\"T_4c1a1_row2_col1\" class=\"data row2 col1\" >2023-01-09 00:00:00</td>\n",
       "      <td id=\"T_4c1a1_row2_col2\" class=\"data row2 col2\" >House floor actions</td>\n",
       "      <td id=\"T_4c1a1_row2_col3\" class=\"data row2 col3\" >On agreeing to the resolution Agreed to without objection.</td>\n",
       "      <td id=\"T_4c1a1_row2_col4\" class=\"data row2 col4\" >Floor</td>\n",
       "      <td id=\"T_4c1a1_row2_col5\" class=\"data row2 col5\" >19:11:18</td>\n",
       "      <td id=\"T_4c1a1_row2_col6\" class=\"data row2 col6\" >H37100</td>\n",
       "      <td id=\"T_4c1a1_row2_col7\" class=\"data row2 col7\" >2</td>\n",
       "      <td id=\"T_4c1a1_row2_col8\" class=\"data row2 col8\" >nan</td>\n",
       "      <td id=\"T_4c1a1_row2_col9\" class=\"data row2 col9\" >nan</td>\n",
       "      <td id=\"T_4c1a1_row2_col10\" class=\"data row2 col10\" >nan</td>\n",
       "      <td id=\"T_4c1a1_row2_col11\" class=\"data row2 col11\" >nan</td>\n",
       "      <td id=\"T_4c1a1_row2_col12\" class=\"data row2 col12\" >nan</td>\n",
       "      <td id=\"T_4c1a1_row2_col13\" class=\"data row2 col13\" >nan</td>\n",
       "      <td id=\"T_4c1a1_row2_col14\" class=\"data row2 col14\" >118</td>\n",
       "      <td id=\"T_4c1a1_row2_col15\" class=\"data row2 col15\" >NaT</td>\n",
       "      <td id=\"T_4c1a1_row2_col16\" class=\"data row2 col16\" >1</td>\n",
       "    </tr>\n",
       "    <tr>\n",
       "      <th id=\"T_4c1a1_level0_row3\" class=\"row_heading level0 row3\" >3</th>\n",
       "      <td id=\"T_4c1a1_row3_col0\" class=\"data row3 col0\" >hconres1</td>\n",
       "      <td id=\"T_4c1a1_row3_col1\" class=\"data row3 col1\" >2023-01-09 00:00:00</td>\n",
       "      <td id=\"T_4c1a1_row3_col2\" class=\"data row3 col2\" >Library of Congress</td>\n",
       "      <td id=\"T_4c1a1_row3_col3\" class=\"data row3 col3\" >Passed/agreed to in House On agreeing to the resolution Agreed to without objection. (text: CR H73)</td>\n",
       "      <td id=\"T_4c1a1_row3_col4\" class=\"data row3 col4\" >Floor</td>\n",
       "      <td id=\"T_4c1a1_row3_col5\" class=\"data row3 col5\" >19:11:18</td>\n",
       "      <td id=\"T_4c1a1_row3_col6\" class=\"data row3 col6\" >8000</td>\n",
       "      <td id=\"T_4c1a1_row3_col7\" class=\"data row3 col7\" >9</td>\n",
       "      <td id=\"T_4c1a1_row3_col8\" class=\"data row3 col8\" >nan</td>\n",
       "      <td id=\"T_4c1a1_row3_col9\" class=\"data row3 col9\" >nan</td>\n",
       "      <td id=\"T_4c1a1_row3_col10\" class=\"data row3 col10\" >nan</td>\n",
       "      <td id=\"T_4c1a1_row3_col11\" class=\"data row3 col11\" >nan</td>\n",
       "      <td id=\"T_4c1a1_row3_col12\" class=\"data row3 col12\" >nan</td>\n",
       "      <td id=\"T_4c1a1_row3_col13\" class=\"data row3 col13\" >nan</td>\n",
       "      <td id=\"T_4c1a1_row3_col14\" class=\"data row3 col14\" >118</td>\n",
       "      <td id=\"T_4c1a1_row3_col15\" class=\"data row3 col15\" >NaT</td>\n",
       "      <td id=\"T_4c1a1_row3_col16\" class=\"data row3 col16\" >1</td>\n",
       "    </tr>\n",
       "    <tr>\n",
       "      <th id=\"T_4c1a1_level0_row4\" class=\"row_heading level0 row4\" >4</th>\n",
       "      <td id=\"T_4c1a1_row4_col0\" class=\"data row4 col0\" >hconres1</td>\n",
       "      <td id=\"T_4c1a1_row4_col1\" class=\"data row4 col1\" >2023-01-09 00:00:00</td>\n",
       "      <td id=\"T_4c1a1_row4_col2\" class=\"data row4 col2\" >House floor actions</td>\n",
       "      <td id=\"T_4c1a1_row4_col3\" class=\"data row4 col3\" >Considered as privileged matter.</td>\n",
       "      <td id=\"T_4c1a1_row4_col4\" class=\"data row4 col4\" >Floor</td>\n",
       "      <td id=\"T_4c1a1_row4_col5\" class=\"data row4 col5\" >19:10:38</td>\n",
       "      <td id=\"T_4c1a1_row4_col6\" class=\"data row4 col6\" >H30000</td>\n",
       "      <td id=\"T_4c1a1_row4_col7\" class=\"data row4 col7\" >2</td>\n",
       "      <td id=\"T_4c1a1_row4_col8\" class=\"data row4 col8\" >nan</td>\n",
       "      <td id=\"T_4c1a1_row4_col9\" class=\"data row4 col9\" >nan</td>\n",
       "      <td id=\"T_4c1a1_row4_col10\" class=\"data row4 col10\" >nan</td>\n",
       "      <td id=\"T_4c1a1_row4_col11\" class=\"data row4 col11\" >nan</td>\n",
       "      <td id=\"T_4c1a1_row4_col12\" class=\"data row4 col12\" >nan</td>\n",
       "      <td id=\"T_4c1a1_row4_col13\" class=\"data row4 col13\" >nan</td>\n",
       "      <td id=\"T_4c1a1_row4_col14\" class=\"data row4 col14\" >118</td>\n",
       "      <td id=\"T_4c1a1_row4_col15\" class=\"data row4 col15\" >NaT</td>\n",
       "      <td id=\"T_4c1a1_row4_col16\" class=\"data row4 col16\" >1</td>\n",
       "    </tr>\n",
       "  </tbody>\n",
       "</table>\n"
      ],
      "text/plain": [
       "<pandas.io.formats.style.Styler at 0x2064c4661e0>"
      ]
     },
     "execution_count": 113,
     "metadata": {},
     "output_type": "execute_result"
    }
   ],
   "source": [
    "# Final review of actions_df\n",
    "actions_df.head().style.set_table_styles(def_style)"
   ]
  },
  {
   "cell_type": "markdown",
   "metadata": {},
   "source": [
    "***\n",
    "## Sponsors\n",
    "***"
   ]
  },
  {
   "cell_type": "code",
   "execution_count": 114,
   "metadata": {},
   "outputs": [
    {
     "data": {
      "text/html": [
       "<style type=\"text/css\">\n",
       "#T_1d204 td {\n",
       "  white-space: nowrap;\n",
       "  max-width: 300px;\n",
       "  text-overflow: ellipsis;\n",
       "  overflow: hidden;\n",
       "}\n",
       "</style>\n",
       "<table id=\"T_1d204\">\n",
       "  <thead>\n",
       "    <tr>\n",
       "      <th class=\"blank level0\" >&nbsp;</th>\n",
       "      <th id=\"T_1d204_level0_col0\" class=\"col_heading level0 col0\" >id</th>\n",
       "      <th id=\"T_1d204_level0_col1\" class=\"col_heading level0 col1\" >itembioguideId</th>\n",
       "      <th id=\"T_1d204_level0_col2\" class=\"col_heading level0 col2\" >itemfullName</th>\n",
       "      <th id=\"T_1d204_level0_col3\" class=\"col_heading level0 col3\" >itemfirstName</th>\n",
       "      <th id=\"T_1d204_level0_col4\" class=\"col_heading level0 col4\" >itemlastName</th>\n",
       "      <th id=\"T_1d204_level0_col5\" class=\"col_heading level0 col5\" >itemparty</th>\n",
       "      <th id=\"T_1d204_level0_col6\" class=\"col_heading level0 col6\" >itemstate</th>\n",
       "      <th id=\"T_1d204_level0_col7\" class=\"col_heading level0 col7\" >itemdistrict</th>\n",
       "      <th id=\"T_1d204_level0_col8\" class=\"col_heading level0 col8\" >itemisByRequest</th>\n",
       "      <th id=\"T_1d204_level0_col9\" class=\"col_heading level0 col9\" >itemmiddleName</th>\n",
       "    </tr>\n",
       "  </thead>\n",
       "  <tbody>\n",
       "    <tr>\n",
       "      <th id=\"T_1d204_level0_row0\" class=\"row_heading level0 row0\" >0</th>\n",
       "      <td id=\"T_1d204_row0_col0\" class=\"data row0 col0\" >hconres1</td>\n",
       "      <td id=\"T_1d204_row0_col1\" class=\"data row0 col1\" >C001053</td>\n",
       "      <td id=\"T_1d204_row0_col2\" class=\"data row0 col2\" >Rep. Cole, Tom [R-OK-4]</td>\n",
       "      <td id=\"T_1d204_row0_col3\" class=\"data row0 col3\" >Tom</td>\n",
       "      <td id=\"T_1d204_row0_col4\" class=\"data row0 col4\" >Cole</td>\n",
       "      <td id=\"T_1d204_row0_col5\" class=\"data row0 col5\" >R</td>\n",
       "      <td id=\"T_1d204_row0_col6\" class=\"data row0 col6\" >OK</td>\n",
       "      <td id=\"T_1d204_row0_col7\" class=\"data row0 col7\" >4</td>\n",
       "      <td id=\"T_1d204_row0_col8\" class=\"data row0 col8\" >N</td>\n",
       "      <td id=\"T_1d204_row0_col9\" class=\"data row0 col9\" >nan</td>\n",
       "    </tr>\n",
       "    <tr>\n",
       "      <th id=\"T_1d204_level0_row1\" class=\"row_heading level0 row1\" >1</th>\n",
       "      <td id=\"T_1d204_row1_col0\" class=\"data row1 col0\" >hconres10</td>\n",
       "      <td id=\"T_1d204_row1_col1\" class=\"data row1 col1\" >T000165</td>\n",
       "      <td id=\"T_1d204_row1_col2\" class=\"data row1 col2\" >Rep. Tiffany, Thomas P. [R-WI-7]</td>\n",
       "      <td id=\"T_1d204_row1_col3\" class=\"data row1 col3\" >Thomas</td>\n",
       "      <td id=\"T_1d204_row1_col4\" class=\"data row1 col4\" >Tiffany</td>\n",
       "      <td id=\"T_1d204_row1_col5\" class=\"data row1 col5\" >R</td>\n",
       "      <td id=\"T_1d204_row1_col6\" class=\"data row1 col6\" >WI</td>\n",
       "      <td id=\"T_1d204_row1_col7\" class=\"data row1 col7\" >7</td>\n",
       "      <td id=\"T_1d204_row1_col8\" class=\"data row1 col8\" >N</td>\n",
       "      <td id=\"T_1d204_row1_col9\" class=\"data row1 col9\" >P.</td>\n",
       "    </tr>\n",
       "    <tr>\n",
       "      <th id=\"T_1d204_level0_row2\" class=\"row_heading level0 row2\" >2</th>\n",
       "      <td id=\"T_1d204_row2_col0\" class=\"data row2 col0\" >hconres100</td>\n",
       "      <td id=\"T_1d204_row2_col1\" class=\"data row2 col1\" >D000600</td>\n",
       "      <td id=\"T_1d204_row2_col2\" class=\"data row2 col2\" >Rep. Diaz-Balart, Mario [R-FL-26]</td>\n",
       "      <td id=\"T_1d204_row2_col3\" class=\"data row2 col3\" >Mario</td>\n",
       "      <td id=\"T_1d204_row2_col4\" class=\"data row2 col4\" >Diaz-Balart</td>\n",
       "      <td id=\"T_1d204_row2_col5\" class=\"data row2 col5\" >R</td>\n",
       "      <td id=\"T_1d204_row2_col6\" class=\"data row2 col6\" >FL</td>\n",
       "      <td id=\"T_1d204_row2_col7\" class=\"data row2 col7\" >26</td>\n",
       "      <td id=\"T_1d204_row2_col8\" class=\"data row2 col8\" >N</td>\n",
       "      <td id=\"T_1d204_row2_col9\" class=\"data row2 col9\" >nan</td>\n",
       "    </tr>\n",
       "    <tr>\n",
       "      <th id=\"T_1d204_level0_row3\" class=\"row_heading level0 row3\" >3</th>\n",
       "      <td id=\"T_1d204_row3_col0\" class=\"data row3 col0\" >hconres101</td>\n",
       "      <td id=\"T_1d204_row3_col1\" class=\"data row3 col1\" >H001081</td>\n",
       "      <td id=\"T_1d204_row3_col2\" class=\"data row3 col2\" >Rep. Hayes, Jahana [D-CT-5]</td>\n",
       "      <td id=\"T_1d204_row3_col3\" class=\"data row3 col3\" >Jahana</td>\n",
       "      <td id=\"T_1d204_row3_col4\" class=\"data row3 col4\" >Hayes</td>\n",
       "      <td id=\"T_1d204_row3_col5\" class=\"data row3 col5\" >D</td>\n",
       "      <td id=\"T_1d204_row3_col6\" class=\"data row3 col6\" >CT</td>\n",
       "      <td id=\"T_1d204_row3_col7\" class=\"data row3 col7\" >5</td>\n",
       "      <td id=\"T_1d204_row3_col8\" class=\"data row3 col8\" >N</td>\n",
       "      <td id=\"T_1d204_row3_col9\" class=\"data row3 col9\" >nan</td>\n",
       "    </tr>\n",
       "    <tr>\n",
       "      <th id=\"T_1d204_level0_row4\" class=\"row_heading level0 row4\" >4</th>\n",
       "      <td id=\"T_1d204_row4_col0\" class=\"data row4 col0\" >hconres102</td>\n",
       "      <td id=\"T_1d204_row4_col1\" class=\"data row4 col1\" >J000305</td>\n",
       "      <td id=\"T_1d204_row4_col2\" class=\"data row4 col2\" >Rep. Jacobs, Sara [D-CA-51]</td>\n",
       "      <td id=\"T_1d204_row4_col3\" class=\"data row4 col3\" >Sara</td>\n",
       "      <td id=\"T_1d204_row4_col4\" class=\"data row4 col4\" >Jacobs</td>\n",
       "      <td id=\"T_1d204_row4_col5\" class=\"data row4 col5\" >D</td>\n",
       "      <td id=\"T_1d204_row4_col6\" class=\"data row4 col6\" >CA</td>\n",
       "      <td id=\"T_1d204_row4_col7\" class=\"data row4 col7\" >51</td>\n",
       "      <td id=\"T_1d204_row4_col8\" class=\"data row4 col8\" >N</td>\n",
       "      <td id=\"T_1d204_row4_col9\" class=\"data row4 col9\" >nan</td>\n",
       "    </tr>\n",
       "  </tbody>\n",
       "</table>\n"
      ],
      "text/plain": [
       "<pandas.io.formats.style.Styler at 0x2064c52c9e0>"
      ]
     },
     "execution_count": 114,
     "metadata": {},
     "output_type": "execute_result"
    }
   ],
   "source": [
    "# Review sponsors_df\n",
    "sponsors_df.head().style.set_table_styles(def_style)"
   ]
  },
  {
   "cell_type": "code",
   "execution_count": 115,
   "metadata": {},
   "outputs": [
    {
     "data": {
      "text/plain": [
       "(14997, 10)"
      ]
     },
     "execution_count": 115,
     "metadata": {},
     "output_type": "execute_result"
    }
   ],
   "source": [
    "# Review shape of dataframe\n",
    "sponsors_df.shape"
   ]
  },
  {
   "cell_type": "code",
   "execution_count": 116,
   "metadata": {},
   "outputs": [],
   "source": [
    "# Delete duplicates and nan columns\n",
    "sponsors_df.drop_duplicates(inplace=True)\n",
    "sponsors_df.dropna(axis=1, how='all', inplace=True)"
   ]
  },
  {
   "cell_type": "code",
   "execution_count": 117,
   "metadata": {},
   "outputs": [
    {
     "data": {
      "text/plain": [
       "Index(['id', 'itembioguideId', 'itemfullName', 'itemfirstName', 'itemlastName',\n",
       "       'itemparty', 'itemstate', 'itemdistrict', 'itemisByRequest',\n",
       "       'itemmiddleName'],\n",
       "      dtype='object')"
      ]
     },
     "execution_count": 117,
     "metadata": {},
     "output_type": "execute_result"
    }
   ],
   "source": [
    "# Review column names\n",
    "sponsors_df.columns"
   ]
  },
  {
   "cell_type": "code",
   "execution_count": 118,
   "metadata": {},
   "outputs": [],
   "source": [
    "# Cleanup column names for clarity\n",
    "sponsors_df.columns = ['id', 'bioguideId', 'fullName', 'firstName', 'lastName', 'party', 'state', \n",
    "                       'district', 'byRequest', 'middleName']"
   ]
  },
  {
   "cell_type": "code",
   "execution_count": 119,
   "metadata": {},
   "outputs": [
    {
     "data": {
      "text/plain": [
       "id                0\n",
       "bioguideId        0\n",
       "fullName          0\n",
       "firstName         0\n",
       "lastName          0\n",
       "party             0\n",
       "state             0\n",
       "district       5475\n",
       "byRequest         0\n",
       "middleName    10986\n",
       "dtype: int64"
      ]
     },
     "execution_count": 119,
     "metadata": {},
     "output_type": "execute_result"
    }
   ],
   "source": [
    "# Review columns with NaN content\n",
    "sponsors_df.isna().sum()"
   ]
  },
  {
   "cell_type": "code",
   "execution_count": 120,
   "metadata": {},
   "outputs": [
    {
     "data": {
      "text/plain": [
       "id            object\n",
       "bioguideId    object\n",
       "fullName      object\n",
       "firstName     object\n",
       "lastName      object\n",
       "party         object\n",
       "state         object\n",
       "district      object\n",
       "byRequest     object\n",
       "middleName    object\n",
       "dtype: object"
      ]
     },
     "execution_count": 120,
     "metadata": {},
     "output_type": "execute_result"
    }
   ],
   "source": [
    "# Review data types\n",
    "sponsors_df.dtypes"
   ]
  },
  {
   "cell_type": "code",
   "execution_count": 121,
   "metadata": {},
   "outputs": [
    {
     "data": {
      "text/plain": [
       "array(['hconres1', 'hconres10', 'hconres100', ..., 'sres97', 'sres98',\n",
       "       'sres99'], dtype=object)"
      ]
     },
     "execution_count": 121,
     "metadata": {},
     "output_type": "execute_result"
    }
   ],
   "source": [
    "# Review id data\n",
    "sponsors_df['id'].unique()"
   ]
  },
  {
   "cell_type": "code",
   "execution_count": 122,
   "metadata": {},
   "outputs": [
    {
     "data": {
      "text/plain": [
       "array(['C001053', 'T000165', 'D000600', 'H001081', 'J000305', 'B000490',\n",
       "       'C001055', 'E000235', 'P000619', 'S001176', 'C001039', 'W000809',\n",
       "       'L000589', 'P000605', 'D000623', 'G000558', 'M001156', 'W000788',\n",
       "       'B001297', 'G000578'], dtype=object)"
      ]
     },
     "execution_count": 122,
     "metadata": {},
     "output_type": "execute_result"
    }
   ],
   "source": [
    "# Review bioguideId data\n",
    "sponsors_df['bioguideId'].unique()[:20]"
   ]
  },
  {
   "cell_type": "code",
   "execution_count": 123,
   "metadata": {},
   "outputs": [
    {
     "data": {
      "text/plain": [
       "array(['Rep. Cole, Tom [R-OK-4]', 'Rep. Tiffany, Thomas P. [R-WI-7]',\n",
       "       'Rep. Diaz-Balart, Mario [R-FL-26]', 'Rep. Hayes, Jahana [D-CT-5]',\n",
       "       'Rep. Jacobs, Sara [D-CA-51]', 'Rep. Bishop, Sanford D. [D-GA-2]',\n",
       "       'Rep. Case, Ed [D-HI-1]', 'Rep. Ezell, Mike [R-MS-4]',\n",
       "       'Rep. Peltola, Mary Sattler [D-AK-At Large]',\n",
       "       'Rep. Scalise, Steve [R-LA-1]', 'Rep. Cammack, Kat [R-FL-3]',\n",
       "       'Rep. Womack, Steve [R-AR-3]', 'Rep. Lesko, Debbie [R-AZ-8]',\n",
       "       'Rep. Perry, Scott [R-PA-10]', 'Rep. DeSaulnier, Mark [D-CA-10]'],\n",
       "      dtype=object)"
      ]
     },
     "execution_count": 123,
     "metadata": {},
     "output_type": "execute_result"
    }
   ],
   "source": [
    "# Review fullName data\n",
    "sponsors_df['fullName'].unique()[:15]"
   ]
  },
  {
   "cell_type": "code",
   "execution_count": 124,
   "metadata": {},
   "outputs": [
    {
     "data": {
      "text/plain": [
       "array(['Tom', 'Thomas', 'Mario', 'Jahana', 'Sara', 'Sanford', 'Ed',\n",
       "       'Mike', 'Mary', 'Steve', 'Kat', 'Debbie', 'Scott', 'Mark', 'Brett',\n",
       "       'Patrick', 'Nikema', 'Ken', 'Matt', 'Lois'], dtype=object)"
      ]
     },
     "execution_count": 124,
     "metadata": {},
     "output_type": "execute_result"
    }
   ],
   "source": [
    "# Review firstName data\n",
    "sponsors_df['firstName'].unique()[:20]"
   ]
  },
  {
   "cell_type": "code",
   "execution_count": 125,
   "metadata": {},
   "outputs": [
    {
     "data": {
      "text/plain": [
       "array(['Cole', 'Tiffany', 'Diaz-Balart', 'Hayes', 'Jacobs', 'Bishop',\n",
       "       'Case', 'Ezell', 'Peltola', 'Scalise', 'Cammack', 'Womack',\n",
       "       'Lesko', 'Perry', 'DeSaulnier', 'Guthrie', 'McHenry', 'Williams',\n",
       "       'Buck', 'Gaetz'], dtype=object)"
      ]
     },
     "execution_count": 125,
     "metadata": {},
     "output_type": "execute_result"
    }
   ],
   "source": [
    "# Reivew lastName data\n",
    "sponsors_df['lastName'].unique()[:20]"
   ]
  },
  {
   "cell_type": "code",
   "execution_count": 126,
   "metadata": {},
   "outputs": [
    {
     "data": {
      "text/plain": [
       "array(['R', 'D', 'I'], dtype=object)"
      ]
     },
     "execution_count": 126,
     "metadata": {},
     "output_type": "execute_result"
    }
   ],
   "source": [
    "# Review party data\n",
    "sponsors_df['party'].unique()"
   ]
  },
  {
   "cell_type": "code",
   "execution_count": 127,
   "metadata": {},
   "outputs": [
    {
     "data": {
      "text/plain": [
       "array(['OK', 'WI', 'FL', 'CT', 'CA', 'GA', 'HI', 'MS', 'AK', 'LA', 'AR',\n",
       "       'AZ', 'PA', 'KY', 'NC', 'CO', 'MA', 'TX', 'TN', 'IL', 'NE', 'NJ',\n",
       "       'MN', 'OR', 'NY', 'MO', 'MD', 'NM', 'WA', 'VA', 'IA', 'WV', 'IN',\n",
       "       'OH', 'KS', 'NH', 'MT', 'SC', 'MI', 'ID', 'ND', 'RI', 'AL', 'SD',\n",
       "       'DC', 'VI', 'NV', 'VT', 'DE', 'PR', 'UT', 'GU', 'WY', 'ME', 'MP',\n",
       "       'AS'], dtype=object)"
      ]
     },
     "execution_count": 127,
     "metadata": {},
     "output_type": "execute_result"
    }
   ],
   "source": [
    "# Review state data\n",
    "sponsors_df['state'].unique()"
   ]
  },
  {
   "cell_type": "code",
   "execution_count": 128,
   "metadata": {},
   "outputs": [
    {
     "data": {
      "text/plain": [
       "array(['4', '7', '26', '5', '51', '2', '1', nan, '3', '8', '10', '22',\n",
       "       '19', '9', '16', '32', '12', '6', '11', '23', '17', '15', '24',\n",
       "       '35', '27', '13', '38', '30', '18', '25', '14', '46', '33', '44',\n",
       "       '36', '21', '40', '45', '43', '52', '28', '31', '49', '47', '39',\n",
       "       '29', '41', '50', '48', '20', '37', '34', '42'], dtype=object)"
      ]
     },
     "execution_count": 128,
     "metadata": {},
     "output_type": "execute_result"
    }
   ],
   "source": [
    "# Review district data\n",
    "sponsors_df['district'].unique()"
   ]
  },
  {
   "cell_type": "code",
   "execution_count": 129,
   "metadata": {},
   "outputs": [
    {
     "data": {
      "text/plain": [
       "array(['N'], dtype=object)"
      ]
     },
     "execution_count": 129,
     "metadata": {},
     "output_type": "execute_result"
    }
   ],
   "source": [
    "# Review byRequest data\n",
    "sponsors_df['byRequest'].unique()"
   ]
  },
  {
   "cell_type": "code",
   "execution_count": 130,
   "metadata": {},
   "outputs": [
    {
     "data": {
      "text/plain": [
       "array([nan, 'P.', 'D.', 'Sattler', 'C.', 'R.', 'M.', 'N.', 'Z.', 'H.',\n",
       "       'Ann', 'Morgan', 'S.', 'A. \"Rick\"', 'J.', 'X.', 'K.', 'Elvira',\n",
       "       'T.', 'W.', 'French', 'B.', 'Scott', 'E.', 'C. \"Hank\"', 'A.', 'L.',\n",
       "       'Taylor', 'Luis', 'Drew', 'HOLMES', 'McMorris', 'Diaz',\n",
       "       'L. \"Buddy\"', 'O.', 'G.', 'Davis', 'F.', 'I.', 'C. \"Bobby\"',\n",
       "       'Gregory', 'Kilili Camacho', 'Coleman', 'Dutch', 'Gluesenkamp',\n",
       "       'J. \"Chuck\"', 'Gay', 'Strong', 'Holmes', 'G. \"Chuy\"', 'Moore',\n",
       "       'Roland'], dtype=object)"
      ]
     },
     "execution_count": 130,
     "metadata": {},
     "output_type": "execute_result"
    }
   ],
   "source": [
    "# Review middleName data\n",
    "sponsors_df['middleName'].unique()"
   ]
  },
  {
   "cell_type": "markdown",
   "metadata": {},
   "source": [
    "***\n",
    "## Cosponsors\n",
    "***"
   ]
  },
  {
   "cell_type": "code",
   "execution_count": 131,
   "metadata": {},
   "outputs": [
    {
     "data": {
      "text/html": [
       "<style type=\"text/css\">\n",
       "#T_04e0a td {\n",
       "  white-space: nowrap;\n",
       "  max-width: 300px;\n",
       "  text-overflow: ellipsis;\n",
       "  overflow: hidden;\n",
       "}\n",
       "</style>\n",
       "<table id=\"T_04e0a\">\n",
       "  <thead>\n",
       "    <tr>\n",
       "      <th class=\"blank level0\" >&nbsp;</th>\n",
       "      <th id=\"T_04e0a_level0_col0\" class=\"col_heading level0 col0\" >id</th>\n",
       "      <th id=\"T_04e0a_level0_col1\" class=\"col_heading level0 col1\" >itembioguideId</th>\n",
       "      <th id=\"T_04e0a_level0_col2\" class=\"col_heading level0 col2\" >itemfullName</th>\n",
       "      <th id=\"T_04e0a_level0_col3\" class=\"col_heading level0 col3\" >itemfirstName</th>\n",
       "      <th id=\"T_04e0a_level0_col4\" class=\"col_heading level0 col4\" >itemlastName</th>\n",
       "      <th id=\"T_04e0a_level0_col5\" class=\"col_heading level0 col5\" >itemparty</th>\n",
       "      <th id=\"T_04e0a_level0_col6\" class=\"col_heading level0 col6\" >itemstate</th>\n",
       "      <th id=\"T_04e0a_level0_col7\" class=\"col_heading level0 col7\" >itemdistrict</th>\n",
       "      <th id=\"T_04e0a_level0_col8\" class=\"col_heading level0 col8\" >itemsponsorshipDate</th>\n",
       "      <th id=\"T_04e0a_level0_col9\" class=\"col_heading level0 col9\" >itemisOriginalCosponsor</th>\n",
       "      <th id=\"T_04e0a_level0_col10\" class=\"col_heading level0 col10\" >itemmiddleName</th>\n",
       "      <th id=\"T_04e0a_level0_col11\" class=\"col_heading level0 col11\" >itemsponsorshipWithdrawnDate</th>\n",
       "    </tr>\n",
       "  </thead>\n",
       "  <tbody>\n",
       "    <tr>\n",
       "      <th id=\"T_04e0a_level0_row0\" class=\"row_heading level0 row0\" >0</th>\n",
       "      <td id=\"T_04e0a_row0_col0\" class=\"data row0 col0\" >hconres10</td>\n",
       "      <td id=\"T_04e0a_row0_col1\" class=\"data row0 col1\" >P000605</td>\n",
       "      <td id=\"T_04e0a_row0_col2\" class=\"data row0 col2\" >Rep. Perry, Scott [R-PA-10]</td>\n",
       "      <td id=\"T_04e0a_row0_col3\" class=\"data row0 col3\" >Scott</td>\n",
       "      <td id=\"T_04e0a_row0_col4\" class=\"data row0 col4\" >Perry</td>\n",
       "      <td id=\"T_04e0a_row0_col5\" class=\"data row0 col5\" >R</td>\n",
       "      <td id=\"T_04e0a_row0_col6\" class=\"data row0 col6\" >PA</td>\n",
       "      <td id=\"T_04e0a_row0_col7\" class=\"data row0 col7\" >10</td>\n",
       "      <td id=\"T_04e0a_row0_col8\" class=\"data row0 col8\" >2023-01-25</td>\n",
       "      <td id=\"T_04e0a_row0_col9\" class=\"data row0 col9\" >True</td>\n",
       "      <td id=\"T_04e0a_row0_col10\" class=\"data row0 col10\" >nan</td>\n",
       "      <td id=\"T_04e0a_row0_col11\" class=\"data row0 col11\" >nan</td>\n",
       "    </tr>\n",
       "    <tr>\n",
       "      <th id=\"T_04e0a_level0_row1\" class=\"row_heading level0 row1\" >1</th>\n",
       "      <td id=\"T_04e0a_row1_col0\" class=\"data row1 col0\" >hconres10</td>\n",
       "      <td id=\"T_04e0a_row1_col1\" class=\"data row1 col1\" >D000032</td>\n",
       "      <td id=\"T_04e0a_row1_col2\" class=\"data row1 col2\" >Rep. Donalds, Byron [R-FL-19]</td>\n",
       "      <td id=\"T_04e0a_row1_col3\" class=\"data row1 col3\" >Byron</td>\n",
       "      <td id=\"T_04e0a_row1_col4\" class=\"data row1 col4\" >Donalds</td>\n",
       "      <td id=\"T_04e0a_row1_col5\" class=\"data row1 col5\" >R</td>\n",
       "      <td id=\"T_04e0a_row1_col6\" class=\"data row1 col6\" >FL</td>\n",
       "      <td id=\"T_04e0a_row1_col7\" class=\"data row1 col7\" >19</td>\n",
       "      <td id=\"T_04e0a_row1_col8\" class=\"data row1 col8\" >2023-01-25</td>\n",
       "      <td id=\"T_04e0a_row1_col9\" class=\"data row1 col9\" >True</td>\n",
       "      <td id=\"T_04e0a_row1_col10\" class=\"data row1 col10\" >nan</td>\n",
       "      <td id=\"T_04e0a_row1_col11\" class=\"data row1 col11\" >nan</td>\n",
       "    </tr>\n",
       "    <tr>\n",
       "      <th id=\"T_04e0a_level0_row2\" class=\"row_heading level0 row2\" >2</th>\n",
       "      <td id=\"T_04e0a_row2_col0\" class=\"data row2 col0\" >hconres10</td>\n",
       "      <td id=\"T_04e0a_row2_col1\" class=\"data row2 col1\" >S001135</td>\n",
       "      <td id=\"T_04e0a_row2_col2\" class=\"data row2 col2\" >Rep. Steel, Michelle [R-CA-45]</td>\n",
       "      <td id=\"T_04e0a_row2_col3\" class=\"data row2 col3\" >Michelle</td>\n",
       "      <td id=\"T_04e0a_row2_col4\" class=\"data row2 col4\" >Steel</td>\n",
       "      <td id=\"T_04e0a_row2_col5\" class=\"data row2 col5\" >R</td>\n",
       "      <td id=\"T_04e0a_row2_col6\" class=\"data row2 col6\" >CA</td>\n",
       "      <td id=\"T_04e0a_row2_col7\" class=\"data row2 col7\" >45</td>\n",
       "      <td id=\"T_04e0a_row2_col8\" class=\"data row2 col8\" >2023-01-25</td>\n",
       "      <td id=\"T_04e0a_row2_col9\" class=\"data row2 col9\" >True</td>\n",
       "      <td id=\"T_04e0a_row2_col10\" class=\"data row2 col10\" >nan</td>\n",
       "      <td id=\"T_04e0a_row2_col11\" class=\"data row2 col11\" >nan</td>\n",
       "    </tr>\n",
       "    <tr>\n",
       "      <th id=\"T_04e0a_level0_row3\" class=\"row_heading level0 row3\" >3</th>\n",
       "      <td id=\"T_04e0a_row3_col0\" class=\"data row3 col0\" >hconres10</td>\n",
       "      <td id=\"T_04e0a_row3_col1\" class=\"data row3 col1\" >N000190</td>\n",
       "      <td id=\"T_04e0a_row3_col2\" class=\"data row3 col2\" >Rep. Norman, Ralph [R-SC-5]</td>\n",
       "      <td id=\"T_04e0a_row3_col3\" class=\"data row3 col3\" >Ralph</td>\n",
       "      <td id=\"T_04e0a_row3_col4\" class=\"data row3 col4\" >Norman</td>\n",
       "      <td id=\"T_04e0a_row3_col5\" class=\"data row3 col5\" >R</td>\n",
       "      <td id=\"T_04e0a_row3_col6\" class=\"data row3 col6\" >SC</td>\n",
       "      <td id=\"T_04e0a_row3_col7\" class=\"data row3 col7\" >5</td>\n",
       "      <td id=\"T_04e0a_row3_col8\" class=\"data row3 col8\" >2023-01-25</td>\n",
       "      <td id=\"T_04e0a_row3_col9\" class=\"data row3 col9\" >True</td>\n",
       "      <td id=\"T_04e0a_row3_col10\" class=\"data row3 col10\" >nan</td>\n",
       "      <td id=\"T_04e0a_row3_col11\" class=\"data row3 col11\" >nan</td>\n",
       "    </tr>\n",
       "    <tr>\n",
       "      <th id=\"T_04e0a_level0_row4\" class=\"row_heading level0 row4\" >4</th>\n",
       "      <td id=\"T_04e0a_row4_col0\" class=\"data row4 col0\" >hconres10</td>\n",
       "      <td id=\"T_04e0a_row4_col1\" class=\"data row4 col1\" >O000175</td>\n",
       "      <td id=\"T_04e0a_row4_col2\" class=\"data row4 col2\" >Rep. Ogles, Andrew [R-TN-5]</td>\n",
       "      <td id=\"T_04e0a_row4_col3\" class=\"data row4 col3\" >Andrew</td>\n",
       "      <td id=\"T_04e0a_row4_col4\" class=\"data row4 col4\" >Ogles</td>\n",
       "      <td id=\"T_04e0a_row4_col5\" class=\"data row4 col5\" >R</td>\n",
       "      <td id=\"T_04e0a_row4_col6\" class=\"data row4 col6\" >TN</td>\n",
       "      <td id=\"T_04e0a_row4_col7\" class=\"data row4 col7\" >5</td>\n",
       "      <td id=\"T_04e0a_row4_col8\" class=\"data row4 col8\" >2023-01-25</td>\n",
       "      <td id=\"T_04e0a_row4_col9\" class=\"data row4 col9\" >True</td>\n",
       "      <td id=\"T_04e0a_row4_col10\" class=\"data row4 col10\" >nan</td>\n",
       "      <td id=\"T_04e0a_row4_col11\" class=\"data row4 col11\" >nan</td>\n",
       "    </tr>\n",
       "  </tbody>\n",
       "</table>\n"
      ],
      "text/plain": [
       "<pandas.io.formats.style.Styler at 0x2064c2848f0>"
      ]
     },
     "execution_count": 131,
     "metadata": {},
     "output_type": "execute_result"
    }
   ],
   "source": [
    "# Review cosponsors_df\n",
    "cosponsors_df.head().style.set_table_styles(def_style)"
   ]
  },
  {
   "cell_type": "code",
   "execution_count": 132,
   "metadata": {},
   "outputs": [
    {
     "data": {
      "text/plain": [
       "(166057, 12)"
      ]
     },
     "execution_count": 132,
     "metadata": {},
     "output_type": "execute_result"
    }
   ],
   "source": [
    "# Review shape of dataframe\n",
    "cosponsors_df.shape"
   ]
  },
  {
   "cell_type": "code",
   "execution_count": 133,
   "metadata": {},
   "outputs": [],
   "source": [
    "# Delete duplicates and nan columns\n",
    "cosponsors_df.drop_duplicates(inplace=True)\n",
    "cosponsors_df.dropna(axis=1, how='all', inplace=True)"
   ]
  },
  {
   "cell_type": "code",
   "execution_count": 134,
   "metadata": {},
   "outputs": [
    {
     "data": {
      "text/plain": [
       "Index(['id', 'itembioguideId', 'itemfullName', 'itemfirstName', 'itemlastName',\n",
       "       'itemparty', 'itemstate', 'itemdistrict', 'itemsponsorshipDate',\n",
       "       'itemisOriginalCosponsor', 'itemmiddleName',\n",
       "       'itemsponsorshipWithdrawnDate'],\n",
       "      dtype='object')"
      ]
     },
     "execution_count": 134,
     "metadata": {},
     "output_type": "execute_result"
    }
   ],
   "source": [
    "# Review column names\n",
    "cosponsors_df.columns"
   ]
  },
  {
   "cell_type": "code",
   "execution_count": 135,
   "metadata": {},
   "outputs": [],
   "source": [
    "# Cleanup column names for clarity\n",
    "cosponsors_df.columns = ['id', 'bioguideId', 'fullName', 'firstName', 'lastName', 'party', 'state', \n",
    "                       'district', 'sponsorshipDate', 'isOriginalCosponsor', 'middleName', 'sponsorshipWithdrawnDate']"
   ]
  },
  {
   "cell_type": "code",
   "execution_count": 136,
   "metadata": {},
   "outputs": [
    {
     "data": {
      "text/plain": [
       "id                               0\n",
       "bioguideId                       0\n",
       "fullName                         0\n",
       "firstName                        0\n",
       "lastName                         0\n",
       "party                            0\n",
       "state                            0\n",
       "district                     31588\n",
       "sponsorshipDate                  0\n",
       "isOriginalCosponsor              0\n",
       "middleName                  112259\n",
       "sponsorshipWithdrawnDate    165489\n",
       "dtype: int64"
      ]
     },
     "execution_count": 136,
     "metadata": {},
     "output_type": "execute_result"
    }
   ],
   "source": [
    "# Review columns with NaN content\n",
    "cosponsors_df.isna().sum()"
   ]
  },
  {
   "cell_type": "code",
   "execution_count": 137,
   "metadata": {},
   "outputs": [
    {
     "data": {
      "text/plain": [
       "id                          object\n",
       "bioguideId                  object\n",
       "fullName                    object\n",
       "firstName                   object\n",
       "lastName                    object\n",
       "party                       object\n",
       "state                       object\n",
       "district                    object\n",
       "sponsorshipDate             object\n",
       "isOriginalCosponsor         object\n",
       "middleName                  object\n",
       "sponsorshipWithdrawnDate    object\n",
       "dtype: object"
      ]
     },
     "execution_count": 137,
     "metadata": {},
     "output_type": "execute_result"
    }
   ],
   "source": [
    "# Review data types\n",
    "cosponsors_df.dtypes"
   ]
  },
  {
   "cell_type": "code",
   "execution_count": 138,
   "metadata": {},
   "outputs": [],
   "source": [
    "# Covert datatypes\n",
    "cosponsors_df['sponsorshipDate'] = pd.to_datetime(cosponsors_df['sponsorshipDate'])\n",
    "cosponsors_df['sponsorshipWithdrawnDate'] = pd.to_datetime(cosponsors_df['sponsorshipWithdrawnDate'])"
   ]
  },
  {
   "cell_type": "code",
   "execution_count": 139,
   "metadata": {},
   "outputs": [
    {
     "data": {
      "text/plain": [
       "array(['hconres10', 'hconres101', 'hconres102', ..., 'sres97', 'sres98',\n",
       "       'sres99'], dtype=object)"
      ]
     },
     "execution_count": 139,
     "metadata": {},
     "output_type": "execute_result"
    }
   ],
   "source": [
    "# Review id data\n",
    "cosponsors_df['id'].unique()"
   ]
  },
  {
   "cell_type": "code",
   "execution_count": 140,
   "metadata": {},
   "outputs": [
    {
     "data": {
      "text/plain": [
       "array(['P000605', 'D000032', 'S001135', 'N000190', 'O000175', 'L000578',\n",
       "       'O000086', 'G000595', 'W000814', 'L000266', 'M000317', 'D000616',\n",
       "       'G000589', 'C001103', 'M000194', 'M001136', 'C001120', 'M001177',\n",
       "       'M001159', 'M001212'], dtype=object)"
      ]
     },
     "execution_count": 140,
     "metadata": {},
     "output_type": "execute_result"
    }
   ],
   "source": [
    "# Review bioguideId data\n",
    "cosponsors_df['bioguideId'].unique()[:20]"
   ]
  },
  {
   "cell_type": "code",
   "execution_count": 141,
   "metadata": {},
   "outputs": [
    {
     "data": {
      "text/plain": [
       "array(['Rep. Perry, Scott [R-PA-10]', 'Rep. Donalds, Byron [R-FL-19]',\n",
       "       'Rep. Steel, Michelle [R-CA-45]', 'Rep. Norman, Ralph [R-SC-5]',\n",
       "       'Rep. Ogles, Andrew [R-TN-5]', 'Rep. LaMalfa, Doug [R-CA-1]',\n",
       "       'Rep. Owens, Burgess [R-UT-4]', 'Rep. Good, Bob [R-VA-5]',\n",
       "       'Rep. Weber, Randy K., Sr. [R-TX-14]',\n",
       "       'Rep. LaTurner, Jake [R-KS-2]',\n",
       "       'Rep. Malliotakis, Nicole [R-NY-11]',\n",
       "       'Rep. DesJarlais, Scott [R-TN-4]', 'Rep. Gooden, Lance [R-TX-5]',\n",
       "       'Rep. Carter, Earl L. \"Buddy\" [R-GA-1]',\n",
       "       'Rep. Mace, Nancy [R-SC-1]'], dtype=object)"
      ]
     },
     "execution_count": 141,
     "metadata": {},
     "output_type": "execute_result"
    }
   ],
   "source": [
    "# Review fullName data\n",
    "cosponsors_df['fullName'].unique()[:15]"
   ]
  },
  {
   "cell_type": "code",
   "execution_count": 142,
   "metadata": {},
   "outputs": [
    {
     "data": {
      "text/plain": [
       "array(['Scott', 'Byron', 'Michelle', 'Ralph', 'Andrew', 'Doug', 'Burgess',\n",
       "       'Bob', 'Randy', 'Jake', 'Nicole', 'Lance', 'Earl', 'Nancy', 'Lisa',\n",
       "       'Dan', 'Tom', 'Cathy', 'Barry', 'W.'], dtype=object)"
      ]
     },
     "execution_count": 142,
     "metadata": {},
     "output_type": "execute_result"
    }
   ],
   "source": [
    "# Review firstName data\n",
    "cosponsors_df['firstName'].unique()[:20]"
   ]
  },
  {
   "cell_type": "code",
   "execution_count": 143,
   "metadata": {},
   "outputs": [
    {
     "data": {
      "text/plain": [
       "array(['Perry', 'Donalds', 'Steel', 'Norman', 'Ogles', 'LaMalfa', 'Owens',\n",
       "       'Good', 'Weber', 'LaTurner', 'Malliotakis', 'DesJarlais', 'Gooden',\n",
       "       'Carter', 'Mace', 'McClain', 'Crenshaw', 'McClintock', 'Rodgers',\n",
       "       'Moore'], dtype=object)"
      ]
     },
     "execution_count": 143,
     "metadata": {},
     "output_type": "execute_result"
    }
   ],
   "source": [
    "# Reivew lastName data\n",
    "cosponsors_df['lastName'].unique()[:20]"
   ]
  },
  {
   "cell_type": "code",
   "execution_count": 144,
   "metadata": {},
   "outputs": [
    {
     "data": {
      "text/plain": [
       "array(['R', 'D', 'I'], dtype=object)"
      ]
     },
     "execution_count": 144,
     "metadata": {},
     "output_type": "execute_result"
    }
   ],
   "source": [
    "# Review party data\n",
    "cosponsors_df['party'].unique()"
   ]
  },
  {
   "cell_type": "code",
   "execution_count": 145,
   "metadata": {},
   "outputs": [
    {
     "data": {
      "text/plain": [
       "array(['PA', 'FL', 'CA', 'SC', 'TN', 'UT', 'VA', 'TX', 'KS', 'NY', 'GA',\n",
       "       'MI', 'WA', 'AL', 'AZ', 'CO', 'IA', 'OH', 'WI', 'NJ', 'AR', 'OR',\n",
       "       'NC', 'DC', 'NV', 'IL', 'MA', 'HI', 'VT', 'MO', 'CT', 'MN', 'NM',\n",
       "       'RI', 'KY', 'NH', 'MD', 'MS', 'OK', 'LA', 'PR', 'NE', 'IN', 'ME',\n",
       "       'WY', 'AS', 'MT', 'MP', 'ID', 'SD', 'WV', 'AK', 'GU', 'VI', 'DE',\n",
       "       'ND'], dtype=object)"
      ]
     },
     "execution_count": 145,
     "metadata": {},
     "output_type": "execute_result"
    }
   ],
   "source": [
    "# Review state data\n",
    "cosponsors_df['state'].unique()"
   ]
  },
  {
   "cell_type": "code",
   "execution_count": 146,
   "metadata": {},
   "outputs": [
    {
     "data": {
      "text/plain": [
       "array(['10', '19', '45', '5', '1', '4', '14', '2', '11', '9', '17', '8',\n",
       "       '36', '26', '12', '3', '6', '7', '25', '28', '0', '20', '16', '18',\n",
       "       '15', '29', '24', '32', '44', '34', '47', '30', '39', '13', '41',\n",
       "       '31', '21', '27', '38', '22', '33', '23', '51', '37', '50', '35',\n",
       "       '52', '40', '48', '49', '46', '43', '42', nan], dtype=object)"
      ]
     },
     "execution_count": 146,
     "metadata": {},
     "output_type": "execute_result"
    }
   ],
   "source": [
    "# Review district data\n",
    "cosponsors_df['district'].unique()"
   ]
  },
  {
   "cell_type": "code",
   "execution_count": 147,
   "metadata": {},
   "outputs": [
    {
     "name": "stdout",
     "output_type": "stream",
     "text": [
      "Range of sponsorshipDate values:\n",
      "2023-01-09 to 2024-06-13\n"
     ]
    }
   ],
   "source": [
    "# Review date range of sponsorshipDate data\n",
    "print('Range of sponsorshipDate values:')\n",
    "print(f'{cosponsors_df[\"sponsorshipDate\"].min().date()} to {cosponsors_df[\"sponsorshipDate\"].max().date()}')"
   ]
  },
  {
   "cell_type": "code",
   "execution_count": 148,
   "metadata": {},
   "outputs": [
    {
     "data": {
      "text/plain": [
       "array(['True', 'False'], dtype=object)"
      ]
     },
     "execution_count": 148,
     "metadata": {},
     "output_type": "execute_result"
    }
   ],
   "source": [
    "# Review isOriginalSponsor data\n",
    "cosponsors_df['isOriginalCosponsor'].unique()"
   ]
  },
  {
   "cell_type": "code",
   "execution_count": 149,
   "metadata": {},
   "outputs": [
    {
     "data": {
      "text/plain": [
       "array([nan, 'K.', 'L. \"Buddy\"', 'C.', 'McMorris', 'Gregory', 'M.', 'P.',\n",
       "       'W.', 'J.', 'J. \"Chuck\"', 'H.', 'A.', 'G.', 'Holmes', 'D.', 'E.',\n",
       "       'O.', 'N.', 'Z.', 'Diaz', 'G. \"Chuy\"', 'R.', 'Gay', 'S.', 'L.',\n",
       "       'F.', 'B.', 'I.', 'Scott', 'T.', 'A. \"Rick\"', 'Taylor', 'French',\n",
       "       'Coleman', 'Kilili Camacho', 'Ann', 'X.', 'Dutch', 'Davis',\n",
       "       'Sattler', 'Strong', 'Morgan', 'HOLMES', 'C. \"Hank\"', 'Elvira',\n",
       "       'Drew', 'Luis', 'C. \"Bobby\"', 'Gluesenkamp', 'A. Dutch', 'Moore',\n",
       "       'Roland'], dtype=object)"
      ]
     },
     "execution_count": 149,
     "metadata": {},
     "output_type": "execute_result"
    }
   ],
   "source": [
    "# Review middleName data\n",
    "cosponsors_df['middleName'].unique()"
   ]
  },
  {
   "cell_type": "code",
   "execution_count": 150,
   "metadata": {},
   "outputs": [
    {
     "name": "stdout",
     "output_type": "stream",
     "text": [
      "Range of sponsorshipWithdrawnDate values:\n",
      "2023-01-11 to 2024-05-17\n"
     ]
    }
   ],
   "source": [
    "# Review date range of sponsorshipWithdrawnDate data\n",
    "print('Range of sponsorshipWithdrawnDate values:')\n",
    "print(f'{cosponsors_df[\"sponsorshipWithdrawnDate\"].min().date()} to {cosponsors_df[\"sponsorshipWithdrawnDate\"].max().date()}')"
   ]
  },
  {
   "cell_type": "markdown",
   "metadata": {},
   "source": [
    "***\n",
    "## Subjects\n",
    "***"
   ]
  },
  {
   "cell_type": "code",
   "execution_count": 151,
   "metadata": {},
   "outputs": [
    {
     "data": {
      "text/html": [
       "<style type=\"text/css\">\n",
       "#T_cfcfd td {\n",
       "  white-space: nowrap;\n",
       "  max-width: 300px;\n",
       "  text-overflow: ellipsis;\n",
       "  overflow: hidden;\n",
       "}\n",
       "</style>\n",
       "<table id=\"T_cfcfd\">\n",
       "  <thead>\n",
       "    <tr>\n",
       "      <th class=\"blank level0\" >&nbsp;</th>\n",
       "      <th id=\"T_cfcfd_level0_col0\" class=\"col_heading level0 col0\" >id</th>\n",
       "      <th id=\"T_cfcfd_level0_col1\" class=\"col_heading level0 col1\" >legislativeSubjectsitemname</th>\n",
       "      <th id=\"T_cfcfd_level0_col2\" class=\"col_heading level0 col2\" >policyAreaname</th>\n",
       "    </tr>\n",
       "  </thead>\n",
       "  <tbody>\n",
       "    <tr>\n",
       "      <th id=\"T_cfcfd_level0_row0\" class=\"row_heading level0 row0\" >0</th>\n",
       "      <td id=\"T_cfcfd_row0_col0\" class=\"data row0 col0\" >hconres1</td>\n",
       "      <td id=\"T_cfcfd_row0_col1\" class=\"data row0 col1\" >Congressional operations and organization</td>\n",
       "      <td id=\"T_cfcfd_row0_col2\" class=\"data row0 col2\" >nan</td>\n",
       "    </tr>\n",
       "    <tr>\n",
       "      <th id=\"T_cfcfd_level0_row1\" class=\"row_heading level0 row1\" >1</th>\n",
       "      <td id=\"T_cfcfd_row1_col0\" class=\"data row1 col0\" >hconres1</td>\n",
       "      <td id=\"T_cfcfd_row1_col1\" class=\"data row1 col1\" >nan</td>\n",
       "      <td id=\"T_cfcfd_row1_col2\" class=\"data row1 col2\" >Congress</td>\n",
       "    </tr>\n",
       "    <tr>\n",
       "      <th id=\"T_cfcfd_level0_row2\" class=\"row_heading level0 row2\" >2</th>\n",
       "      <td id=\"T_cfcfd_row2_col0\" class=\"data row2 col0\" >hconres10</td>\n",
       "      <td id=\"T_cfcfd_row2_col1\" class=\"data row2 col1\" >nan</td>\n",
       "      <td id=\"T_cfcfd_row2_col2\" class=\"data row2 col2\" >nan</td>\n",
       "    </tr>\n",
       "    <tr>\n",
       "      <th id=\"T_cfcfd_level0_row3\" class=\"row_heading level0 row3\" >3</th>\n",
       "      <td id=\"T_cfcfd_row3_col0\" class=\"data row3 col0\" >hconres10</td>\n",
       "      <td id=\"T_cfcfd_row3_col1\" class=\"data row3 col1\" >nan</td>\n",
       "      <td id=\"T_cfcfd_row3_col2\" class=\"data row3 col2\" >International Affairs</td>\n",
       "    </tr>\n",
       "    <tr>\n",
       "      <th id=\"T_cfcfd_level0_row4\" class=\"row_heading level0 row4\" >4</th>\n",
       "      <td id=\"T_cfcfd_row4_col0\" class=\"data row4 col0\" >hconres100</td>\n",
       "      <td id=\"T_cfcfd_row4_col1\" class=\"data row4 col1\" >nan</td>\n",
       "      <td id=\"T_cfcfd_row4_col2\" class=\"data row4 col2\" >nan</td>\n",
       "    </tr>\n",
       "  </tbody>\n",
       "</table>\n"
      ],
      "text/plain": [
       "<pandas.io.formats.style.Styler at 0x2064c637560>"
      ]
     },
     "execution_count": 151,
     "metadata": {},
     "output_type": "execute_result"
    }
   ],
   "source": [
    "# Review subjects_df\n",
    "subjects_df.head().style.set_table_styles(def_style)"
   ]
  },
  {
   "cell_type": "code",
   "execution_count": 152,
   "metadata": {},
   "outputs": [
    {
     "data": {
      "text/plain": [
       "(71482, 3)"
      ]
     },
     "execution_count": 152,
     "metadata": {},
     "output_type": "execute_result"
    }
   ],
   "source": [
    "# Review shape of dataframe\n",
    "subjects_df.shape"
   ]
  },
  {
   "cell_type": "code",
   "execution_count": 153,
   "metadata": {},
   "outputs": [],
   "source": [
    "# Delete duplicates and nan columns\n",
    "subjects_df.drop_duplicates(inplace=True)\n",
    "subjects_df.dropna(axis=1, how='all', inplace=True)"
   ]
  },
  {
   "cell_type": "code",
   "execution_count": 154,
   "metadata": {},
   "outputs": [
    {
     "data": {
      "text/plain": [
       "Index(['id', 'legislativeSubjectsitemname', 'policyAreaname'], dtype='object')"
      ]
     },
     "execution_count": 154,
     "metadata": {},
     "output_type": "execute_result"
    }
   ],
   "source": [
    "# Review column names\n",
    "subjects_df.columns"
   ]
  },
  {
   "cell_type": "code",
   "execution_count": 155,
   "metadata": {},
   "outputs": [],
   "source": [
    "# Cleanup column names for clarity\n",
    "subjects_df.columns = ['id', 'legislativeSubject', 'policyArea']"
   ]
  },
  {
   "cell_type": "code",
   "execution_count": 156,
   "metadata": {},
   "outputs": [
    {
     "data": {
      "text/plain": [
       "id                        0\n",
       "legislativeSubject    28177\n",
       "policyArea            57353\n",
       "dtype: int64"
      ]
     },
     "execution_count": 156,
     "metadata": {},
     "output_type": "execute_result"
    }
   ],
   "source": [
    "# Review columns with NaN content\n",
    "subjects_df.isna().sum()"
   ]
  },
  {
   "cell_type": "code",
   "execution_count": 157,
   "metadata": {},
   "outputs": [],
   "source": [
    "# Delete rows that have NaN values for both legislativeSubject and policyArea\n",
    "subjects_df.dropna(how='all', subset=['legislativeSubject', 'policyArea'], inplace=True)"
   ]
  },
  {
   "cell_type": "code",
   "execution_count": 158,
   "metadata": {},
   "outputs": [
    {
     "data": {
      "text/plain": [
       "id                    object\n",
       "legislativeSubject    object\n",
       "policyArea            object\n",
       "dtype: object"
      ]
     },
     "execution_count": 158,
     "metadata": {},
     "output_type": "execute_result"
    }
   ],
   "source": [
    "# Review datatypes\n",
    "subjects_df.dtypes"
   ]
  },
  {
   "cell_type": "code",
   "execution_count": 159,
   "metadata": {},
   "outputs": [
    {
     "data": {
      "text/plain": [
       "array(['hconres1', 'hconres10', 'hconres100', 'hconres101', 'hconres102',\n",
       "       'hconres103', 'hconres104', 'hconres106', 'hconres11', 'hconres12',\n",
       "       'hconres13', 'hconres14', 'hconres15', 'hconres16', 'hconres17',\n",
       "       'hconres18', 'hconres19', 'hconres2', 'hconres20', 'hconres22'],\n",
       "      dtype=object)"
      ]
     },
     "execution_count": 159,
     "metadata": {},
     "output_type": "execute_result"
    }
   ],
   "source": [
    "# Review id data\n",
    "subjects_df['id'].unique()[:20]"
   ]
  },
  {
   "cell_type": "code",
   "execution_count": 160,
   "metadata": {},
   "outputs": [
    {
     "data": {
      "text/plain": [
       "array(['Congressional operations and organization', nan, 'Appropriations',\n",
       "       'Legislative rules and procedure', 'Conflicts and wars',\n",
       "       'Congressional tributes', 'Military history', 'U.S. Capitol',\n",
       "       'U.S. history', \"Veterans' organizations and recognition\",\n",
       "       'Law enforcement administration and funding',\n",
       "       'Law enforcement officers',\n",
       "       'Presidents and presidential powers, Vice Presidents',\n",
       "       'Agricultural prices, subsidies, credit', 'Agricultural trade'],\n",
       "      dtype=object)"
      ]
     },
     "execution_count": 160,
     "metadata": {},
     "output_type": "execute_result"
    }
   ],
   "source": [
    "# Review legislativeSubject data\n",
    "subjects_df['legislativeSubject'].unique()[:15]"
   ]
  },
  {
   "cell_type": "code",
   "execution_count": 161,
   "metadata": {},
   "outputs": [
    {
     "data": {
      "text/plain": [
       "array([nan, 'Congress', 'International Affairs',\n",
       "       'Civil Rights and Liberties, Minority Issues',\n",
       "       'Crime and Law Enforcement',\n",
       "       'Foreign Trade and International Finance',\n",
       "       'Science, Technology, Communications', 'Energy',\n",
       "       'Armed Forces and National Security', 'Labor and Employment',\n",
       "       'Health', 'Government Operations and Politics', 'Taxation',\n",
       "       'Environmental Protection', 'Economics and Public Finance'],\n",
       "      dtype=object)"
      ]
     },
     "execution_count": 161,
     "metadata": {},
     "output_type": "execute_result"
    }
   ],
   "source": [
    "# Review policyArea data\n",
    "subjects_df['policyArea'].unique()[:15]"
   ]
  },
  {
   "cell_type": "code",
   "execution_count": 162,
   "metadata": {},
   "outputs": [
    {
     "data": {
      "text/html": [
       "<style type=\"text/css\">\n",
       "#T_2000a td {\n",
       "  white-space: nowrap;\n",
       "  max-width: 300px;\n",
       "  text-overflow: ellipsis;\n",
       "  overflow: hidden;\n",
       "}\n",
       "</style>\n",
       "<table id=\"T_2000a\">\n",
       "  <thead>\n",
       "    <tr>\n",
       "      <th class=\"blank level0\" >&nbsp;</th>\n",
       "      <th id=\"T_2000a_level0_col0\" class=\"col_heading level0 col0\" >id</th>\n",
       "      <th id=\"T_2000a_level0_col1\" class=\"col_heading level0 col1\" >legislativeSubject</th>\n",
       "      <th id=\"T_2000a_level0_col2\" class=\"col_heading level0 col2\" >policyArea</th>\n",
       "    </tr>\n",
       "  </thead>\n",
       "  <tbody>\n",
       "    <tr>\n",
       "      <th id=\"T_2000a_level0_row0\" class=\"row_heading level0 row0\" >0</th>\n",
       "      <td id=\"T_2000a_row0_col0\" class=\"data row0 col0\" >hconres1</td>\n",
       "      <td id=\"T_2000a_row0_col1\" class=\"data row0 col1\" >Congressional operations and organization</td>\n",
       "      <td id=\"T_2000a_row0_col2\" class=\"data row0 col2\" >nan</td>\n",
       "    </tr>\n",
       "    <tr>\n",
       "      <th id=\"T_2000a_level0_row1\" class=\"row_heading level0 row1\" >1</th>\n",
       "      <td id=\"T_2000a_row1_col0\" class=\"data row1 col0\" >hconres1</td>\n",
       "      <td id=\"T_2000a_row1_col1\" class=\"data row1 col1\" >nan</td>\n",
       "      <td id=\"T_2000a_row1_col2\" class=\"data row1 col2\" >Congress</td>\n",
       "    </tr>\n",
       "    <tr>\n",
       "      <th id=\"T_2000a_level0_row2\" class=\"row_heading level0 row2\" >3</th>\n",
       "      <td id=\"T_2000a_row2_col0\" class=\"data row2 col0\" >hconres10</td>\n",
       "      <td id=\"T_2000a_row2_col1\" class=\"data row2 col1\" >nan</td>\n",
       "      <td id=\"T_2000a_row2_col2\" class=\"data row2 col2\" >International Affairs</td>\n",
       "    </tr>\n",
       "    <tr>\n",
       "      <th id=\"T_2000a_level0_row3\" class=\"row_heading level0 row3\" >5</th>\n",
       "      <td id=\"T_2000a_row3_col0\" class=\"data row3 col0\" >hconres100</td>\n",
       "      <td id=\"T_2000a_row3_col1\" class=\"data row3 col1\" >Appropriations</td>\n",
       "      <td id=\"T_2000a_row3_col2\" class=\"data row3 col2\" >nan</td>\n",
       "    </tr>\n",
       "    <tr>\n",
       "      <th id=\"T_2000a_level0_row4\" class=\"row_heading level0 row4\" >6</th>\n",
       "      <td id=\"T_2000a_row4_col0\" class=\"data row4 col0\" >hconres100</td>\n",
       "      <td id=\"T_2000a_row4_col1\" class=\"data row4 col1\" >Legislative rules and procedure</td>\n",
       "      <td id=\"T_2000a_row4_col2\" class=\"data row4 col2\" >nan</td>\n",
       "    </tr>\n",
       "  </tbody>\n",
       "</table>\n"
      ],
      "text/plain": [
       "<pandas.io.formats.style.Styler at 0x20649c2e360>"
      ]
     },
     "execution_count": 162,
     "metadata": {},
     "output_type": "execute_result"
    }
   ],
   "source": [
    "# Final review subjects_df\n",
    "subjects_df.head().style.set_table_styles(def_style)"
   ]
  },
  {
   "cell_type": "markdown",
   "metadata": {},
   "source": [
    "***\n",
    "## Summaries\n",
    "***"
   ]
  },
  {
   "cell_type": "code",
   "execution_count": 163,
   "metadata": {},
   "outputs": [
    {
     "data": {
      "text/html": [
       "<style type=\"text/css\">\n",
       "#T_f988e td {\n",
       "  white-space: nowrap;\n",
       "  max-width: 300px;\n",
       "  text-overflow: ellipsis;\n",
       "  overflow: hidden;\n",
       "}\n",
       "</style>\n",
       "<table id=\"T_f988e\">\n",
       "  <thead>\n",
       "    <tr>\n",
       "      <th class=\"blank level0\" >&nbsp;</th>\n",
       "      <th id=\"T_f988e_level0_col0\" class=\"col_heading level0 col0\" >id</th>\n",
       "      <th id=\"T_f988e_level0_col1\" class=\"col_heading level0 col1\" >summaryversionCode</th>\n",
       "      <th id=\"T_f988e_level0_col2\" class=\"col_heading level0 col2\" >summaryactionDate</th>\n",
       "      <th id=\"T_f988e_level0_col3\" class=\"col_heading level0 col3\" >summaryactionDesc</th>\n",
       "      <th id=\"T_f988e_level0_col4\" class=\"col_heading level0 col4\" >summaryupdateDate</th>\n",
       "      <th id=\"T_f988e_level0_col5\" class=\"col_heading level0 col5\" >summarytext</th>\n",
       "    </tr>\n",
       "  </thead>\n",
       "  <tbody>\n",
       "    <tr>\n",
       "      <th id=\"T_f988e_level0_row0\" class=\"row_heading level0 row0\" >0</th>\n",
       "      <td id=\"T_f988e_row0_col0\" class=\"data row0 col0\" >hconres1</td>\n",
       "      <td id=\"T_f988e_row0_col1\" class=\"data row0 col1\" >00</td>\n",
       "      <td id=\"T_f988e_row0_col2\" class=\"data row0 col2\" >2023-01-09</td>\n",
       "      <td id=\"T_f988e_row0_col3\" class=\"data row0 col3\" >Introduced in House</td>\n",
       "      <td id=\"T_f988e_row0_col4\" class=\"data row0 col4\" >2023-01-12T20:27:36Z</td>\n",
       "      <td id=\"T_f988e_row0_col5\" class=\"data row0 col5\" >This concurrent resolution authorizes the Speaker of the House and the Majority Leader of the Senate to assemble the House and the Senate outside the District of Columbia whenever the public interest warrants it.</td>\n",
       "    </tr>\n",
       "    <tr>\n",
       "      <th id=\"T_f988e_level0_row1\" class=\"row_heading level0 row1\" >1</th>\n",
       "      <td id=\"T_f988e_row1_col0\" class=\"data row1 col0\" >hconres1</td>\n",
       "      <td id=\"T_f988e_row1_col1\" class=\"data row1 col1\" >53</td>\n",
       "      <td id=\"T_f988e_row1_col2\" class=\"data row1 col2\" >2023-01-09</td>\n",
       "      <td id=\"T_f988e_row1_col3\" class=\"data row1 col3\" >Passed House</td>\n",
       "      <td id=\"T_f988e_row1_col4\" class=\"data row1 col4\" >2023-01-13T15:52:05Z</td>\n",
       "      <td id=\"T_f988e_row1_col5\" class=\"data row1 col5\" >This concurrent resolution authorizes the Speaker of the House and the Majority Leader of the Senate to assemble the House and the Senate outside the District of Columbia whenever the public interest warrants it.</td>\n",
       "    </tr>\n",
       "    <tr>\n",
       "      <th id=\"T_f988e_level0_row2\" class=\"row_heading level0 row2\" >2</th>\n",
       "      <td id=\"T_f988e_row2_col0\" class=\"data row2 col0\" >hconres10</td>\n",
       "      <td id=\"T_f988e_row2_col1\" class=\"data row2 col1\" >00</td>\n",
       "      <td id=\"T_f988e_row2_col2\" class=\"data row2 col2\" >2023-01-25</td>\n",
       "      <td id=\"T_f988e_row2_col3\" class=\"data row2 col3\" >Introduced in House</td>\n",
       "      <td id=\"T_f988e_row2_col4\" class=\"data row2 col4\" >2023-02-02T21:11:43Z</td>\n",
       "      <td id=\"T_f988e_row2_col5\" class=\"data row2 col5\" >This concurrent resolution calls on the President to abandon the One China policy in favor of one that recognizes Taiwan as an independent country that is not a part of China. The resolution also urges the President to bolster diplomatic and economic relations between the United States and Taiwan through specified means.   </td>\n",
       "    </tr>\n",
       "    <tr>\n",
       "      <th id=\"T_f988e_level0_row3\" class=\"row_heading level0 row3\" >3</th>\n",
       "      <td id=\"T_f988e_row3_col0\" class=\"data row3 col0\" >hconres101</td>\n",
       "      <td id=\"T_f988e_row3_col1\" class=\"data row3 col1\" >00</td>\n",
       "      <td id=\"T_f988e_row3_col2\" class=\"data row3 col2\" >2024-03-22</td>\n",
       "      <td id=\"T_f988e_row3_col3\" class=\"data row3 col3\" >Introduced in House</td>\n",
       "      <td id=\"T_f988e_row3_col4\" class=\"data row3 col4\" >2024-04-22T10:25:37Z</td>\n",
       "      <td id=\"T_f988e_row3_col5\" class=\"data row3 col5\" >This concurrent resolution recognizes that people with disabilities experience barriers to access every day and pledges to make universal and inclusive design a guiding principle for all infrastructure bills and projects.</td>\n",
       "    </tr>\n",
       "    <tr>\n",
       "      <th id=\"T_f988e_level0_row4\" class=\"row_heading level0 row4\" >4</th>\n",
       "      <td id=\"T_f988e_row4_col0\" class=\"data row4 col0\" >hconres102</td>\n",
       "      <td id=\"T_f988e_row4_col1\" class=\"data row4 col1\" >00</td>\n",
       "      <td id=\"T_f988e_row4_col2\" class=\"data row4 col2\" >2024-03-29</td>\n",
       "      <td id=\"T_f988e_row4_col3\" class=\"data row4 col3\" >Introduced in House</td>\n",
       "      <td id=\"T_f988e_row4_col4\" class=\"data row4 col4\" >2024-06-03T14:38:14Z</td>\n",
       "      <td id=\"T_f988e_row4_col5\" class=\"data row4 col5\" >This concurrent resolution supports the goals and ideals of International Transgender Day of Visibility. </td>\n",
       "    </tr>\n",
       "  </tbody>\n",
       "</table>\n"
      ],
      "text/plain": [
       "<pandas.io.formats.style.Styler at 0x2064c464830>"
      ]
     },
     "execution_count": 163,
     "metadata": {},
     "output_type": "execute_result"
    }
   ],
   "source": [
    "# Review summaries_df\n",
    "summaries_df.head().style.set_table_styles(def_style)"
   ]
  },
  {
   "cell_type": "code",
   "execution_count": 164,
   "metadata": {},
   "outputs": [
    {
     "data": {
      "text/plain": [
       "(10231, 6)"
      ]
     },
     "execution_count": 164,
     "metadata": {},
     "output_type": "execute_result"
    }
   ],
   "source": [
    "# Review shape of dataframe\n",
    "summaries_df.shape"
   ]
  },
  {
   "cell_type": "code",
   "execution_count": 165,
   "metadata": {},
   "outputs": [],
   "source": [
    "# Delete duplicates and nan columns\n",
    "summaries_df.drop_duplicates(inplace=True)\n",
    "summaries_df.dropna(axis=1, how='all', inplace=True)"
   ]
  },
  {
   "cell_type": "code",
   "execution_count": 166,
   "metadata": {},
   "outputs": [
    {
     "data": {
      "text/plain": [
       "Index(['id', 'summaryversionCode', 'summaryactionDate', 'summaryactionDesc',\n",
       "       'summaryupdateDate', 'summarytext'],\n",
       "      dtype='object')"
      ]
     },
     "execution_count": 166,
     "metadata": {},
     "output_type": "execute_result"
    }
   ],
   "source": [
    "# Review column names\n",
    "summaries_df.columns"
   ]
  },
  {
   "cell_type": "code",
   "execution_count": 167,
   "metadata": {},
   "outputs": [],
   "source": [
    "# Cleanup column names for clarity\n",
    "summaries_df.columns = ['id', 'versionCode', 'actionDate', 'actionDesc', 'updateDate', 'summaryText']"
   ]
  },
  {
   "cell_type": "code",
   "execution_count": 168,
   "metadata": {},
   "outputs": [
    {
     "data": {
      "text/plain": [
       "id             0\n",
       "versionCode    0\n",
       "actionDate     0\n",
       "actionDesc     0\n",
       "updateDate     0\n",
       "summaryText    0\n",
       "dtype: int64"
      ]
     },
     "execution_count": 168,
     "metadata": {},
     "output_type": "execute_result"
    }
   ],
   "source": [
    "# Review columns with NaN content\n",
    "summaries_df.isna().sum()"
   ]
  },
  {
   "cell_type": "code",
   "execution_count": 169,
   "metadata": {},
   "outputs": [
    {
     "data": {
      "text/plain": [
       "id             object\n",
       "versionCode    object\n",
       "actionDate     object\n",
       "actionDesc     object\n",
       "updateDate     object\n",
       "summaryText    object\n",
       "dtype: object"
      ]
     },
     "execution_count": 169,
     "metadata": {},
     "output_type": "execute_result"
    }
   ],
   "source": [
    "# Review datatypes\n",
    "summaries_df.dtypes"
   ]
  },
  {
   "cell_type": "code",
   "execution_count": 170,
   "metadata": {},
   "outputs": [],
   "source": [
    "# Covert datatypes\n",
    "summaries_df['versionCode'] = summaries_df['versionCode'].astype('int')\n",
    "summaries_df['actionDate'] = pd.to_datetime(summaries_df['actionDate'])\n",
    "summaries_df['updateDate'] = pd.to_datetime(summaries_df['updateDate'])"
   ]
  },
  {
   "cell_type": "code",
   "execution_count": 171,
   "metadata": {},
   "outputs": [
    {
     "data": {
      "text/plain": [
       "array(['hconres1', 'hconres10', 'hconres101', ..., 'sres97', 'sres98',\n",
       "       'sres99'], dtype=object)"
      ]
     },
     "execution_count": 171,
     "metadata": {},
     "output_type": "execute_result"
    }
   ],
   "source": [
    "# Reivew id data\n",
    "summaries_df['id'].unique()"
   ]
  },
  {
   "cell_type": "code",
   "execution_count": 172,
   "metadata": {},
   "outputs": [
    {
     "data": {
      "text/plain": [
       "array([ 0, 53, 55,  8,  7, 49,  9, 59, 74, 25])"
      ]
     },
     "execution_count": 172,
     "metadata": {},
     "output_type": "execute_result"
    }
   ],
   "source": [
    "# Review versionCode\n",
    "summaries_df['versionCode'].unique()"
   ]
  },
  {
   "cell_type": "code",
   "execution_count": 173,
   "metadata": {},
   "outputs": [
    {
     "name": "stdout",
     "output_type": "stream",
     "text": [
      "Range of actionDate values:\n",
      "2023-01-03 to 2024-05-21\n"
     ]
    }
   ],
   "source": [
    "# Review date range of actionDate data\n",
    "print('Range of actionDate values:')\n",
    "print(f'{summaries_df[\"actionDate\"].min().date()} to {summaries_df[\"actionDate\"].max().date()}')"
   ]
  },
  {
   "cell_type": "code",
   "execution_count": 174,
   "metadata": {},
   "outputs": [
    {
     "data": {
      "text/plain": [
       "array(['Introduced in House', 'Passed House', 'Passed Senate',\n",
       "       'Reported to House, Part I', 'Reported to House', 'Public Law',\n",
       "       'Reported to House, Part II', 'House agreed to Senate amendment',\n",
       "       'Senate agreed to House amendment', 'Introduced in Senate',\n",
       "       'Reported to Senate'], dtype=object)"
      ]
     },
     "execution_count": 174,
     "metadata": {},
     "output_type": "execute_result"
    }
   ],
   "source": [
    "# Review actionDesc data\n",
    "summaries_df['actionDesc'].unique()"
   ]
  },
  {
   "cell_type": "code",
   "execution_count": 175,
   "metadata": {},
   "outputs": [
    {
     "name": "stdout",
     "output_type": "stream",
     "text": [
      "Range of updateDate values:\n",
      "2023-01-06 to 2024-06-14\n"
     ]
    }
   ],
   "source": [
    "# Review date range of updateDate data\n",
    "print('Range of updateDate values:')\n",
    "print(f'{summaries_df[\"updateDate\"].min().date()} to {summaries_df[\"updateDate\"].max().date()}')"
   ]
  },
  {
   "cell_type": "code",
   "execution_count": 176,
   "metadata": {},
   "outputs": [
    {
     "data": {
      "text/plain": [
       "array(['This concurrent resolution authorizes the Speaker of the House and the Majority Leader of the Senate to assemble the House and the Senate outside the District of Columbia whenever the public interest warrants it.',\n",
       "       'This concurrent resolution calls on the President to abandon the One China policy in favor of one that recognizes Taiwan as an independent country that is not a part of China. The resolution also urges the President to bolster diplomatic and economic relations between the United States and Taiwan through specified means.   ',\n",
       "       'This concurrent resolution recognizes that people with disabilities experience barriers to access every day and pledges to make universal and inclusive design a guiding principle for all infrastructure bills and projects.',\n",
       "       'This concurrent resolution supports the goals and ideals of International Transgender Day of Visibility.\\xa0',\n",
       "       'This concurrent resolution recognizes local law enforcement officers, extends gratitude to local law enforcement officers and their families,\\xa0and condemns calls to defund or abolish the police.'],\n",
       "      dtype=object)"
      ]
     },
     "execution_count": 176,
     "metadata": {},
     "output_type": "execute_result"
    }
   ],
   "source": [
    "# Review summaryText data\n",
    "summaries_df['summaryText'].unique()[:5]"
   ]
  },
  {
   "cell_type": "code",
   "execution_count": 177,
   "metadata": {},
   "outputs": [
    {
     "data": {
      "text/html": [
       "<style type=\"text/css\">\n",
       "#T_58519 td {\n",
       "  white-space: nowrap;\n",
       "  max-width: 300px;\n",
       "  text-overflow: ellipsis;\n",
       "  overflow: hidden;\n",
       "}\n",
       "</style>\n",
       "<table id=\"T_58519\">\n",
       "  <thead>\n",
       "    <tr>\n",
       "      <th class=\"blank level0\" >&nbsp;</th>\n",
       "      <th id=\"T_58519_level0_col0\" class=\"col_heading level0 col0\" >id</th>\n",
       "      <th id=\"T_58519_level0_col1\" class=\"col_heading level0 col1\" >versionCode</th>\n",
       "      <th id=\"T_58519_level0_col2\" class=\"col_heading level0 col2\" >actionDate</th>\n",
       "      <th id=\"T_58519_level0_col3\" class=\"col_heading level0 col3\" >actionDesc</th>\n",
       "      <th id=\"T_58519_level0_col4\" class=\"col_heading level0 col4\" >updateDate</th>\n",
       "      <th id=\"T_58519_level0_col5\" class=\"col_heading level0 col5\" >summaryText</th>\n",
       "    </tr>\n",
       "  </thead>\n",
       "  <tbody>\n",
       "    <tr>\n",
       "      <th id=\"T_58519_level0_row0\" class=\"row_heading level0 row0\" >0</th>\n",
       "      <td id=\"T_58519_row0_col0\" class=\"data row0 col0\" >hconres1</td>\n",
       "      <td id=\"T_58519_row0_col1\" class=\"data row0 col1\" >0</td>\n",
       "      <td id=\"T_58519_row0_col2\" class=\"data row0 col2\" >2023-01-09 00:00:00</td>\n",
       "      <td id=\"T_58519_row0_col3\" class=\"data row0 col3\" >Introduced in House</td>\n",
       "      <td id=\"T_58519_row0_col4\" class=\"data row0 col4\" >2023-01-12 20:27:36+00:00</td>\n",
       "      <td id=\"T_58519_row0_col5\" class=\"data row0 col5\" >This concurrent resolution authorizes the Speaker of the House and the Majority Leader of the Senate to assemble the House and the Senate outside the District of Columbia whenever the public interest warrants it.</td>\n",
       "    </tr>\n",
       "    <tr>\n",
       "      <th id=\"T_58519_level0_row1\" class=\"row_heading level0 row1\" >1</th>\n",
       "      <td id=\"T_58519_row1_col0\" class=\"data row1 col0\" >hconres1</td>\n",
       "      <td id=\"T_58519_row1_col1\" class=\"data row1 col1\" >53</td>\n",
       "      <td id=\"T_58519_row1_col2\" class=\"data row1 col2\" >2023-01-09 00:00:00</td>\n",
       "      <td id=\"T_58519_row1_col3\" class=\"data row1 col3\" >Passed House</td>\n",
       "      <td id=\"T_58519_row1_col4\" class=\"data row1 col4\" >2023-01-13 15:52:05+00:00</td>\n",
       "      <td id=\"T_58519_row1_col5\" class=\"data row1 col5\" >This concurrent resolution authorizes the Speaker of the House and the Majority Leader of the Senate to assemble the House and the Senate outside the District of Columbia whenever the public interest warrants it.</td>\n",
       "    </tr>\n",
       "    <tr>\n",
       "      <th id=\"T_58519_level0_row2\" class=\"row_heading level0 row2\" >2</th>\n",
       "      <td id=\"T_58519_row2_col0\" class=\"data row2 col0\" >hconres10</td>\n",
       "      <td id=\"T_58519_row2_col1\" class=\"data row2 col1\" >0</td>\n",
       "      <td id=\"T_58519_row2_col2\" class=\"data row2 col2\" >2023-01-25 00:00:00</td>\n",
       "      <td id=\"T_58519_row2_col3\" class=\"data row2 col3\" >Introduced in House</td>\n",
       "      <td id=\"T_58519_row2_col4\" class=\"data row2 col4\" >2023-02-02 21:11:43+00:00</td>\n",
       "      <td id=\"T_58519_row2_col5\" class=\"data row2 col5\" >This concurrent resolution calls on the President to abandon the One China policy in favor of one that recognizes Taiwan as an independent country that is not a part of China. The resolution also urges the President to bolster diplomatic and economic relations between the United States and Taiwan through specified means.   </td>\n",
       "    </tr>\n",
       "    <tr>\n",
       "      <th id=\"T_58519_level0_row3\" class=\"row_heading level0 row3\" >3</th>\n",
       "      <td id=\"T_58519_row3_col0\" class=\"data row3 col0\" >hconres101</td>\n",
       "      <td id=\"T_58519_row3_col1\" class=\"data row3 col1\" >0</td>\n",
       "      <td id=\"T_58519_row3_col2\" class=\"data row3 col2\" >2024-03-22 00:00:00</td>\n",
       "      <td id=\"T_58519_row3_col3\" class=\"data row3 col3\" >Introduced in House</td>\n",
       "      <td id=\"T_58519_row3_col4\" class=\"data row3 col4\" >2024-04-22 10:25:37+00:00</td>\n",
       "      <td id=\"T_58519_row3_col5\" class=\"data row3 col5\" >This concurrent resolution recognizes that people with disabilities experience barriers to access every day and pledges to make universal and inclusive design a guiding principle for all infrastructure bills and projects.</td>\n",
       "    </tr>\n",
       "    <tr>\n",
       "      <th id=\"T_58519_level0_row4\" class=\"row_heading level0 row4\" >4</th>\n",
       "      <td id=\"T_58519_row4_col0\" class=\"data row4 col0\" >hconres102</td>\n",
       "      <td id=\"T_58519_row4_col1\" class=\"data row4 col1\" >0</td>\n",
       "      <td id=\"T_58519_row4_col2\" class=\"data row4 col2\" >2024-03-29 00:00:00</td>\n",
       "      <td id=\"T_58519_row4_col3\" class=\"data row4 col3\" >Introduced in House</td>\n",
       "      <td id=\"T_58519_row4_col4\" class=\"data row4 col4\" >2024-06-03 14:38:14+00:00</td>\n",
       "      <td id=\"T_58519_row4_col5\" class=\"data row4 col5\" >This concurrent resolution supports the goals and ideals of International Transgender Day of Visibility. </td>\n",
       "    </tr>\n",
       "  </tbody>\n",
       "</table>\n"
      ],
      "text/plain": [
       "<pandas.io.formats.style.Styler at 0x20649c2f740>"
      ]
     },
     "execution_count": 177,
     "metadata": {},
     "output_type": "execute_result"
    }
   ],
   "source": [
    "# Final review summaries_df\n",
    "summaries_df.head().style.set_table_styles(def_style)"
   ]
  },
  {
   "cell_type": "markdown",
   "metadata": {},
   "source": [
    "***\n",
    "## Titles\n",
    "***"
   ]
  },
  {
   "cell_type": "code",
   "execution_count": 178,
   "metadata": {},
   "outputs": [
    {
     "data": {
      "text/html": [
       "<style type=\"text/css\">\n",
       "#T_2bd8a td {\n",
       "  white-space: nowrap;\n",
       "  max-width: 300px;\n",
       "  text-overflow: ellipsis;\n",
       "  overflow: hidden;\n",
       "}\n",
       "</style>\n",
       "<table id=\"T_2bd8a\">\n",
       "  <thead>\n",
       "    <tr>\n",
       "      <th class=\"blank level0\" >&nbsp;</th>\n",
       "      <th id=\"T_2bd8a_level0_col0\" class=\"col_heading level0 col0\" >id</th>\n",
       "      <th id=\"T_2bd8a_level0_col1\" class=\"col_heading level0 col1\" >itemtitleType</th>\n",
       "      <th id=\"T_2bd8a_level0_col2\" class=\"col_heading level0 col2\" >itemtitle</th>\n",
       "      <th id=\"T_2bd8a_level0_col3\" class=\"col_heading level0 col3\" >itemtitleTypeCode</th>\n",
       "      <th id=\"T_2bd8a_level0_col4\" class=\"col_heading level0 col4\" >itembillTextVersionName</th>\n",
       "      <th id=\"T_2bd8a_level0_col5\" class=\"col_heading level0 col5\" >itembillTextVersionCode</th>\n",
       "      <th id=\"T_2bd8a_level0_col6\" class=\"col_heading level0 col6\" >itemchamberCode</th>\n",
       "      <th id=\"T_2bd8a_level0_col7\" class=\"col_heading level0 col7\" >itemchamberName</th>\n",
       "      <th id=\"T_2bd8a_level0_col8\" class=\"col_heading level0 col8\" >itemsourceSystemcode</th>\n",
       "      <th id=\"T_2bd8a_level0_col9\" class=\"col_heading level0 col9\" >itemsourceSystemname</th>\n",
       "    </tr>\n",
       "  </thead>\n",
       "  <tbody>\n",
       "    <tr>\n",
       "      <th id=\"T_2bd8a_level0_row0\" class=\"row_heading level0 row0\" >0</th>\n",
       "      <td id=\"T_2bd8a_row0_col0\" class=\"data row0 col0\" >hconres1</td>\n",
       "      <td id=\"T_2bd8a_row0_col1\" class=\"data row0 col1\" >Display Title</td>\n",
       "      <td id=\"T_2bd8a_row0_col2\" class=\"data row0 col2\" >Regarding consent to assemble outside the seat of government.</td>\n",
       "      <td id=\"T_2bd8a_row0_col3\" class=\"data row0 col3\" >nan</td>\n",
       "      <td id=\"T_2bd8a_row0_col4\" class=\"data row0 col4\" >nan</td>\n",
       "      <td id=\"T_2bd8a_row0_col5\" class=\"data row0 col5\" >nan</td>\n",
       "      <td id=\"T_2bd8a_row0_col6\" class=\"data row0 col6\" >nan</td>\n",
       "      <td id=\"T_2bd8a_row0_col7\" class=\"data row0 col7\" >nan</td>\n",
       "      <td id=\"T_2bd8a_row0_col8\" class=\"data row0 col8\" >nan</td>\n",
       "      <td id=\"T_2bd8a_row0_col9\" class=\"data row0 col9\" >nan</td>\n",
       "    </tr>\n",
       "    <tr>\n",
       "      <th id=\"T_2bd8a_level0_row1\" class=\"row_heading level0 row1\" >1</th>\n",
       "      <td id=\"T_2bd8a_row1_col0\" class=\"data row1 col0\" >hconres1</td>\n",
       "      <td id=\"T_2bd8a_row1_col1\" class=\"data row1 col1\" >Official Title as Introduced</td>\n",
       "      <td id=\"T_2bd8a_row1_col2\" class=\"data row1 col2\" >Regarding consent to assemble outside the seat of government.</td>\n",
       "      <td id=\"T_2bd8a_row1_col3\" class=\"data row1 col3\" >nan</td>\n",
       "      <td id=\"T_2bd8a_row1_col4\" class=\"data row1 col4\" >nan</td>\n",
       "      <td id=\"T_2bd8a_row1_col5\" class=\"data row1 col5\" >nan</td>\n",
       "      <td id=\"T_2bd8a_row1_col6\" class=\"data row1 col6\" >nan</td>\n",
       "      <td id=\"T_2bd8a_row1_col7\" class=\"data row1 col7\" >nan</td>\n",
       "      <td id=\"T_2bd8a_row1_col8\" class=\"data row1 col8\" >nan</td>\n",
       "      <td id=\"T_2bd8a_row1_col9\" class=\"data row1 col9\" >nan</td>\n",
       "    </tr>\n",
       "    <tr>\n",
       "      <th id=\"T_2bd8a_level0_row2\" class=\"row_heading level0 row2\" >2</th>\n",
       "      <td id=\"T_2bd8a_row2_col0\" class=\"data row2 col0\" >hconres10</td>\n",
       "      <td id=\"T_2bd8a_row2_col1\" class=\"data row2 col1\" >Display Title</td>\n",
       "      <td id=\"T_2bd8a_row2_col2\" class=\"data row2 col2\" >Expressing the sense of Congress that the United States should resume normal diplomatic relations with Taiwan, negotiate a bilateral free trade agreement with Taiwan, and support Taiwan's membership in international organizations.</td>\n",
       "      <td id=\"T_2bd8a_row2_col3\" class=\"data row2 col3\" >45</td>\n",
       "      <td id=\"T_2bd8a_row2_col4\" class=\"data row2 col4\" >nan</td>\n",
       "      <td id=\"T_2bd8a_row2_col5\" class=\"data row2 col5\" >nan</td>\n",
       "      <td id=\"T_2bd8a_row2_col6\" class=\"data row2 col6\" >nan</td>\n",
       "      <td id=\"T_2bd8a_row2_col7\" class=\"data row2 col7\" >nan</td>\n",
       "      <td id=\"T_2bd8a_row2_col8\" class=\"data row2 col8\" >nan</td>\n",
       "      <td id=\"T_2bd8a_row2_col9\" class=\"data row2 col9\" >nan</td>\n",
       "    </tr>\n",
       "    <tr>\n",
       "      <th id=\"T_2bd8a_level0_row3\" class=\"row_heading level0 row3\" >3</th>\n",
       "      <td id=\"T_2bd8a_row3_col0\" class=\"data row3 col0\" >hconres10</td>\n",
       "      <td id=\"T_2bd8a_row3_col1\" class=\"data row3 col1\" >Official Title as Introduced</td>\n",
       "      <td id=\"T_2bd8a_row3_col2\" class=\"data row3 col2\" >Expressing the sense of Congress that the United States should resume normal diplomatic relations with Taiwan, negotiate a bilateral free trade agreement with Taiwan, and support Taiwan's membership in international organizations.</td>\n",
       "      <td id=\"T_2bd8a_row3_col3\" class=\"data row3 col3\" >6</td>\n",
       "      <td id=\"T_2bd8a_row3_col4\" class=\"data row3 col4\" >Introduced in House</td>\n",
       "      <td id=\"T_2bd8a_row3_col5\" class=\"data row3 col5\" >IH</td>\n",
       "      <td id=\"T_2bd8a_row3_col6\" class=\"data row3 col6\" >nan</td>\n",
       "      <td id=\"T_2bd8a_row3_col7\" class=\"data row3 col7\" >nan</td>\n",
       "      <td id=\"T_2bd8a_row3_col8\" class=\"data row3 col8\" >nan</td>\n",
       "      <td id=\"T_2bd8a_row3_col9\" class=\"data row3 col9\" >nan</td>\n",
       "    </tr>\n",
       "    <tr>\n",
       "      <th id=\"T_2bd8a_level0_row4\" class=\"row_heading level0 row4\" >4</th>\n",
       "      <td id=\"T_2bd8a_row4_col0\" class=\"data row4 col0\" >hconres100</td>\n",
       "      <td id=\"T_2bd8a_row4_col1\" class=\"data row4 col1\" >Display Title</td>\n",
       "      <td id=\"T_2bd8a_row4_col2\" class=\"data row4 col2\" >Directing the Clerk of the House of Representatives to make a correction in the enrollment of H.R. 2882.</td>\n",
       "      <td id=\"T_2bd8a_row4_col3\" class=\"data row4 col3\" >45</td>\n",
       "      <td id=\"T_2bd8a_row4_col4\" class=\"data row4 col4\" >nan</td>\n",
       "      <td id=\"T_2bd8a_row4_col5\" class=\"data row4 col5\" >nan</td>\n",
       "      <td id=\"T_2bd8a_row4_col6\" class=\"data row4 col6\" >nan</td>\n",
       "      <td id=\"T_2bd8a_row4_col7\" class=\"data row4 col7\" >nan</td>\n",
       "      <td id=\"T_2bd8a_row4_col8\" class=\"data row4 col8\" >nan</td>\n",
       "      <td id=\"T_2bd8a_row4_col9\" class=\"data row4 col9\" >nan</td>\n",
       "    </tr>\n",
       "  </tbody>\n",
       "</table>\n"
      ],
      "text/plain": [
       "<pandas.io.formats.style.Styler at 0x2064c287c20>"
      ]
     },
     "execution_count": 178,
     "metadata": {},
     "output_type": "execute_result"
    }
   ],
   "source": [
    "# Review titles_df\n",
    "titles_df.head().style.set_table_styles(def_style)"
   ]
  },
  {
   "cell_type": "code",
   "execution_count": 179,
   "metadata": {},
   "outputs": [
    {
     "data": {
      "text/plain": [
       "(45950, 10)"
      ]
     },
     "execution_count": 179,
     "metadata": {},
     "output_type": "execute_result"
    }
   ],
   "source": [
    "# Review shape of dataframe\n",
    "titles_df.shape"
   ]
  },
  {
   "cell_type": "code",
   "execution_count": 180,
   "metadata": {},
   "outputs": [],
   "source": [
    "# Delete duplicates and nan columns\n",
    "titles_df.drop_duplicates(inplace=True)\n",
    "titles_df.dropna(axis=1, how='all', inplace=True)"
   ]
  },
  {
   "cell_type": "code",
   "execution_count": 181,
   "metadata": {},
   "outputs": [
    {
     "data": {
      "text/plain": [
       "Index(['id', 'itemtitleType', 'itemtitle', 'itemtitleTypeCode',\n",
       "       'itembillTextVersionName', 'itembillTextVersionCode', 'itemchamberCode',\n",
       "       'itemchamberName', 'itemsourceSystemcode', 'itemsourceSystemname'],\n",
       "      dtype='object')"
      ]
     },
     "execution_count": 181,
     "metadata": {},
     "output_type": "execute_result"
    }
   ],
   "source": [
    "# Review column names\n",
    "titles_df.columns"
   ]
  },
  {
   "cell_type": "code",
   "execution_count": 182,
   "metadata": {},
   "outputs": [],
   "source": [
    "# Cleanup column names for clarity\n",
    "titles_df.columns = ['id', 'titleType', 'title', 'titleTypeCode', 'billTextVersionName', 'billTextVersionCode', \n",
    "                     'chamberCode', 'chamberName', 'sourceSystemCode', 'sourceSystemName']"
   ]
  },
  {
   "cell_type": "code",
   "execution_count": 183,
   "metadata": {},
   "outputs": [
    {
     "data": {
      "text/plain": [
       "id                         0\n",
       "titleType                  0\n",
       "title                      0\n",
       "titleTypeCode           5954\n",
       "billTextVersionName    16887\n",
       "billTextVersionCode    16887\n",
       "chamberCode            44382\n",
       "chamberName            44382\n",
       "sourceSystemCode       45945\n",
       "sourceSystemName       45945\n",
       "dtype: int64"
      ]
     },
     "execution_count": 183,
     "metadata": {},
     "output_type": "execute_result"
    }
   ],
   "source": [
    "# Review columns with NaN content\n",
    "titles_df.isna().sum()"
   ]
  },
  {
   "cell_type": "code",
   "execution_count": 184,
   "metadata": {},
   "outputs": [],
   "source": [
    "# Set titleTypeCode based on titleType, based on roes that have values\n",
    "type_codes_df = titles_df[~titles_df['titleTypeCode'].isna()][['titleType', 'titleTypeCode']].drop_duplicates()\n",
    "type_codes_dict = type_codes_df.set_index('titleType').to_dict()\n",
    "titles_df['titleTypeCode'] = titles_df['titleType'].map(type_codes_dict['titleTypeCode'])"
   ]
  },
  {
   "cell_type": "code",
   "execution_count": 185,
   "metadata": {},
   "outputs": [
    {
     "data": {
      "text/plain": [
       "id                     object\n",
       "titleType              object\n",
       "title                  object\n",
       "titleTypeCode          object\n",
       "billTextVersionName    object\n",
       "billTextVersionCode    object\n",
       "chamberCode            object\n",
       "chamberName            object\n",
       "sourceSystemCode       object\n",
       "sourceSystemName       object\n",
       "dtype: object"
      ]
     },
     "execution_count": 185,
     "metadata": {},
     "output_type": "execute_result"
    }
   ],
   "source": [
    "# Review datatypes\n",
    "titles_df.dtypes"
   ]
  },
  {
   "cell_type": "code",
   "execution_count": 186,
   "metadata": {},
   "outputs": [],
   "source": [
    "# Covert datatypes\n",
    "titles_df['titleTypeCode'] = titles_df['titleTypeCode'].astype('int')"
   ]
  },
  {
   "cell_type": "code",
   "execution_count": 187,
   "metadata": {},
   "outputs": [
    {
     "data": {
      "text/plain": [
       "array(['hconres1', 'hconres10', 'hconres100', ..., 'sres97', 'sres98',\n",
       "       'sres99'], dtype=object)"
      ]
     },
     "execution_count": 187,
     "metadata": {},
     "output_type": "execute_result"
    }
   ],
   "source": [
    "# Reivew id data\n",
    "titles_df['id'].unique()"
   ]
  },
  {
   "cell_type": "code",
   "execution_count": 188,
   "metadata": {},
   "outputs": [
    {
     "data": {
      "text/plain": [
       "array(['Display Title', 'Official Title as Introduced',\n",
       "       'Short Title(s) as Introduced',\n",
       "       'Official Titles as Amended by House',\n",
       "       'Short Title(s) as Introduced for portions of this bill',\n",
       "       'Short Title(s) as Passed House for portions of this bill',\n",
       "       'Short Title(s) as Passed House',\n",
       "       'Short Title(s) as Reported to House',\n",
       "       'Short Titles as Passed Senate', 'Short Titles as Enacted'],\n",
       "      dtype=object)"
      ]
     },
     "execution_count": 188,
     "metadata": {},
     "output_type": "execute_result"
    }
   ],
   "source": [
    "# Review titleType\n",
    "titles_df['titleType'].unique()[:10]"
   ]
  },
  {
   "cell_type": "code",
   "execution_count": 189,
   "metadata": {},
   "outputs": [
    {
     "data": {
      "text/plain": [
       "array(['Regarding consent to assemble outside the seat of government.',\n",
       "       \"Expressing the sense of Congress that the United States should resume normal diplomatic relations with Taiwan, negotiate a bilateral free trade agreement with Taiwan, and support Taiwan's membership in international organizations.\",\n",
       "       'Directing the Clerk of the House of Representatives to make a correction in the enrollment of H.R. 2882.',\n",
       "       'Recognizing the need to improve physical access to many federally funded facilities for all people of the United States, particularly people with disabilities.',\n",
       "       'Supporting the goals and ideals of International Transgender Day of Visibility.'],\n",
       "      dtype=object)"
      ]
     },
     "execution_count": 189,
     "metadata": {},
     "output_type": "execute_result"
    }
   ],
   "source": [
    "# Review title\n",
    "titles_df['title'].unique()[:5]"
   ]
  },
  {
   "cell_type": "code",
   "execution_count": 190,
   "metadata": {},
   "outputs": [
    {
     "data": {
      "text/plain": [
       "array([ 45,   6, 101,   7, 106, 109, 104, 102,  18,  19, 103, 107,  17,\n",
       "        27,  30,  26,  23,  14, 147,   9,  25,  22, 105,   8, 108, 110,\n",
       "       250,  24, 253])"
      ]
     },
     "execution_count": 190,
     "metadata": {},
     "output_type": "execute_result"
    }
   ],
   "source": [
    "# Review titleTypeCode\n",
    "titles_df['titleTypeCode'].unique()"
   ]
  },
  {
   "cell_type": "code",
   "execution_count": 191,
   "metadata": {},
   "outputs": [
    {
     "data": {
      "text/plain": [
       "array([nan, 'Introduced in House', 'Engrossed in House',\n",
       "       'Reported in House', 'Reported to Senate', 'Introduced in Senate',\n",
       "       'Engrossed in Senate', 'Enrolled Bill'], dtype=object)"
      ]
     },
     "execution_count": 191,
     "metadata": {},
     "output_type": "execute_result"
    }
   ],
   "source": [
    "# Review billTextVersionName data\n",
    "titles_df['billTextVersionName'].unique()"
   ]
  },
  {
   "cell_type": "code",
   "execution_count": 192,
   "metadata": {},
   "outputs": [
    {
     "data": {
      "text/plain": [
       "array([nan, 'IH', 'EH', 'RH', 'RS', 'IS', 'ES', 'ENR'], dtype=object)"
      ]
     },
     "execution_count": 192,
     "metadata": {},
     "output_type": "execute_result"
    }
   ],
   "source": [
    "# Review billTextVersionCode data\n",
    "titles_df['billTextVersionCode'].unique()"
   ]
  },
  {
   "cell_type": "code",
   "execution_count": 193,
   "metadata": {},
   "outputs": [
    {
     "data": {
      "text/plain": [
       "array([nan, 'H', 'S', 'J'], dtype=object)"
      ]
     },
     "execution_count": 193,
     "metadata": {},
     "output_type": "execute_result"
    }
   ],
   "source": [
    "# Review chamberCode data\n",
    "titles_df['chamberCode'].unique()"
   ]
  },
  {
   "cell_type": "code",
   "execution_count": 194,
   "metadata": {},
   "outputs": [
    {
     "data": {
      "text/plain": [
       "array([nan, 'House', 'Senate', 'Joint'], dtype=object)"
      ]
     },
     "execution_count": 194,
     "metadata": {},
     "output_type": "execute_result"
    }
   ],
   "source": [
    "# Review chamberName data\n",
    "titles_df['chamberName'].unique()"
   ]
  },
  {
   "cell_type": "code",
   "execution_count": 195,
   "metadata": {},
   "outputs": [
    {
     "data": {
      "text/plain": [
       "array([nan, '9'], dtype=object)"
      ]
     },
     "execution_count": 195,
     "metadata": {},
     "output_type": "execute_result"
    }
   ],
   "source": [
    "# Review sourceSystemCode data\n",
    "titles_df['sourceSystemCode'].unique()"
   ]
  },
  {
   "cell_type": "code",
   "execution_count": 196,
   "metadata": {},
   "outputs": [
    {
     "data": {
      "text/plain": [
       "array([nan, 'Library of Congress'], dtype=object)"
      ]
     },
     "execution_count": 196,
     "metadata": {},
     "output_type": "execute_result"
    }
   ],
   "source": [
    "# Review sourceSystemName data\n",
    "titles_df['sourceSystemName'].unique()"
   ]
  },
  {
   "cell_type": "code",
   "execution_count": 197,
   "metadata": {},
   "outputs": [
    {
     "data": {
      "text/html": [
       "<style type=\"text/css\">\n",
       "#T_89b0c td {\n",
       "  white-space: nowrap;\n",
       "  max-width: 300px;\n",
       "  text-overflow: ellipsis;\n",
       "  overflow: hidden;\n",
       "}\n",
       "</style>\n",
       "<table id=\"T_89b0c\">\n",
       "  <thead>\n",
       "    <tr>\n",
       "      <th class=\"blank level0\" >&nbsp;</th>\n",
       "      <th id=\"T_89b0c_level0_col0\" class=\"col_heading level0 col0\" >id</th>\n",
       "      <th id=\"T_89b0c_level0_col1\" class=\"col_heading level0 col1\" >titleType</th>\n",
       "      <th id=\"T_89b0c_level0_col2\" class=\"col_heading level0 col2\" >title</th>\n",
       "      <th id=\"T_89b0c_level0_col3\" class=\"col_heading level0 col3\" >titleTypeCode</th>\n",
       "      <th id=\"T_89b0c_level0_col4\" class=\"col_heading level0 col4\" >billTextVersionName</th>\n",
       "      <th id=\"T_89b0c_level0_col5\" class=\"col_heading level0 col5\" >billTextVersionCode</th>\n",
       "      <th id=\"T_89b0c_level0_col6\" class=\"col_heading level0 col6\" >chamberCode</th>\n",
       "      <th id=\"T_89b0c_level0_col7\" class=\"col_heading level0 col7\" >chamberName</th>\n",
       "      <th id=\"T_89b0c_level0_col8\" class=\"col_heading level0 col8\" >sourceSystemCode</th>\n",
       "      <th id=\"T_89b0c_level0_col9\" class=\"col_heading level0 col9\" >sourceSystemName</th>\n",
       "    </tr>\n",
       "  </thead>\n",
       "  <tbody>\n",
       "    <tr>\n",
       "      <th id=\"T_89b0c_level0_row0\" class=\"row_heading level0 row0\" >0</th>\n",
       "      <td id=\"T_89b0c_row0_col0\" class=\"data row0 col0\" >hconres1</td>\n",
       "      <td id=\"T_89b0c_row0_col1\" class=\"data row0 col1\" >Display Title</td>\n",
       "      <td id=\"T_89b0c_row0_col2\" class=\"data row0 col2\" >Regarding consent to assemble outside the seat of government.</td>\n",
       "      <td id=\"T_89b0c_row0_col3\" class=\"data row0 col3\" >45</td>\n",
       "      <td id=\"T_89b0c_row0_col4\" class=\"data row0 col4\" >nan</td>\n",
       "      <td id=\"T_89b0c_row0_col5\" class=\"data row0 col5\" >nan</td>\n",
       "      <td id=\"T_89b0c_row0_col6\" class=\"data row0 col6\" >nan</td>\n",
       "      <td id=\"T_89b0c_row0_col7\" class=\"data row0 col7\" >nan</td>\n",
       "      <td id=\"T_89b0c_row0_col8\" class=\"data row0 col8\" >nan</td>\n",
       "      <td id=\"T_89b0c_row0_col9\" class=\"data row0 col9\" >nan</td>\n",
       "    </tr>\n",
       "    <tr>\n",
       "      <th id=\"T_89b0c_level0_row1\" class=\"row_heading level0 row1\" >1</th>\n",
       "      <td id=\"T_89b0c_row1_col0\" class=\"data row1 col0\" >hconres1</td>\n",
       "      <td id=\"T_89b0c_row1_col1\" class=\"data row1 col1\" >Official Title as Introduced</td>\n",
       "      <td id=\"T_89b0c_row1_col2\" class=\"data row1 col2\" >Regarding consent to assemble outside the seat of government.</td>\n",
       "      <td id=\"T_89b0c_row1_col3\" class=\"data row1 col3\" >6</td>\n",
       "      <td id=\"T_89b0c_row1_col4\" class=\"data row1 col4\" >nan</td>\n",
       "      <td id=\"T_89b0c_row1_col5\" class=\"data row1 col5\" >nan</td>\n",
       "      <td id=\"T_89b0c_row1_col6\" class=\"data row1 col6\" >nan</td>\n",
       "      <td id=\"T_89b0c_row1_col7\" class=\"data row1 col7\" >nan</td>\n",
       "      <td id=\"T_89b0c_row1_col8\" class=\"data row1 col8\" >nan</td>\n",
       "      <td id=\"T_89b0c_row1_col9\" class=\"data row1 col9\" >nan</td>\n",
       "    </tr>\n",
       "    <tr>\n",
       "      <th id=\"T_89b0c_level0_row2\" class=\"row_heading level0 row2\" >2</th>\n",
       "      <td id=\"T_89b0c_row2_col0\" class=\"data row2 col0\" >hconres10</td>\n",
       "      <td id=\"T_89b0c_row2_col1\" class=\"data row2 col1\" >Display Title</td>\n",
       "      <td id=\"T_89b0c_row2_col2\" class=\"data row2 col2\" >Expressing the sense of Congress that the United States should resume normal diplomatic relations with Taiwan, negotiate a bilateral free trade agreement with Taiwan, and support Taiwan's membership in international organizations.</td>\n",
       "      <td id=\"T_89b0c_row2_col3\" class=\"data row2 col3\" >45</td>\n",
       "      <td id=\"T_89b0c_row2_col4\" class=\"data row2 col4\" >nan</td>\n",
       "      <td id=\"T_89b0c_row2_col5\" class=\"data row2 col5\" >nan</td>\n",
       "      <td id=\"T_89b0c_row2_col6\" class=\"data row2 col6\" >nan</td>\n",
       "      <td id=\"T_89b0c_row2_col7\" class=\"data row2 col7\" >nan</td>\n",
       "      <td id=\"T_89b0c_row2_col8\" class=\"data row2 col8\" >nan</td>\n",
       "      <td id=\"T_89b0c_row2_col9\" class=\"data row2 col9\" >nan</td>\n",
       "    </tr>\n",
       "    <tr>\n",
       "      <th id=\"T_89b0c_level0_row3\" class=\"row_heading level0 row3\" >3</th>\n",
       "      <td id=\"T_89b0c_row3_col0\" class=\"data row3 col0\" >hconres10</td>\n",
       "      <td id=\"T_89b0c_row3_col1\" class=\"data row3 col1\" >Official Title as Introduced</td>\n",
       "      <td id=\"T_89b0c_row3_col2\" class=\"data row3 col2\" >Expressing the sense of Congress that the United States should resume normal diplomatic relations with Taiwan, negotiate a bilateral free trade agreement with Taiwan, and support Taiwan's membership in international organizations.</td>\n",
       "      <td id=\"T_89b0c_row3_col3\" class=\"data row3 col3\" >6</td>\n",
       "      <td id=\"T_89b0c_row3_col4\" class=\"data row3 col4\" >Introduced in House</td>\n",
       "      <td id=\"T_89b0c_row3_col5\" class=\"data row3 col5\" >IH</td>\n",
       "      <td id=\"T_89b0c_row3_col6\" class=\"data row3 col6\" >nan</td>\n",
       "      <td id=\"T_89b0c_row3_col7\" class=\"data row3 col7\" >nan</td>\n",
       "      <td id=\"T_89b0c_row3_col8\" class=\"data row3 col8\" >nan</td>\n",
       "      <td id=\"T_89b0c_row3_col9\" class=\"data row3 col9\" >nan</td>\n",
       "    </tr>\n",
       "    <tr>\n",
       "      <th id=\"T_89b0c_level0_row4\" class=\"row_heading level0 row4\" >4</th>\n",
       "      <td id=\"T_89b0c_row4_col0\" class=\"data row4 col0\" >hconres100</td>\n",
       "      <td id=\"T_89b0c_row4_col1\" class=\"data row4 col1\" >Display Title</td>\n",
       "      <td id=\"T_89b0c_row4_col2\" class=\"data row4 col2\" >Directing the Clerk of the House of Representatives to make a correction in the enrollment of H.R. 2882.</td>\n",
       "      <td id=\"T_89b0c_row4_col3\" class=\"data row4 col3\" >45</td>\n",
       "      <td id=\"T_89b0c_row4_col4\" class=\"data row4 col4\" >nan</td>\n",
       "      <td id=\"T_89b0c_row4_col5\" class=\"data row4 col5\" >nan</td>\n",
       "      <td id=\"T_89b0c_row4_col6\" class=\"data row4 col6\" >nan</td>\n",
       "      <td id=\"T_89b0c_row4_col7\" class=\"data row4 col7\" >nan</td>\n",
       "      <td id=\"T_89b0c_row4_col8\" class=\"data row4 col8\" >nan</td>\n",
       "      <td id=\"T_89b0c_row4_col9\" class=\"data row4 col9\" >nan</td>\n",
       "    </tr>\n",
       "  </tbody>\n",
       "</table>\n"
      ],
      "text/plain": [
       "<pandas.io.formats.style.Styler at 0x20649c3a450>"
      ]
     },
     "execution_count": 197,
     "metadata": {},
     "output_type": "execute_result"
    }
   ],
   "source": [
    "# Final review titles_df\n",
    "titles_df.head().style.set_table_styles(def_style)"
   ]
  },
  {
   "cell_type": "markdown",
   "metadata": {
    "tags": []
   },
   "source": [
    "***\n",
    "# Save to CSV\n",
    "***"
   ]
  },
  {
   "cell_type": "code",
   "execution_count": 198,
   "metadata": {},
   "outputs": [],
   "source": [
    "# Save loaded data to CSV files to shorten processing on subsequent iterations of code cleanup\n",
    "bills_df.to_csv('bills.csv', index=False)\n",
    "committees_df.to_csv('committees.csv', index=False)\n",
    "related_bills_df.to_csv('related_bills.csv', index=False)\n",
    "actions_df.to_csv('actions.csv', index=False)\n",
    "sponsors_df.to_csv('sponsors.csv', index=False)\n",
    "cosponsors_df.to_csv('cosponsors.csv', index=False)\n",
    "subjects_df.to_csv('subjects.csv', index=False)\n",
    "summaries_df.to_csv('summaries.csv', index=False)\n",
    "titles_df.to_csv('titles.csv', index=False)"
   ]
  },
  {
   "cell_type": "markdown",
   "metadata": {},
   "source": [
    "***\n",
    "**End**\n",
    "***"
   ]
  }
 ],
 "metadata": {
  "kernelspec": {
   "display_name": "Python 3 (ipykernel)",
   "language": "python",
   "name": "python3"
  },
  "language_info": {
   "codemirror_mode": {
    "name": "ipython",
    "version": 3
   },
   "file_extension": ".py",
   "mimetype": "text/x-python",
   "name": "python",
   "nbconvert_exporter": "python",
   "pygments_lexer": "ipython3",
   "version": "3.12.2"
  }
 },
 "nbformat": 4,
 "nbformat_minor": 4
}
